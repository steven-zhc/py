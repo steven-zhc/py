{
 "cells": [
  {
   "cell_type": "markdown",
   "id": "b708144b",
   "metadata": {},
   "source": [
    "# Linked List"
   ]
  },
  {
   "cell_type": "code",
   "execution_count": 2,
   "id": "4ce62bec",
   "metadata": {},
   "outputs": [],
   "source": [
    "from typing import Optional\n",
    "\n",
    "class ListNode:\n",
    "    def __init__(self, val=0, next=None):\n",
    "        self.val = val\n",
    "        self.next = next"
   ]
  },
  {
   "cell_type": "code",
   "execution_count": 3,
   "id": "f028e3e7",
   "metadata": {},
   "outputs": [],
   "source": [
    "def make(values: list[int]) -> Optional[ListNode]:\n",
    "    if not values:\n",
    "        return None\n",
    "    head = ListNode(values[0])\n",
    "    current = head\n",
    "    for val in values[1:]:\n",
    "        current.next = ListNode(val)\n",
    "        current = current.next\n",
    "    return head\n",
    "\n",
    "def compare(l1: Optional[ListNode], l2: Optional[ListNode]) -> bool:\n",
    "    while l1 and l2:\n",
    "        if l1.val != l2.val:\n",
    "            return False\n",
    "        l1 = l1.next\n",
    "        l2 = l2.next\n",
    "    return l1 is None and l2 is None\n"
   ]
  },
  {
   "cell_type": "markdown",
   "id": "32c8733d",
   "metadata": {},
   "source": [
    "## 206. Reverse Linked List\n",
    "\n",
    "Description\n",
    "Given the head of a singly linked list, reverse the list, and return the reversed list.\n",
    "\n",
    "- Input: head = [1,2,3,4,5]\n",
    "- Output: [5,4,3,2,1]\n"
   ]
  },
  {
   "cell_type": "code",
   "execution_count": 4,
   "id": "8e39642a",
   "metadata": {},
   "outputs": [],
   "source": [
    "class Solution206:\n",
    "    def reverseList(self, head: Optional[ListNode]) -> Optional[ListNode]:\n",
    "        if not head:\n",
    "            return None\n",
    "        p, c = None, head\n",
    "        while c:\n",
    "            t = c.next\n",
    "            c.next = p\n",
    "            p = c\n",
    "            c = t\n",
    "        \n",
    "        return p"
   ]
  },
  {
   "cell_type": "code",
   "execution_count": 5,
   "id": "99d712d2",
   "metadata": {},
   "outputs": [
    {
     "name": "stdout",
     "output_type": "stream",
     "text": [
      "Test passed!\n"
     ]
    }
   ],
   "source": [
    "def test_Solution206():\n",
    "    input_list = [1, 2, 3, 4, 5]\n",
    "    expected_output = [5, 4, 3, 2, 1]\n",
    "    head = make(input_list)\n",
    "    result = Solution206().reverseList(head)\n",
    "    assert compare(result, make(expected_output)), \"Test failed!\"\n",
    "    print(\"Test passed!\")\n",
    "\n",
    "test_Solution206()"
   ]
  },
  {
   "cell_type": "markdown",
   "id": "226a70d5",
   "metadata": {},
   "source": [
    "## 92. Reverse Linked List II\n",
    "\n",
    "Given the head of a singly linked list and two integers left and right where left <= right, reverse the nodes of the list from position left to position right, and return the reversed list.\n",
    "\n",
    "Example\n",
    "\n",
    "- Input: head = [1,2,3,4,5], left = 2, right = 4\n",
    "- Output: [1,4,3,2,5]"
   ]
  },
  {
   "cell_type": "code",
   "execution_count": 6,
   "id": "98babe32",
   "metadata": {},
   "outputs": [],
   "source": [
    "class Solution92:\n",
    "    def findK(self, head: ListNode, index: int) -> Optional[ListNode]:\n",
    "        for _ in range(index):\n",
    "            if not head:\n",
    "                return None\n",
    "            head = head.next\n",
    "        return head\n",
    "\n",
    "    def reverse(self, head: ListNode):\n",
    "        prev = None\n",
    "        while head:\n",
    "            t = head.next\n",
    "            head.next = prev\n",
    "\n",
    "            prev = head\n",
    "            head = t\n",
    "        \n",
    "        return prev\n",
    "\n",
    "        \n",
    "    def reverseBetween(self, head: Optional[ListNode], left: int, right: int) -> Optional[ListNode]:\n",
    "        if not head:\n",
    "            return None\n",
    "        root = ListNode(-1, head)\n",
    "\n",
    "        l_prev = self.findK(root, left - 1)\n",
    "        l = l_prev.next\n",
    "        \n",
    "        r = self.findK(root, right)\n",
    "        r_next = r.next\n",
    "        r.next = None\n",
    "\n",
    "        l_prev.next = r\n",
    "        self.reverse(l)\n",
    "\n",
    "        l_prev.next = r\n",
    "        l.next = r_next\n",
    "        \n",
    "        return root.next"
   ]
  },
  {
   "cell_type": "code",
   "execution_count": 7,
   "id": "bf67dff9",
   "metadata": {},
   "outputs": [
    {
     "name": "stdout",
     "output_type": "stream",
     "text": [
      "Test passed!\n"
     ]
    }
   ],
   "source": [
    "def test_Solution92():\n",
    "    input_list = [1, 2, 3, 4, 5]\n",
    "    left, right = 2, 4\n",
    "    expected_output = [1, 4, 3, 2, 5]\n",
    "    head = make(input_list)\n",
    "    result = Solution92().reverseBetween(head, left, right)\n",
    "    assert compare(result, make(expected_output)), \"Test failed!\"\n",
    "    print(\"Test passed!\")\n",
    "\n",
    "test_Solution92()"
   ]
  },
  {
   "cell_type": "markdown",
   "id": "18f136f2",
   "metadata": {},
   "source": [
    "## 21. Merge Two Sorted Lists\n",
    "\n",
    "You are given the heads of two sorted linked lists list1 and list2.\n",
    "\n",
    "Merge the two lists into one sorted list. The list should be made by splicing together the nodes of the first two lists.\n",
    "\n",
    "Return the head of the merged linked list.\n",
    "\n",
    "> Input: list1 = [1,2,4], list2 = [1,3,4]\n",
    "> Output: [1,1,2,3,4,4]"
   ]
  },
  {
   "cell_type": "code",
   "execution_count": 8,
   "id": "7b2b65d4",
   "metadata": {},
   "outputs": [],
   "source": [
    "# Definition for singly-linked list.\n",
    "# class ListNode:\n",
    "#     def __init__(self, val=0, next=None):\n",
    "#         self.val = val\n",
    "#         self.next = next\n",
    "class Solution21:\n",
    "    def mergeTwoLists(self, list1: Optional[ListNode], list2: Optional[ListNode]) -> Optional[ListNode]:\n",
    "        p1, p2 = list1, list2\n",
    "        curr = ListNode(-101)\n",
    "        result = curr\n",
    "        while p1 or p2:\n",
    "            if not p1:\n",
    "                curr.next = p2\n",
    "                break\n",
    "            if not p2:\n",
    "                curr.next = p1\n",
    "                break\n",
    "            if p1.val <= p2.val:\n",
    "                curr.next = p1\n",
    "                p1 = p1.next\n",
    "            else:\n",
    "                curr.next = p2\n",
    "                p2 = p2.next\n",
    "            curr = curr.next\n",
    "        \n",
    "        return result.next"
   ]
  },
  {
   "cell_type": "code",
   "execution_count": 9,
   "id": "546fd489",
   "metadata": {},
   "outputs": [
    {
     "name": "stdout",
     "output_type": "stream",
     "text": [
      "Test passed!\n"
     ]
    }
   ],
   "source": [
    "def test_Solution21():\n",
    "    input_list1 = [1, 2, 4]\n",
    "    input_list2 = [1, 3, 4]\n",
    "    expected_output = [1, 1, 2, 3, 4, 4]\n",
    "    list1 = make(input_list1)\n",
    "    list2 = make(input_list2)\n",
    "    result = Solution21().mergeTwoLists(list1, list2)\n",
    "    assert compare(result, make(expected_output)), \"Test failed!\"\n",
    "    print(\"Test passed!\")\n",
    "\n",
    "test_Solution21()"
   ]
  },
  {
   "cell_type": "markdown",
   "id": "b8146da6",
   "metadata": {},
   "source": [
    "## 86. Partition List\n",
    "Given the head of a linked list and a value x, partition it such that all nodes less than x come before nodes greater than or equal to x.\n",
    "\n",
    "You should preserve the original relative order of the nodes in each of the two partitions.\n",
    "\n",
    "Input: head = [1,4,3,2,5,2], x = 3\n",
    "\n",
    "Output: [1,2,2,4,3,5]"
   ]
  },
  {
   "cell_type": "code",
   "execution_count": 10,
   "id": "43447d73",
   "metadata": {},
   "outputs": [],
   "source": [
    "class Solution86:\n",
    "    def partition(self, head: Optional[ListNode], x: int) -> Optional[ListNode]:\n",
    "        leftHead = ListNode()\n",
    "        left = leftHead\n",
    "\n",
    "        rightHead = ListNode()\n",
    "        right = rightHead\n",
    "\n",
    "        while head:\n",
    "            if head.val < x:\n",
    "                left.next = head\n",
    "                left = left.next\n",
    "            else:\n",
    "                right.next = head\n",
    "                right = right.next\n",
    "            head = head.next\n",
    "        right.next = None\n",
    "        \n",
    "        left.next = rightHead.next\n",
    "        return leftHead.next"
   ]
  },
  {
   "cell_type": "code",
   "execution_count": 11,
   "id": "377bbdf5",
   "metadata": {},
   "outputs": [
    {
     "name": "stdout",
     "output_type": "stream",
     "text": [
      "Test passed!\n"
     ]
    }
   ],
   "source": [
    "def test_Solution86():\n",
    "    input_list = [1, 4, 3, 2, 5, 2]\n",
    "    x = 3\n",
    "    expected_output = [1, 2, 2, 4, 3, 5]\n",
    "    head = make(input_list)\n",
    "    result = Solution86().partition(head, x)\n",
    "    assert compare(result, make(expected_output)), \"Test failed!\"\n",
    "    print(\"Test passed!\")\n",
    "\n",
    "test_Solution86()"
   ]
  },
  {
   "cell_type": "markdown",
   "id": "e77109b1",
   "metadata": {},
   "source": [
    "## 148. Sort List\n",
    "\n",
    "Given the head of a linked list, return the list after sorting it in ascending order.\n",
    "\n",
    "Input: head = [4,2,1,3]\n",
    "\n",
    "Output: [1,2,3,4]"
   ]
  },
  {
   "cell_type": "code",
   "execution_count": null,
   "id": "704efacf",
   "metadata": {},
   "outputs": [],
   "source": []
  },
  {
   "cell_type": "code",
   "execution_count": null,
   "id": "4645036e",
   "metadata": {},
   "outputs": [],
   "source": []
  }
 ],
 "metadata": {
  "kernelspec": {
   "display_name": "py (3.11.13)",
   "language": "python",
   "name": "python3"
  },
  "language_info": {
   "codemirror_mode": {
    "name": "ipython",
    "version": 3
   },
   "file_extension": ".py",
   "mimetype": "text/x-python",
   "name": "python",
   "nbconvert_exporter": "python",
   "pygments_lexer": "ipython3",
   "version": "3.11.13"
  }
 },
 "nbformat": 4,
 "nbformat_minor": 5
}
