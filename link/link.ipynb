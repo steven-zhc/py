{
 "cells": [
  {
   "cell_type": "markdown",
   "id": "b708144b",
   "metadata": {},
   "source": [
    "# Linked List"
   ]
  },
  {
   "cell_type": "code",
   "execution_count": 7,
   "id": "4ce62bec",
   "metadata": {},
   "outputs": [],
   "source": [
    "from typing import Optional\n",
    "\n",
    "class ListNode:\n",
    "    def __init__(self, val=0, next=None):\n",
    "        self.val = val\n",
    "        self.next = next"
   ]
  },
  {
   "cell_type": "code",
   "execution_count": 8,
   "id": "f028e3e7",
   "metadata": {},
   "outputs": [],
   "source": [
    "def make(values: list[int]) -> Optional[ListNode]:\n",
    "    if not values:\n",
    "        return None\n",
    "    head = ListNode(values[0])\n",
    "    current = head\n",
    "    for val in values[1:]:\n",
    "        current.next = ListNode(val)\n",
    "        current = current.next\n",
    "    return head\n",
    "\n",
    "def compare(l1: Optional[ListNode], l2: Optional[ListNode]) -> bool:\n",
    "    while l1 and l2:\n",
    "        if l1.val != l2.val:\n",
    "            return False\n",
    "        l1 = l1.next\n",
    "        l2 = l2.next\n",
    "    return l1 is None and l2 is None\n"
   ]
  },
  {
   "cell_type": "markdown",
   "id": "32c8733d",
   "metadata": {},
   "source": [
    "## 206. Reverse Linked List\n",
    "\n",
    "Description\n",
    "Given the head of a singly linked list, reverse the list, and return the reversed list.\n",
    "\n",
    "- Input: head = [1,2,3,4,5]\n",
    "- Output: [5,4,3,2,1]\n"
   ]
  },
  {
   "cell_type": "code",
   "execution_count": 9,
   "id": "8e39642a",
   "metadata": {},
   "outputs": [],
   "source": [
    "class Solution206:\n",
    "    def reverseList(self, head: Optional[ListNode]) -> Optional[ListNode]:\n",
    "        if not head:\n",
    "            return None\n",
    "        p, c = None, head\n",
    "        while c:\n",
    "            t = c.next\n",
    "            c.next = p\n",
    "            p = c\n",
    "            c = t\n",
    "        \n",
    "        return p"
   ]
  },
  {
   "cell_type": "code",
   "execution_count": 10,
   "id": "99d712d2",
   "metadata": {},
   "outputs": [
    {
     "name": "stdout",
     "output_type": "stream",
     "text": [
      "Test passed!\n"
     ]
    }
   ],
   "source": [
    "def test_Solution206():\n",
    "    input_list = [1, 2, 3, 4, 5]\n",
    "    expected_output = [5, 4, 3, 2, 1]\n",
    "    head = make(input_list)\n",
    "    result = Solution206().reverseList(head)\n",
    "    assert compare(result, make(expected_output)), \"Test failed!\"\n",
    "    print(\"Test passed!\")\n",
    "\n",
    "test_Solution206()"
   ]
  },
  {
   "cell_type": "markdown",
   "id": "226a70d5",
   "metadata": {},
   "source": [
    "## 92. Reverse Linked List II\n",
    "\n",
    "Given the head of a singly linked list and two integers left and right where left <= right, reverse the nodes of the list from position left to position right, and return the reversed list.\n",
    "\n",
    "Example\n",
    "\n",
    "- Input: head = [1,2,3,4,5], left = 2, right = 4\n",
    "- Output: [1,4,3,2,5]"
   ]
  },
  {
   "cell_type": "code",
   "execution_count": null,
   "id": "98babe32",
   "metadata": {},
   "outputs": [],
   "source": []
  },
  {
   "cell_type": "code",
   "execution_count": null,
   "id": "7b2b65d4",
   "metadata": {},
   "outputs": [],
   "source": []
  },
  {
   "cell_type": "code",
   "execution_count": null,
   "id": "704efacf",
   "metadata": {},
   "outputs": [],
   "source": []
  },
  {
   "cell_type": "code",
   "execution_count": null,
   "id": "4645036e",
   "metadata": {},
   "outputs": [],
   "source": []
  }
 ],
 "metadata": {
  "kernelspec": {
   "display_name": "py (3.11.13)",
   "language": "python",
   "name": "python3"
  },
  "language_info": {
   "codemirror_mode": {
    "name": "ipython",
    "version": 3
   },
   "file_extension": ".py",
   "mimetype": "text/x-python",
   "name": "python",
   "nbconvert_exporter": "python",
   "pygments_lexer": "ipython3",
   "version": "3.11.13"
  }
 },
 "nbformat": 4,
 "nbformat_minor": 5
}
