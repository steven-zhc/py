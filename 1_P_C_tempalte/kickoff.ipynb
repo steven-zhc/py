{
 "cells": [
  {
   "cell_type": "markdown",
   "id": "db693703",
   "metadata": {},
   "source": [
    "# Permutations\n",
    "\n",
    "## 78. Subsets\n",
    "\n",
    "Given an integer array nums of unique elements, return all possible subsets (the power set).\n",
    "\n",
    "The solution set must not contain duplicate subsets. Return the solution in any order.\n",
    "\n"
   ]
  },
  {
   "cell_type": "code",
   "execution_count": null,
   "id": "4b27c964",
   "metadata": {},
   "outputs": [],
   "source": [
    "from collections import List\n",
    "from typing import Optional"
   ]
  },
  {
   "cell_type": "code",
   "execution_count": null,
   "id": "ae213c5c",
   "metadata": {},
   "outputs": [],
   "source": [
    "class Solution78:\n",
    "    def helper(self, nums: List[int], res: list[list[int]], pos: int, path: list[int]):\n",
    "        res.append(path[:])\n",
    "\n",
    "        for i in range(pos, len(nums)):\n",
    "            path.append(nums[i])\n",
    "            self.helper(nums, res, i + 1, path)\n",
    "            path.pop()\n",
    "\n",
    "    def subsets(self, nums: List[int]) -> List[List[int]]:\n",
    "        res = []\n",
    "        self.helper(nums, res, 0, [])\n",
    "\n",
    "        return res"
   ]
  }
 ],
 "metadata": {
  "language_info": {
   "name": "python"
  }
 },
 "nbformat": 4,
 "nbformat_minor": 5
}
