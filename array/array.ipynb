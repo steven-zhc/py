{
 "cells": [
  {
   "cell_type": "markdown",
   "id": "81977b21",
   "metadata": {},
   "source": [
    "# Array Numbers\n",
    "\n"
   ]
  },
  {
   "cell_type": "markdown",
   "id": "c85d90a6",
   "metadata": {},
   "source": [
    "## 796. Rotate String\n",
    "\n",
    "Given two strings s and goal, return true if and only if s can become goal after some number of shifts on s.\n",
    "\n",
    "A shift on s consists of moving the leftmost character of s to the rightmost position.\n",
    "\n",
    "- For example, if s = \"abcde\", then it will be \"bcdea\" after one shift."
   ]
  },
  {
   "cell_type": "code",
   "execution_count": null,
   "id": "f4613997",
   "metadata": {},
   "outputs": [],
   "source": [
    "class Solution796:\n",
    "    def findIdx(self, goal: str, c: chr) -> list[int]: \n",
    "        rlt = []\n",
    "        for i in range(len(goal)):\n",
    "            if goal[i] == c:\n",
    "                rlt.append(i)\n",
    "        return rlt\n",
    "\n",
    "    def reverse(self, goal, start, end):\n",
    "        if not goal:\n",
    "            return\n",
    "        while start <= end:\n",
    "            goal[start], goal[end] = goal[end], goal[start]\n",
    "            start += 1\n",
    "            end -= 1\n",
    "        \n",
    "    def rotateString(self, s: str, goal: str) -> bool:\n",
    "        if not s or not goal or len(s) != len(goal):\n",
    "            return False\n",
    "        \n",
    "        ns = self.findIdx(goal, s[0])\n",
    "\n",
    "        for i in ns:\n",
    "            arr = list(goal)\n",
    "            self.reverse(arr, 0, i - 1)\n",
    "            self.reverse(arr, i, len(arr) - 1)\n",
    "            self.reverse(arr, 0, len(arr) - 1)\n",
    "            if s == \"\".join(arr):\n",
    "                return True\n",
    "\n",
    "        return False\n",
    "        "
   ]
  }
 ],
 "metadata": {
  "kernelspec": {
   "display_name": "py (3.11.13)",
   "language": "python",
   "name": "python3"
  },
  "language_info": {
   "name": "python",
   "version": "3.11.13"
  }
 },
 "nbformat": 4,
 "nbformat_minor": 5
}
