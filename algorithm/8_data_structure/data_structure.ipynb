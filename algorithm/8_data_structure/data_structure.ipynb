{
 "cells": [
  {
   "cell_type": "markdown",
   "id": "f2c6ae6e",
   "metadata": {},
   "source": [
    "# Data Structure\n",
    "\n",
    "Linear Data Structure\n",
    "- Queue\n",
    "- Stack\n",
    "- Hash\n",
    "\n",
    "Tree Data Structure\n",
    "- Heap\n",
    "- Trie\n",
    "\n"
   ]
  },
  {
   "cell_type": "code",
   "execution_count": null,
   "id": "a50224bc",
   "metadata": {},
   "outputs": [],
   "source": [
    "from typing import Optional, List"
   ]
  },
  {
   "cell_type": "markdown",
   "id": "99ab6a9a",
   "metadata": {},
   "source": [
    "# Stack"
   ]
  },
  {
   "cell_type": "markdown",
   "id": "5a4e7583",
   "metadata": {},
   "source": "## 155. Min Stack\n\n[Link](https://leetcode.com/problems/min-stack/description/)\n\nDesign a stack that supports push, pop, top, and retrieving the minimum element in constant time.\n\nImplement the MinStack class:\n\nMinStack() initializes the stack object.\n- void push(int val) pushes the element val onto the stack.\n- void pop() removes the element on the top of the stack.\n- int top() gets the top element of the stack.\n- int getMin() retrieves the minimum element in the stack.\n- You must implement a solution with O(1) time complexity for each function."
  },
  {
   "cell_type": "code",
   "execution_count": null,
   "id": "17303ed8",
   "metadata": {},
   "outputs": [],
   "source": [
    "class MinStack:\n",
    "\n",
    "    def __init__(self):\n",
    "        self.stack = []\n",
    "        self.minStack = []\n",
    "\n",
    "    def push(self, val: int) -> None:\n",
    "        self.stack.append(val)\n",
    "        if not self.minStack:\n",
    "            self.minStack.append(val)\n",
    "        else:\n",
    "            self.minStack.append(min(val, self.minStack[-1]))\n",
    "\n",
    "    def pop(self) -> None:\n",
    "        self.minStack.pop()\n",
    "        return self.stack.pop()\n",
    "\n",
    "    def top(self) -> int:\n",
    "        return self.stack[-1]\n",
    "\n",
    "    def getMin(self) -> int:\n",
    "        return self.minStack[-1]"
   ]
  },
  {
   "cell_type": "markdown",
   "id": "753ea308",
   "metadata": {},
   "source": "## 232. Implement Queue using Stacks\n\n[Link](https://leetcode.com/problems/implement-queue-using-stacks/description/)\n\nImplement a first in first out (FIFO) queue using only two stacks. The implemented queue should support all the functions of a normal queue (push, peek, pop, and empty).\n\nImplement the MyQueue class:\n\n- void push(int x) Pushes element x to the back of the queue.\n- int pop() Removes the element from the front of the queue and returns it.\n- int peek() Returns the element at the front of the queue.\n- boolean empty() Returns true if the queue is empty, false otherwise.\n\n> Notes:\n\n- You must use only standard operations of a stack, which means only push to top, peek/pop from top, size, and is empty operations are valid.\n- Depending on your language, the stack may not be supported natively. You may simulate a stack using a list or deque (double-ended queue) as long as you use only a stack's standard operations.\n \n\n> Example 1:\n\n- Input\n[\"MyQueue\", \"push\", \"push\", \"peek\", \"pop\", \"empty\"]\n[[], [1], [2], [], [], []]\n- Output\n[null, null, null, 1, 1, false]\n\n- Explanation\n```\nMyQueue myQueue = new MyQueue();\nmyQueue.push(1); // queue is: [1]\nmyQueue.push(2); // queue is: [1, 2] (leftmost is front of the queue)\nmyQueue.peek(); // return 1\nmyQueue.pop(); // return 1, queue is [2]\nmyQueue.empty(); // return false\n```"
  },
  {
   "cell_type": "code",
   "execution_count": null,
   "id": "c512d666",
   "metadata": {},
   "outputs": [],
   "source": [
    "class MyQueue:\n",
    "\n",
    "    def __init__(self):\n",
    "        self.s1 = []\n",
    "        self.s2 = []\n",
    "\n",
    "    def push(self, x: int) -> None:\n",
    "        if not self.s1:\n",
    "            self.s1.append(x)\n",
    "        else:\n",
    "            while self.s1:\n",
    "                self.s2.append(self.s1.pop())\n",
    "            self.s2.append(x)\n",
    "            while self.s2:\n",
    "                self.s1.append(self.s2.pop())\n",
    "\n",
    "    def pop(self) -> int:\n",
    "        return self.s1.pop()\n",
    "\n",
    "    def peek(self) -> int:\n",
    "        return self.s1[-1]\n",
    "\n",
    "    def empty(self) -> bool:\n",
    "        return len(self.s1) == 0\n"
   ]
  },
  {
   "cell_type": "markdown",
   "id": "ebdaed08",
   "metadata": {},
   "source": "## 84. Largest Rectangle in Histogram\n\n[Link](https://leetcode.com/problems/largest-rectangle-in-histogram/description/)\n\nGiven an array of integers heights representing the histogram's bar height where the width of each bar is 1, return the area of the largest rectangle in the histogram.\n\n\n> Example 1:\n- Input: heights = [2,1,5,6,2,3]\n- Output: 10\n- Explanation: The above is a histogram where width of each bar is 1.\nThe largest rectangle is shown in the red area, which has an area = 10 units."
  },
  {
   "cell_type": "code",
   "execution_count": null,
   "id": "7b550c18",
   "metadata": {},
   "outputs": [],
   "source": [
    "class Solution84_A:\n",
    "    def largestRectangleArea(self, heights: List[int]) -> int:\n",
    "        max_area = 0\n",
    "        for i in range(len(heights)):\n",
    "            min_height = inf\n",
    "            for j in range(i, len(heights)):\n",
    "                min_height = min(min_height, heights[j])\n",
    "                max_area = max(max_area, min_height * (j - i + 1))\n",
    "        return max_area"
   ]
  },
  {
   "cell_type": "code",
   "execution_count": null,
   "id": "3519706d",
   "metadata": {},
   "outputs": [],
   "source": [
    "class Solution84_B:\n",
    "    def largestRectangleArea(self, heights: List[int]) -> int:\n",
    "        stack = []\n",
    "        max_area = 0\n",
    "        for i, h in enumerate(heights + [0]):\n",
    "            while stack and heights[stack[-1]] >= h:\n",
    "                curr = stack.pop()\n",
    "                left = stack[-1] if stack else - 1\n",
    "                width = i - left - 1\n",
    "                max_area = max(max_area, width * heights[curr])\n",
    "            stack.append(i)\n",
    "        return max_area"
   ]
  },
  {
   "cell_type": "markdown",
   "id": "71041afe",
   "metadata": {},
   "source": [
    "# Hash\n",
    "\n",
    "- Operations\n",
    "    - Insert - O(1)\n",
    "    - Delete - O(1)\n",
    "    - Find - O(1)\n",
    "- Hash Function\n",
    "- Collision\n",
    "    - Open Hashing (LinkedList)\n",
    "    - Closed Hashing (Array)"
   ]
  },
  {
   "cell_type": "markdown",
   "id": "e9dffcfd",
   "metadata": {},
   "source": "## 146. LRU Cache\n\n[Link](https://leetcode.com/problems/lru-cache/description/)\n\nDesign a data structure that follows the constraints of a Least Recently Used (LRU) cache.\n\nImplement the LRUCache class:\n\n- LRUCache(int capacity) Initialize the LRU cache with positive size capacity.\n- int get(int key) Return the value of the key if the key exists, otherwise return -1.\n- void put(int key, int value) Update the value of the key if the key exists. Otherwise, add the key-value pair to the cache. If the number of keys exceeds the capacity from this operation, evict the least recently used key.\n\nThe functions get and put must each run in O(1) average time complexity.\n\n> Example 1:\n\n- Input\n\n```python\n[\"LRUCache\", \"put\", \"put\", \"get\", \"put\", \"get\", \"put\", \"get\", \"get\", \"get\"]\n[[2], [1, 1], [2, 2], [1], [3, 3], [2], [4, 4], [1], [3], [4]]\n```\n\n- Output\n\n[null, null, null, 1, null, -1, null, -1, 3, 4]\n\n- Explanation\n```python\nLRUCache lRUCache = new LRUCache(2);\nlRUCache.put(1, 1); // cache is {1=1}\nlRUCache.put(2, 2); // cache is {1=1, 2=2}\nlRUCache.get(1);    // return 1\nlRUCache.put(3, 3); // LRU key was 2, evicts key 2, cache is {1=1, 3=3}\nlRUCache.get(2);    // returns -1 (not found)\nlRUCache.put(4, 4); // LRU key was 1, evicts key 1, cache is {4=4, 3=3}\nlRUCache.get(1);    // return -1 (not found)\nlRUCache.get(3);    // return 3\nlRUCache.get(4);    // return 4\n```"
  },
  {
   "cell_type": "code",
   "execution_count": 1,
   "id": "307a073e",
   "metadata": {},
   "outputs": [],
   "source": [
    "import collections\n",
    "\n",
    "class LRUCache:\n",
    "\n",
    "    def __init__(self, capacity: int):\n",
    "        self.capacity = capacity\n",
    "        self.dic = collections.OrderedDict()\n",
    "\n",
    "    def get(self, key: int) -> int:\n",
    "        if key not in self.dic:\n",
    "            return -1\n",
    "        self.dic.move_to_end(key)\n",
    "        return self.dic[key]\n",
    "\n",
    "    def put(self, key: int, value: int) -> None:\n",
    "        if key in self.dic:\n",
    "            self.dic.move_to_end(key)\n",
    "        \n",
    "        self.dic[key] = value\n",
    "        if len(self.dic) > self.capacity:\n",
    "            self.dic.popitem(False)"
   ]
  },
  {
   "cell_type": "markdown",
   "id": "f77a0cfa",
   "metadata": {},
   "source": "## 128. Longest Consecutive Sequence\n\n[Link](https://leetcode.com/problems/longest-consecutive-sequence/description/)\n\nGiven an unsorted array of integers nums, return the length of the longest consecutive elements sequence.\n\nYou must write an algorithm that runs in O(n) time.\n\n> Example 1:\n\n- Input: nums = [100,4,200,1,3,2]\n- Output: 4\n- Explanation: The longest consecutive elements sequence is [1, 2, 3, 4]. Therefore its length is 4.\n> Example 2:\n\n- Input: nums = [0,3,7,2,5,8,4,6,0,1]\n- Output: 9\n> Example 3:\n\n- Input: nums = [1,0,1,2]\n- Output: 3"
  },
  {
   "cell_type": "code",
   "execution_count": null,
   "id": "6d2593b0",
   "metadata": {},
   "outputs": [],
   "source": [
    "class Solution128:\n",
    "    def longestConsecutive(self, nums: List[int]) -> int:\n",
    "        num_set = set(nums)\n",
    "        max_len, dic = 0, {x: 1 for x in num_set}\n",
    "\n",
    "        for left in num_set:\n",
    "            if left - 1 not in dic:\n",
    "                right = left + 1\n",
    "                while right in dic:\n",
    "                    right += 1\n",
    "                max_len = max(max_len, right - left)\n",
    "        \n",
    "        return max_len"
   ]
  },
  {
   "cell_type": "markdown",
   "id": "f94447b3",
   "metadata": {},
   "source": [
    "# Heap\n",
    "Operations\n",
    "- Add O(log N)\n",
    "- Remove O(log N)\n",
    "- Min/Max O(1)"
   ]
  },
  {
   "cell_type": "markdown",
   "id": "8c5c597b",
   "metadata": {},
   "source": "## 79. Word Search\n\n[Link](https://leetcode.com/problems/word-search/description/)\n\nGiven an m x n grid of characters board and a string word, return true if word exists in the grid.\n\nThe word can be constructed from letters of sequentially adjacent cells, where adjacent cells are horizontally or vertically neighboring. The same letter cell may not be used more than once.\n\n> Example 1:\n- Input: board = [[\"A\",\"B\",\"C\",\"E\"],[\"S\",\"F\",\"C\",\"S\"],[\"A\",\"D\",\"E\",\"E\"]], word = \"ABCCED\"\n- Output: true"
  },
  {
   "cell_type": "code",
   "execution_count": null,
   "id": "c44ed25e",
   "metadata": {},
   "outputs": [],
   "source": [
    "class Solution79:\n",
    "    def backtrack(self, row: int, col: int, suffix: str) -> bool:\n",
    "        if len(suffix) == 0:\n",
    "            return True\n",
    "        \n",
    "        if (\n",
    "            row < 0\n",
    "            or row == self.ROWS\n",
    "            or col < 0\n",
    "            or col == self.COLS\n",
    "            or self.board[row][col] != suffix[0]\n",
    "        ):\n",
    "            return False\n",
    "        \n",
    "        ret = False\n",
    "        self.board[row][col] = '#'\n",
    "        for roff, coff in [(0, 1), (1, 0), (0, -1), (-1, 0)]:\n",
    "            ret = self.backtrack(row + roff, col + coff, suffix[1:])\n",
    "            if ret:\n",
    "                break\n",
    "        self.board[row][col] = suffix[0]\n",
    "\n",
    "        return ret\n",
    "\n",
    "    def exist(self, board: List[List[str]], word: str) -> bool:\n",
    "        self.ROWS = len(board)\n",
    "        self.COLS = len(board[0])\n",
    "        self.board = board\n",
    "\n",
    "        for i in range(self.ROWS):\n",
    "            for j in range(self.COLS):\n",
    "                if self.backtrack(i, j, word):\n",
    "                    return True\n",
    "        \n",
    "        return False"
   ]
  }
 ],
 "metadata": {
  "kernelspec": {
   "display_name": "py",
   "language": "python",
   "name": "python3"
  },
  "language_info": {
   "codemirror_mode": {
    "name": "ipython",
    "version": 3
   },
   "file_extension": ".py",
   "mimetype": "text/x-python",
   "name": "python",
   "nbconvert_exporter": "python",
   "pygments_lexer": "ipython3",
   "version": "3.11.13"
  }
 },
 "nbformat": 4,
 "nbformat_minor": 5
}