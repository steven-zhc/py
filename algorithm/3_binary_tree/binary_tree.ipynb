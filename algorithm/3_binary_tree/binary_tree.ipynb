{
 "cells": [
  {
   "cell_type": "markdown",
   "metadata": {},
   "source": [
    "# Binary Tree"
   ]
  },
  {
   "metadata": {},
   "cell_type": "markdown",
   "source": [
    "## Template\n",
    "### common dfs"
   ]
  },
  {
   "metadata": {},
   "cell_type": "code",
   "outputs": [],
   "execution_count": null,
   "source": [
    "def dfs(node):\n",
    "    if not node:\n",
    "        return\n",
    "\n",
    "    # ✅ Preorder logic (before children)\n",
    "    # e.g., print(node.val)\n",
    "\n",
    "    dfs(node.left)\n",
    "    # ✅ Inorder logic (between left and right)\n",
    "    dfs(node.right)\n",
    "\n",
    "    # ✅ Postorder logic (after children)"
   ]
  },
  {
   "metadata": {},
   "cell_type": "code",
   "outputs": [],
   "execution_count": null,
   "source": [
    "def dfs_iterative(root):\n",
    "    if not root:\n",
    "        return\n",
    "\n",
    "    stack = [root]\n",
    "    while stack:\n",
    "        node = stack.pop()\n",
    "\n",
    "        # ✅ Process node here (preorder)\n",
    "\n",
    "        # Push right before left (LIFO order)\n",
    "        if node.right:\n",
    "            stack.append(node.right)\n",
    "        if node.left:\n",
    "            stack.append(node.left)"
   ]
  },
  {
   "metadata": {},
   "cell_type": "markdown",
   "source": "### Preorder Traversal (Root -> Left -> Rgiht)"
  },
  {
   "metadata": {},
   "cell_type": "code",
   "outputs": [],
   "execution_count": null,
   "source": [
    "def preorderTraversal(root):\n",
    "    if not root:\n",
    "        return []\n",
    "\n",
    "    res = []\n",
    "    stack = [root]\n",
    "\n",
    "    while stack:\n",
    "        node = stack.pop()\n",
    "        res.append(node.val)  # 💡 Process node first\n",
    "\n",
    "        # Push right first so left is processed first\n",
    "        if node.right:\n",
    "            stack.append(node.right)\n",
    "        if node.left:\n",
    "            stack.append(node.left)\n",
    "\n",
    "    return res"
   ]
  },
  {
   "metadata": {},
   "cell_type": "markdown",
   "source": "### Inorder (Left -> Node -> Right)"
  },
  {
   "metadata": {},
   "cell_type": "code",
   "outputs": [],
   "execution_count": null,
   "source": [
    "def inorderTraversal(root):\n",
    "    res = []\n",
    "    stack = []\n",
    "    curr = root\n",
    "\n",
    "    while stack or curr:\n",
    "        # Go as left as possible\n",
    "        while curr:\n",
    "            stack.append(curr)\n",
    "            curr = curr.left\n",
    "\n",
    "        curr = stack.pop()\n",
    "        res.append(curr.val)  # 💡 Process node between left & right\n",
    "\n",
    "        curr = curr.right\n",
    "\n",
    "    return res"
   ]
  },
  {
   "metadata": {},
   "cell_type": "markdown",
   "source": "### Postorder Traversal(Left -> Right -> Node)"
  },
  {
   "metadata": {},
   "cell_type": "code",
   "outputs": [],
   "execution_count": null,
   "source": [
    "def postorderTraversal(root):\n",
    "    res = []\n",
    "    stack = []\n",
    "    last_visited = None\n",
    "    curr = root\n",
    "\n",
    "    while stack or curr:\n",
    "        while curr:\n",
    "            stack.append(curr)\n",
    "            curr = curr.left\n",
    "\n",
    "        peek = stack[-1]\n",
    "        if peek.right and last_visited != peek.right:\n",
    "            curr = peek.right\n",
    "        else:\n",
    "            res.append(peek.val)\n",
    "            last_visited = stack.pop()\n",
    "\n",
    "    return res"
   ]
  },
  {
   "metadata": {},
   "cell_type": "markdown",
   "source": "---"
  },
  {
   "cell_type": "code",
   "execution_count": null,
   "metadata": {},
   "outputs": [],
   "source": [
    "from typing import List, Optional\n",
    "from collections import deque\n",
    "\n",
    "class TreeNode:\n",
    "    def __init__(self, x):\n",
    "        self.val = x\n",
    "        self.left = None\n",
    "        self.right = None"
   ]
  },
  {
   "cell_type": "markdown",
   "metadata": {},
   "source": [
    "## 94. Binary Tree Inorder Traversal\n",
    "\n",
    "[Link](https://leetcode.com/problems/binary-tree-inorder-traversal/description/)\n",
    "\n",
    "Given the root of a binary tree, return the inorder traversal of its nodes' values.\n",
    "\n",
    "**Example 1:**\n",
    "- Input: root = [1,null,2,3]\n",
    "- Output: [1,3,2]\n",
    "\n",
    "**Follow up:** Recursive solution is trivial, could you do it iteratively?"
   ]
  },
  {
   "cell_type": "markdown",
   "metadata": {},
   "source": [
    "### Solution 1: Recursive"
   ]
  },
  {
   "cell_type": "code",
   "execution_count": null,
   "metadata": {},
   "outputs": [],
   "source": [
    "class Solution94_i:\n",
    "    def inorderTraversal(self, root: Optional[TreeNode]) -> List[int]:\n",
    "        if not root:\n",
    "            return []\n",
    "        \n",
    "        return [*self.inorderTraversal(root.left), root.val, *self.inorderTraversal(root.right)]"
   ]
  },
  {
   "cell_type": "markdown",
   "metadata": {},
   "source": [
    "### Solution 2: Iterative"
   ]
  },
  {
   "cell_type": "code",
   "execution_count": null,
   "metadata": {},
   "outputs": [],
   "source": [
    "class Solution94_ii:\n",
    "    def inorderTraversal(self, root: Optional[TreeNode]) -> List[int]:\n",
    "        if not root:\n",
    "            return []\n",
    "        \n",
    "        curr = root\n",
    "        stack = []\n",
    "        result = []\n",
    "\n",
    "        while stack or curr:\n",
    "            while curr:\n",
    "                stack.append(curr)\n",
    "                curr = curr.left\n",
    "            curr = stack.pop()\n",
    "            result.append(curr.val)\n",
    "            curr = curr.right\n",
    "        \n",
    "        return result"
   ]
  },
  {
   "cell_type": "markdown",
   "metadata": {},
   "source": [
    "## 98. Validate Binary Search Tree\n",
    "\n",
    "[Link](https://leetcode.com/problems/validate-binary-search-tree/description/)\n",
    "\n",
    "Given the root of a binary tree, determine if it is a valid binary search tree (BST).\n",
    "\n",
    "A valid BST is defined as follows:\n",
    "- The left subtree of a node contains only nodes with keys less than the node's key.\n",
    "- The right subtree of a node contains only nodes with keys greater than the node's key.\n",
    "- Both the left and right subtrees must also be binary search trees.\n",
    "\n",
    "**Example 1:**\n",
    "- Input: root = [2,1,3]\n",
    "- Output: true"
   ]
  },
  {
   "cell_type": "code",
   "execution_count": null,
   "metadata": {},
   "outputs": [],
   "source": [
    "class Data:\n",
    "    def __init__(self, isVal: bool):\n",
    "        self.isVal = isVal\n",
    "        self.max = None\n",
    "        self.min = None\n",
    "\n",
    "class Solution98:\n",
    "    \n",
    "    def dfs(self, root: Optional[TreeNode]) -> Data:\n",
    "        if not root:\n",
    "            return Data(True)\n",
    "        \n",
    "        left = self.dfs(root.left)\n",
    "        right = self.dfs(root.right)\n",
    "\n",
    "        if not left.isVal or not right.isVal:\n",
    "            return Data(False)\n",
    "        \n",
    "        if left.max and left.max >= root.val:\n",
    "            return Data(False)\n",
    "        if right.min and right.min <= root.val:\n",
    "            return Data(False)\n",
    "\n",
    "        rlt = Data(True)\n",
    "        rlt.max = right.max if right.max else root.val\n",
    "        rlt.min = left.min if left.min else root.val\n",
    "        return rlt\n",
    "\n",
    "    def isValidBST(self, root: Optional[TreeNode]) -> bool:\n",
    "        return self.dfs(root).isVal"
   ]
  },
  {
   "cell_type": "markdown",
   "metadata": {},
   "source": [
    "## 102. Binary Tree Level Order Traversal\n",
    "\n",
    "[Link](https://leetcode.com/problems/binary-tree-level-order-traversal/description/)\n",
    "\n",
    "Given the root of a binary tree, return the level order traversal of its nodes' values. (i.e., from left to right, level by level).\n",
    "\n",
    "**Example 1:**\n",
    "- Input: root = [3,9,20,null,null,15,7]\n",
    "- Output: [[3],[9,20],[15,7]]"
   ]
  },
  {
   "cell_type": "code",
   "execution_count": null,
   "metadata": {},
   "outputs": [],
   "source": [
    "class Solution102:\n",
    "    def levelOrder(self, root: Optional[TreeNode]) -> List[List[int]]:\n",
    "        if not root:\n",
    "            return []\n",
    "        \n",
    "        result = []\n",
    "        q = deque([root])\n",
    "        while q:\n",
    "            level = []\n",
    "            for _ in range(len(q)):\n",
    "                n = q.popleft()\n",
    "                level.append(n.val)\n",
    "                if n.left:\n",
    "                    q.append(n.left)\n",
    "                if n.right:\n",
    "                    q.append(n.right)\n",
    "            result.append(level)\n",
    "\n",
    "        return result"
   ]
  },
  {
   "cell_type": "markdown",
   "metadata": {},
   "source": [
    "## 103. Binary Tree Zigzag Level Order Traversal\n",
    "\n",
    "[Link](https://leetcode.com/problems/binary-tree-zigzag-level-order-traversal/description/)\n",
    "\n",
    "Given the root of a binary tree, return the zigzag level order traversal of its nodes' values. (i.e., from left to right, then right to left for the next level and alternate between).\n",
    "\n",
    "**Example 1:**\n",
    "- Input: root = [3,9,20,null,null,15,7]\n",
    "- Output: [[3],[20,9],[15,7]]"
   ]
  },
  {
   "cell_type": "code",
   "execution_count": null,
   "metadata": {},
   "outputs": [],
   "source": [
    "class Solution103:\n",
    "    def zigzagLevelOrder(self, root: Optional[TreeNode]) -> List[List[int]]:\n",
    "        if not root:\n",
    "            return []\n",
    "        \n",
    "        result = []\n",
    "        flag = True\n",
    "\n",
    "        q = deque([root])\n",
    "        while q:\n",
    "            level = deque()\n",
    "            for _ in range(len(q)):\n",
    "                n = q.popleft()\n",
    "                if flag:\n",
    "                    level.append(n.val)\n",
    "                else:\n",
    "                    level.appendleft(n.val)\n",
    "                if n.left:\n",
    "                    q.append(n.left)\n",
    "                if n.right:\n",
    "                    q.append(n.right)\n",
    "            result.append(list(level))\n",
    "            flag = not flag\n",
    "        \n",
    "        return result"
   ]
  },
  {
   "cell_type": "markdown",
   "metadata": {},
   "source": [
    "## 104. Maximum Depth of Binary Tree\n",
    "\n",
    "[Link](https://leetcode.com/problems/maximum-depth-of-binary-tree/description/)\n",
    "\n",
    "Given the root of a binary tree, return its maximum depth.\n",
    "\n",
    "A binary tree's maximum depth is the number of nodes along the longest path from the root node down to the farthest leaf node.\n",
    "\n",
    "**Example 1:**\n",
    "- Input: root = [3,9,20,null,null,15,7]\n",
    "- Output: 3"
   ]
  },
  {
   "cell_type": "markdown",
   "metadata": {},
   "source": [
    "### Solution 1: Recursive"
   ]
  },
  {
   "cell_type": "code",
   "execution_count": null,
   "metadata": {},
   "outputs": [],
   "source": [
    "class Solution104_i:\n",
    "    def maxDepth(self, root: Optional[TreeNode]) -> int:\n",
    "        if not root:\n",
    "            return 0\n",
    "        return max(self.maxDepth(root.left), self.maxDepth(root.right)) + 1"
   ]
  },
  {
   "cell_type": "markdown",
   "metadata": {},
   "source": [
    "### Solution 2: BFS Level Order"
   ]
  },
  {
   "cell_type": "code",
   "execution_count": null,
   "metadata": {},
   "outputs": [],
   "source": [
    "class Solution104_ii:\n",
    "    def maxDepth(self, root: Optional[TreeNode]) -> int:\n",
    "        if not root:\n",
    "            return 0\n",
    "        \n",
    "        level = 0\n",
    "        q = deque([root])\n",
    "\n",
    "        while q:\n",
    "            for _ in range(len(q)):\n",
    "                n = q.popleft()\n",
    "                if n.left:\n",
    "                    q.append(n.left)\n",
    "                if n.right:\n",
    "                    q.append(n.right)\n",
    "            level += 1\n",
    "        return level"
   ]
  },
  {
   "cell_type": "markdown",
   "metadata": {},
   "source": [
    "## 110. Balanced Binary Tree\n",
    "\n",
    "[Link](https://leetcode.com/problems/balanced-binary-tree/description/)\n",
    "\n",
    "Given a binary tree, determine if it is height-balanced.\n",
    "\n",
    "A height-balanced binary tree is a binary tree in which the depth of the two subtrees of every node never differs by more than one.\n",
    "\n",
    "**Example 1:**\n",
    "- Input: root = [3,9,20,null,null,15,7]\n",
    "- Output: true"
   ]
  },
  {
   "cell_type": "code",
   "execution_count": null,
   "metadata": {},
   "outputs": [],
   "source": [
    "class Solution110:\n",
    "    def helper(self, root):\n",
    "        if not root:\n",
    "            return 0\n",
    "        left = self.helper(root.left)\n",
    "        right = self.helper(root.right)\n",
    "        if left == -1 or right == -1:\n",
    "            return -1\n",
    "        if abs(left - right) > 1:\n",
    "            return -1\n",
    "        return max(left, right) + 1\n",
    "\n",
    "    def isBalanced(self, root: Optional[TreeNode]) -> bool:\n",
    "        if not root:\n",
    "            return True\n",
    "\n",
    "        res = self.helper(root)\n",
    "        return res != -1"
   ]
  },
  {
   "cell_type": "markdown",
   "metadata": {},
   "source": [
    "## 112. Path Sum\n",
    "\n",
    "[Link](https://leetcode.com/problems/path-sum/description/)\n",
    "\n",
    "Given the root of a binary tree and an integer targetSum, return true if the tree has a root-to-leaf path such that adding up all the values along the path equals targetSum.\n",
    "\n",
    "A leaf is a node with no children.\n",
    "\n",
    "**Example 1:**\n",
    "- Input: root = [5,4,8,11,null,13,4,7,2,null,null,null,1], targetSum = 22\n",
    "- Output: true"
   ]
  },
  {
   "cell_type": "code",
   "execution_count": null,
   "metadata": {},
   "outputs": [],
   "source": [
    "class Solution112:\n",
    "\n",
    "    def hasPathSum(self, root: Optional[TreeNode], targetSum: int) -> bool:\n",
    "        if not root:\n",
    "            return False\n",
    "        \n",
    "        if root.val == targetSum and not root.left and not root.right:\n",
    "            return True\n",
    "        \n",
    "        n = targetSum - root.val\n",
    "        return self.hasPathSum(root.left, n) or self.hasPathSum(root.right, n)"
   ]
  },
  {
   "cell_type": "markdown",
   "metadata": {},
   "source": [
    "## 113. Path Sum II\n",
    "\n",
    "[Link](https://leetcode.com/problems/path-sum-ii/description/)\n",
    "\n",
    "Given the root of a binary tree and an integer targetSum, return all root-to-leaf paths where the sum of the node values in the path equals targetSum. Each path should be returned as a list of the node values, not node references.\n",
    "\n",
    "A root-to-leaf path is a path starting from the root and ending at any leaf node. A leaf is a node with no children.\n",
    "\n",
    "**Example 1:**\n",
    "- Input: root = [5,4,8,11,null,13,4,7,2,null,null,5,1], targetSum = 22\n",
    "- Output: [[5,4,11,2],[5,8,4,5]]"
   ]
  },
  {
   "cell_type": "code",
   "execution_count": null,
   "metadata": {},
   "outputs": [],
   "source": [
    "class Solution113_i:\n",
    "    def helper(self, root: Optional[TreeNode]) -> list[list[int]]:\n",
    "        if not root:\n",
    "            return []\n",
    "        # If it's a leaf node, return just the value\n",
    "        if not root.left and not root.right:\n",
    "            return [[root.val]]\n",
    "        \n",
    "        left, right = self.helper(root.left), self.helper(root.right)\n",
    "        ext = lambda xs: [root.val] + xs\n",
    "        return [*map(ext, left + right)]\n",
    "\n",
    "    def pathSum(self, root: Optional[TreeNode], targetSum: int) -> List[List[int]]:\n",
    "        result = self.helper(root)\n",
    "        if not result:\n",
    "            return []\n",
    "        \n",
    "        return [xs for xs in result if sum(xs) == targetSum]"
   ]
  },
  {
   "metadata": {},
   "cell_type": "code",
   "outputs": [],
   "execution_count": null,
   "source": [
    "class Solution_ii:\n",
    "\n",
    "    def pathSum(self, root: Optional[TreeNode], targetSum: int) -> List[List[int]]:\n",
    "        if not root:\n",
    "            return []\n",
    "\n",
    "        res = []\n",
    "        stack = [(root, [root.val], root.val)]\n",
    "        while stack:\n",
    "            node, path, s = stack.pop()\n",
    "\n",
    "            if not node.left and not node.right and s == targetSum:\n",
    "                res.append(path[:])\n",
    "\n",
    "            if node.right:\n",
    "                stack.append((node.right, path + [node.right.val], s + node.right.val))\n",
    "\n",
    "            if node.left:\n",
    "                stack.append((node.left, path + [node.left.val], s + node.left.val))\n",
    "\n",
    "        return res"
   ]
  },
  {
   "cell_type": "markdown",
   "metadata": {},
   "source": [
    "## 144. Binary Tree Preorder Traversal\n",
    "\n",
    "[Link](https://leetcode.com/problems/binary-tree-preorder-traversal/description/)\n",
    "\n",
    "Given the root of a binary tree, return the preorder traversal of its nodes' values.\n",
    "\n",
    "**Example 1:**\n",
    "- Input: root = [1,null,2,3]\n",
    "- Output: [1,2,3]\n",
    "\n",
    "**Follow up:** Recursive solution is trivial, could you do it iteratively?"
   ]
  },
  {
   "cell_type": "markdown",
   "metadata": {},
   "source": [
    "### Solution 1: Recursive"
   ]
  },
  {
   "cell_type": "code",
   "execution_count": null,
   "metadata": {},
   "outputs": [],
   "source": [
    "class Solution144_1:\n",
    "    def preorderTraversal(self, root: Optional[TreeNode]) -> List[int]:\n",
    "        if not root:\n",
    "            return []\n",
    "        \n",
    "        return [root.val, *self.preorderTraversal(root.left), *self.preorderTraversal(root.right)]"
   ]
  },
  {
   "cell_type": "markdown",
   "metadata": {},
   "source": [
    "### Solution 2: Iterative"
   ]
  },
  {
   "cell_type": "code",
   "execution_count": null,
   "metadata": {},
   "outputs": [],
   "source": [
    "class Solution144_2:\n",
    "    def preorderTraversal(self, root: Optional[TreeNode]) -> List[int]:\n",
    "        if not root:\n",
    "            return []\n",
    "        result = []\n",
    "        stack = [root]\n",
    "        while stack:\n",
    "            n = stack.pop()\n",
    "            result.append(n.val)\n",
    "\n",
    "            if n.right:\n",
    "                stack.append(n.right)\n",
    "            if n.left:\n",
    "                stack.append(n.left)\n",
    "            \n",
    "        return result"
   ]
  },
  {
   "cell_type": "markdown",
   "metadata": {},
   "source": [
    "## 145. Binary Tree Postorder Traversal\n",
    "\n",
    "[Link](https://leetcode.com/problems/binary-tree-postorder-traversal/description/)\n",
    "\n",
    "Given the root of a binary tree, return the postorder traversal of its nodes' values.\n",
    "\n",
    "**Example 1:**\n",
    "- Input: root = [1,null,2,3]\n",
    "- Output: [3,2,1]\n",
    "\n",
    "**Follow up:** Recursive solution is trivial, could you do it iteratively?"
   ]
  },
  {
   "cell_type": "markdown",
   "metadata": {},
   "source": [
    "### Solution 1: Recursive"
   ]
  },
  {
   "cell_type": "code",
   "execution_count": null,
   "metadata": {},
   "outputs": [],
   "source": [
    "class Solution145_i:\n",
    "    def postorderTraversal(self, root: Optional[TreeNode]) -> List[int]:\n",
    "        if not root:\n",
    "            return []\n",
    "        return [*self.postorderTraversal(root.left), *self.postorderTraversal(root.right), root.val]"
   ]
  },
  {
   "cell_type": "markdown",
   "metadata": {},
   "source": [
    "### Solution 2: Iterative"
   ]
  },
  {
   "cell_type": "code",
   "execution_count": null,
   "metadata": {},
   "outputs": [],
   "source": [
    "class Solution145_ii:\n",
    "    def postorderTraversal(self, root: Optional[TreeNode]) -> List[int]:\n",
    "        if not root:\n",
    "            return []\n",
    "\n",
    "        res = []\n",
    "        stack = []\n",
    "        last = None  # 记录上一个访问过的节点\n",
    "        cur = root\n",
    "\n",
    "        while stack or cur:\n",
    "            while cur:\n",
    "                stack.append(cur)\n",
    "                cur = cur.left\n",
    "\n",
    "            peek = stack[-1]\n",
    "\n",
    "            # 如果右子树存在且还没访问过，先处理右子树\n",
    "            if peek.right and last != peek.right:\n",
    "                cur = peek.right\n",
    "            else:\n",
    "                res.append(peek.val)   # 左右子树都访问完了，访问当前节点\n",
    "                last = stack.pop()     # 标记当前节点为“最后访问过”\n",
    "\n",
    "        return res"
   ]
  },
  {
   "cell_type": "markdown",
   "metadata": {},
   "source": [
    "## 173. Binary Search Tree Iterator\n",
    "\n",
    "[Link](https://leetcode.com/problems/binary-search-tree-iterator/description/)\n",
    "\n",
    "Implement the BSTIterator class that represents an iterator over the in-order traversal of a binary search tree (BST):\n",
    "- `BSTIterator(TreeNode root)` Initializes an object of the BSTIterator class. The root of the BST is given as part of the constructor. The pointer should be initialized to a non-existent number smaller than any element in the BST.\n",
    "- `boolean hasNext()` Returns true if there exists a number in the traversal to the right of the pointer, otherwise returns false.\n",
    "- `int next()` Moves the pointer to the right, then returns the number at the pointer.\n",
    "\n",
    "**Example 1:**\n",
    "```\n",
    "Input\n",
    "[\"BSTIterator\", \"next\", \"next\", \"hasNext\", \"next\", \"hasNext\", \"next\", \"hasNext\", \"next\", \"hasNext\"]\n",
    "[[[7, 3, 15, null, null, 9, 20]], [], [], [], [], [], [], [], [], []]\n",
    "Output\n",
    "[null, 3, 7, true, 9, true, 15, true, 20, false]\n",
    "```"
   ]
  },
  {
   "cell_type": "code",
   "execution_count": null,
   "metadata": {},
   "outputs": [],
   "source": [
    "class BSTIterator:\n",
    "\n",
    "    def __init__(self, root: Optional[TreeNode]):\n",
    "        self.root = root\n",
    "        self.data = self.dfs(root)\n",
    "        self.curr = -1\n",
    "        \n",
    "\n",
    "    def next(self) -> int:\n",
    "        self.curr += 1\n",
    "        return self.data[self.curr].val\n",
    "        \n",
    "\n",
    "    def hasNext(self) -> bool:\n",
    "        n = self.curr + 1\n",
    "        return True if 0 <= n < len(self.data) else False\n",
    "\n",
    "    def dfs(self, root: Optional[TreeNode]) -> list[TreeNode]:\n",
    "        if not root:\n",
    "            return []\n",
    "        \n",
    "        return self.dfs(root.left) + [root] + self.dfs(root.right)"
   ]
  },
  {
   "cell_type": "markdown",
   "metadata": {},
   "source": [
    "## 236. Lowest Common Ancestor of a Binary Tree\n",
    "\n",
    "[Link](https://leetcode.com/problems/lowest-common-ancestor-of-a-binary-tree/description/)\n",
    "\n",
    "Given a binary tree, find the lowest common ancestor (LCA) of two given nodes in the tree.\n",
    "\n",
    "According to the definition of LCA on Wikipedia: \"The lowest common ancestor is defined between two nodes p and q as the lowest node in T that has both p and q as descendants (where we allow a node to be a descendant of itself).\"\n",
    "\n",
    "**Example 1:**\n",
    "- Input: root = [3,5,1,6,2,0,8,null,null,7,4], p = 5, q = 1\n",
    "- Output: 3\n",
    "- Explanation: The LCA of nodes 5 and 1 is 3."
   ]
  },
  {
   "cell_type": "code",
   "execution_count": null,
   "metadata": {},
   "outputs": [],
   "source": [
    "class Solution236:\n",
    "    def lowestCommonAncestor(self, root: 'TreeNode', p: 'TreeNode', q: 'TreeNode') -> 'TreeNode':\n",
    "        if not root:\n",
    "            return None\n",
    "        \n",
    "        if root == p or root == q:\n",
    "            return root\n",
    "        \n",
    "        left = self.lowestCommonAncestor(root.left, p, q)\n",
    "        right = self.lowestCommonAncestor(root.right, p, q)\n",
    "\n",
    "        if left and right:\n",
    "            return root\n",
    "        \n",
    "        if left:\n",
    "            return left\n",
    "        if right:\n",
    "            return right\n",
    "        \n",
    "        return None"
   ]
  },
  {
   "cell_type": "markdown",
   "metadata": {},
   "source": [
    "## 285. Inorder Successor in BST\n",
    "\n",
    "[Link](https://leetcode.com/problems/inorder-successor-in-bst/description/)\n",
    "\n",
    "Given the root of a binary search tree and a node p in it, return the in-order successor of that node in the BST. If the given node has no in-order successor in the tree, return null.\n",
    "\n",
    "The successor of a node p is the node with the smallest key greater than p.val.\n",
    "\n",
    "**Example 1:**\n",
    "- Input: root = [2,1,3], p = 1\n",
    "- Output: 2\n",
    "- Explanation: 1's in-order successor node is 2. Note that both p and the return value are of TreeNode type."
   ]
  },
  {
   "cell_type": "code",
   "execution_count": null,
   "metadata": {},
   "outputs": [],
   "source": [
    "class Solution285:\n",
    "    def inorderSuccessor(self, root: TreeNode, p: TreeNode) -> Optional[TreeNode]:\n",
    "        if not root:\n",
    "            return None\n",
    "        if root.val <= p.val:\n",
    "            return self.inorderSuccessor(root.right, p)\n",
    "        left = self.inorderSuccessor(root.left, p)\n",
    "        if left:\n",
    "            return left\n",
    "        else:\n",
    "            return root"
   ]
  },
  {
   "cell_type": "markdown",
   "metadata": {},
   "source": [
    "## 701. Insert into a Binary Search Tree\n",
    "\n",
    "[Link](https://leetcode.com/problems/insert-into-a-binary-search-tree/description/)\n",
    "\n",
    "You are given the root node of a binary search tree (BST) and a value to insert into the tree. Return the root node of the BST after the insertion. It is guaranteed that the new value does not exist in the original BST.\n",
    "\n",
    "Notice that there may exist multiple valid ways for the insertion, as long as the tree remains a BST after insertion. You can return any of them.\n",
    "\n",
    "**Example 1:**\n",
    "- Input: root = [4,2,7,1,3], val = 5\n",
    "- Output: [4,2,7,1,3,5]"
   ]
  },
  {
   "cell_type": "code",
   "execution_count": null,
   "metadata": {},
   "outputs": [],
   "source": [
    "class Solution701:\n",
    "    def insertIntoBST(self, root: Optional[TreeNode], val: int) -> Optional[TreeNode]:\n",
    "        if not root:\n",
    "            return TreeNode(val)\n",
    "        \n",
    "        if val < root.val:\n",
    "            root.left = self.insertIntoBST(root.left, val)\n",
    "        else:\n",
    "            root.right = self.insertIntoBST(root.right, val)\n",
    "        \n",
    "        return root"
   ]
  }
 ],
 "metadata": {
  "kernelspec": {
   "display_name": "Python 3",
   "language": "python",
   "name": "python3"
  },
  "language_info": {
   "codemirror_mode": {
    "name": "ipython",
    "version": 3
   },
   "file_extension": ".py",
   "mimetype": "text/x-python",
   "name": "python",
   "nbconvert_exporter": "python",
   "pygments_lexer": "ipython3",
   "version": "3.8.0"
  }
 },
 "nbformat": 4,
 "nbformat_minor": 4
}
