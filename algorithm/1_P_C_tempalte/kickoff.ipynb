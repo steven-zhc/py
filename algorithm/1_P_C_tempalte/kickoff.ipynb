{
 "cells": [
  {
   "cell_type": "markdown",
   "id": "db693703",
   "metadata": {},
   "source": [
    "# Permutations\n",
    "\n",
    "## 78. Subsets\n",
    "\n",
    "[Link](https://leetcode.com/problems/subsets/description/)\n",
    "\n",
    "Given an integer array nums of unique elements, return all possible subsets (the power set).\n",
    "\n",
    "The solution set must not contain duplicate subsets. Return the solution in any order."
   ]
  },
  {
   "cell_type": "code",
   "execution_count": null,
   "id": "4b27c964",
   "metadata": {},
   "outputs": [],
   "source": [
    "from collections import List\n",
    "from typing import Optional"
   ]
  },
  {
   "cell_type": "code",
   "execution_count": null,
   "id": "ae213c5c",
   "metadata": {},
   "outputs": [],
   "source": [
    "class Solution78:\n",
    "    def helper(self, nums: List[int], res: list[list[int]], pos: int, path: list[int]):\n",
    "        res.append(path[:])\n",
    "\n",
    "        for i in range(pos, len(nums)):\n",
    "            path.append(nums[i])\n",
    "            self.helper(nums, res, i + 1, path)\n",
    "            path.pop()\n",
    "\n",
    "    def subsets(self, nums: List[int]) -> List[List[int]]:\n",
    "        res = []\n",
    "        self.helper(nums, res, 0, [])\n",
    "\n",
    "        return res"
   ]
  },
  {
   "cell_type": "markdown",
   "id": "8a93fb64",
   "metadata": {},
   "source": [
    "## 46. Permutations\n",
    "\n",
    "[Link](https://leetcode.com/problems/permutations/description/)\n",
    "\n",
    "Given an array nums of distinct integers, return all the possible permutations. You can return the answer in any order.\n",
    "\n",
    "\n",
    "> Example 1:\n",
    "\n",
    "- Input: nums = [1,2,3]\n",
    "- Output: [[1,2,3],[1,3,2],[2,1,3],[2,3,1],[3,1,2],[3,2,1]]"
   ]
  },
  {
   "cell_type": "code",
   "execution_count": null,
   "id": "4e0ecd0a",
   "metadata": {},
   "outputs": [],
   "source": [
    "class Solution46:\n",
    "    def helper(self, nums, res, curr):\n",
    "        if len(curr) == len(nums):\n",
    "            res.append(curr[:])\n",
    "            return\n",
    "        for x in nums:\n",
    "            if x not in curr:\n",
    "                curr.append(x)\n",
    "                self.helper(nums, res, curr)\n",
    "                curr.pop()\n",
    "\n",
    "\n",
    "    def permute(self, nums: List[int]) -> List[List[int]]:\n",
    "        res = []\n",
    "        self.helper(nums, res, [])\n",
    "        return res"
   ]
  },
  {
   "cell_type": "markdown",
   "id": "2c0164b9",
   "metadata": {},
   "source": [
    "# 90. Subsets II\n",
    "\n",
    "[Link](https://leetcode.com/problems/subsets-ii/description/)\n",
    "\n",
    "Given an integer array nums that may contain duplicates, return all possible subsets (the power set).\n",
    "\n",
    "The solution set must not contain duplicate subsets. Return the solution in any order.\n",
    "\n",
    "\n",
    "> Example 1:\n",
    "\n",
    "- Input: nums = [1,2,2]\n",
    "- Output: [[],[1],[1,2],[1,2,2],[2],[2,2]]"
   ]
  },
  {
   "cell_type": "code",
   "execution_count": null,
   "id": "36e4c5ea",
   "metadata": {},
   "outputs": [],
   "source": [
    "class Solution90:\n",
    "    def helper(self, nums: List[int], res: List[List[int]], idx: int, curr: List[int]):\n",
    "        res.append(curr[:])\n",
    "\n",
    "        for i in range(idx, len(nums)):\n",
    "            if i != idx and nums[i] == nums[i - 1]:\n",
    "                continue\n",
    "            curr.append(nums[i])\n",
    "            self.helper(nums, res, i + 1, curr)\n",
    "            curr.pop()\n",
    "\n",
    "    def subsetsWithDup(self, nums: List[int]) -> List[List[int]]:\n",
    "        res = []\n",
    "        nums.sort()\n",
    "\n",
    "        self.helper(nums, res, 0, [])\n",
    "        return res"
   ]
  },
  {
   "cell_type": "markdown",
   "id": "9d7f64c4",
   "metadata": {},
   "source": [
    "## 77. Combinations\n",
    "\n",
    "[Link](https://leetcode.com/problems/combinations/description/)\n",
    "\n",
    "Given two integers n and k, return all possible combinations of k numbers chosen from the range [1, n].\n",
    "\n",
    "You may return the answer in any order.\n",
    "\n",
    "\n",
    "> Example 1:\n",
    "\n",
    "- Input: n = 4, k = 2\n",
    "- Output: [[1,2],[1,3],[1,4],[2,3],[2,4],[3,4]]"
   ]
  },
  {
   "cell_type": "code",
   "execution_count": null,
   "id": "bd7705ab",
   "metadata": {},
   "outputs": [],
   "source": [
    "class Solution77:\n",
    "    def helper(self, n, k, res, i, cur):\n",
    "        if len(cur) == k:\n",
    "            res.append(cur[:])\n",
    "            return\n",
    "        for j in range(i, n + 1):\n",
    "            cur.append(j)\n",
    "            self.helper(n, k, res, j + 1, cur)\n",
    "            cur.pop()\n",
    "\n",
    "    def combine(self, n: int, k: int) -> List[List[int]]:\n",
    "        res = []\n",
    "        self.helper(n, k, res, 1, [])\n",
    "        return res"
   ]
  },
  {
   "cell_type": "markdown",
   "id": "a796ba4a",
   "metadata": {},
   "source": "## 47. Permutations II\n\n[Link](https://leetcode.com/problems/permutations-ii/description/)\n\nGiven a collection of numbers, nums, that might contain duplicates, return all possible unique permutations in any order.\n\n\n> Example 1:\n\n- Input: nums = [1,1,2]\n- Output: [[1,1,2],[1,2,1],[2,1,1]]\n\n> Example 2:\n\n- Input: nums = [1,2,3]\n- Output: [[1,2,3],[1,3,2],[2,1,3],[2,3,1],[3,1,2],[3,2,1]]"
  },
  {
   "cell_type": "code",
   "execution_count": null,
   "id": "8fc2b9cc",
   "metadata": {},
   "outputs": [],
   "source": [
    "class Solution47:\n",
    "    def helper(self, nums, res, cur, visited):\n",
    "        if len(cur) == len(nums):\n",
    "            res.append(cur[:])\n",
    "            return\n",
    "        \n",
    "        for i in range(len(nums)):\n",
    "            x = nums[i]\n",
    "            \n",
    "            if visited[i]:\n",
    "                continue\n",
    "\n",
    "            if i > 0 and nums[i] == nums[i - 1] and not visited[i - 1]:\n",
    "                continue\n",
    "\n",
    "            cur.append(nums[i])\n",
    "            visited[i] = True\n",
    "            self.helper(nums, res, cur, visited)\n",
    "            cur.pop()\n",
    "            visited[i] = False\n",
    "\n",
    "    def permuteUnique(self, nums: List[int]) -> List[List[int]]:\n",
    "        res = []\n",
    "        visited = [False] * len(nums)\n",
    "        self.helper(nums, res, [], visited)\n",
    "        return res"
   ]
  }
 ],
 "metadata": {
  "kernelspec": {
   "display_name": "py",
   "language": "python",
   "name": "python3"
  },
  "language_info": {
   "name": "python",
   "version": "3.11.13"
  }
 },
 "nbformat": 4,
 "nbformat_minor": 5
}