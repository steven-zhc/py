{
 "cells": [
  {
   "cell_type": "markdown",
   "id": "f2c6ae6e",
   "metadata": {},
   "source": [
    "# Data Structure\n",
    "\n",
    "Linear Data Structure\n",
    "- Queue\n",
    "- Stack\n",
    "- Hash\n",
    "\n",
    "Tree Data Structure\n",
    "- Heap\n",
    "- Trie\n",
    "\n"
   ]
  },
  {
   "cell_type": "markdown",
   "id": "5a4e7583",
   "metadata": {},
   "source": [
    "## 155. Min Stack\n",
    "Design a stack that supports push, pop, top, and retrieving the minimum element in constant time.\n",
    "\n",
    "Implement the MinStack class:\n",
    "\n",
    "MinStack() initializes the stack object.\n",
    "- void push(int val) pushes the element val onto the stack.\n",
    "- void pop() removes the element on the top of the stack.\n",
    "- int top() gets the top element of the stack.\n",
    "- int getMin() retrieves the minimum element in the stack.\n",
    "- You must implement a solution with O(1) time complexity for each function."
   ]
  },
  {
   "cell_type": "code",
   "execution_count": null,
   "id": "17303ed8",
   "metadata": {},
   "outputs": [],
   "source": [
    "class MinStack:\n",
    "\n",
    "    def __init__(self):\n",
    "        self.stack = []\n",
    "        self.minStack = []\n",
    "\n",
    "    def push(self, val: int) -> None:\n",
    "        self.stack.append(val)\n",
    "        if not self.minStack:\n",
    "            self.minStack.append(val)\n",
    "        else:\n",
    "            self.minStack.append(min(val, self.minStack[-1]))\n",
    "\n",
    "    def pop(self) -> None:\n",
    "        self.minStack.pop()\n",
    "        return self.stack.pop()\n",
    "\n",
    "    def top(self) -> int:\n",
    "        return self.stack[-1]\n",
    "\n",
    "    def getMin(self) -> int:\n",
    "        return self.minStack[-1]"
   ]
  },
  {
   "cell_type": "markdown",
   "id": "753ea308",
   "metadata": {},
   "source": [
    "## 232. Implement Queue using Stacks\n",
    "\n",
    "Implement a first in first out (FIFO) queue using only two stacks. The implemented queue should support all the functions of a normal queue (push, peek, pop, and empty).\n",
    "\n",
    "Implement the MyQueue class:\n",
    "\n",
    "- void push(int x) Pushes element x to the back of the queue.\n",
    "- int pop() Removes the element from the front of the queue and returns it.\n",
    "- int peek() Returns the element at the front of the queue.\n",
    "- boolean empty() Returns true if the queue is empty, false otherwise.\n",
    "\n",
    "> Notes:\n",
    "\n",
    "- You must use only standard operations of a stack, which means only push to top, peek/pop from top, size, and is empty operations are valid.\n",
    "- Depending on your language, the stack may not be supported natively. You may simulate a stack using a list or deque (double-ended queue) as long as you use only a stack's standard operations.\n",
    " \n",
    "\n",
    "> Example 1:\n",
    "\n",
    "- Input\n",
    "[\"MyQueue\", \"push\", \"push\", \"peek\", \"pop\", \"empty\"]\n",
    "[[], [1], [2], [], [], []]\n",
    "- Output\n",
    "[null, null, null, 1, 1, false]\n",
    "\n",
    "- Explanation\n",
    "```\n",
    "MyQueue myQueue = new MyQueue();\n",
    "myQueue.push(1); // queue is: [1]\n",
    "myQueue.push(2); // queue is: [1, 2] (leftmost is front of the queue)\n",
    "myQueue.peek(); // return 1\n",
    "myQueue.pop(); // return 1, queue is [2]\n",
    "myQueue.empty(); // return false\n",
    "```"
   ]
  },
  {
   "cell_type": "code",
   "execution_count": null,
   "id": "c512d666",
   "metadata": {},
   "outputs": [],
   "source": [
    "class MyQueue:\n",
    "\n",
    "    def __init__(self):\n",
    "        self.s1 = []\n",
    "        self.s2 = []\n",
    "\n",
    "    def push(self, x: int) -> None:\n",
    "        if not self.s1:\n",
    "            self.s1.append(x)\n",
    "        else:\n",
    "            while self.s1:\n",
    "                self.s2.append(self.s1.pop())\n",
    "            self.s2.append(x)\n",
    "            while self.s2:\n",
    "                self.s1.append(self.s2.pop())\n",
    "\n",
    "    def pop(self) -> int:\n",
    "        return self.s1.pop()\n",
    "\n",
    "    def peek(self) -> int:\n",
    "        return self.s1[-1]\n",
    "\n",
    "    def empty(self) -> bool:\n",
    "        return len(self.s1) == 0\n"
   ]
  },
  {
   "cell_type": "markdown",
   "id": "ebdaed08",
   "metadata": {},
   "source": [
    "## 84. Largest Rectangle in Histogram\n",
    "\n",
    "Given an array of integers heights representing the histogram's bar height where the width of each bar is 1, return the area of the largest rectangle in the histogram.\n",
    "\n",
    "\n",
    "> Example 1:\n",
    "- Input: heights = [2,1,5,6,2,3]\n",
    "- Output: 10\n",
    "- Explanation: The above is a histogram where width of each bar is 1.\n",
    "The largest rectangle is shown in the red area, which has an area = 10 units."
   ]
  },
  {
   "cell_type": "code",
   "execution_count": null,
   "id": "7b550c18",
   "metadata": {},
   "outputs": [],
   "source": [
    "class Solution84:\n",
    "    def largestRectangleArea(self, heights: List[int]) -> int:\n",
    "        max_area = 0\n",
    "        for i in range(len(heights)):\n",
    "            min_height = inf\n",
    "            for j in range(i, len(heights)):\n",
    "                min_height = min(min_height, heights[j])\n",
    "                max_area = max(max_area, min_height * (j - i + 1))\n",
    "        return max_area"
   ]
  }
 ],
 "metadata": {
  "kernelspec": {
   "display_name": "py",
   "language": "python",
   "name": "python3"
  },
  "language_info": {
   "name": "python",
   "version": "3.11.13"
  }
 },
 "nbformat": 4,
 "nbformat_minor": 5
}
