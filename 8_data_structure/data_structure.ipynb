{
 "cells": [
  {
   "cell_type": "markdown",
   "id": "f2c6ae6e",
   "metadata": {},
   "source": [
    "# Data Structure\n",
    "\n",
    "Linear Data Structure\n",
    "- Queue\n",
    "- Stack\n",
    "- Hash\n",
    "\n",
    "Tree Data Structure\n",
    "- Heap\n",
    "- Trie\n",
    "\n"
   ]
  }
 ],
 "metadata": {
  "kernelspec": {
   "display_name": "py",
   "language": "python",
   "name": "python3"
  },
  "language_info": {
   "name": "python",
   "version": "3.11.13"
  }
 },
 "nbformat": 4,
 "nbformat_minor": 5
}
