{
 "cells": [
  {
   "cell_type": "markdown",
   "id": "title",
   "metadata": {},
   "source": [
    "# Dynamic Programming"
   ]
  },
  {
   "cell_type": "code",
   "execution_count": null,
   "id": "imports",
   "metadata": {},
   "outputs": [],
   "source": [
    "from typing import List"
   ]
  },
  {
   "cell_type": "markdown",
   "id": "problem_45",
   "metadata": {},
   "source": [
    "## 45. Jump Game II\n",
    "\n",
    "[Link](https://leetcode.com/problems/jump-game-ii/description/)\n",
    "\n",
    "You are given a 0-indexed array of integers nums of length n. You are initially positioned at nums[0].\n",
    "\n",
    "Each element nums[i] represents the maximum length of a forward jump from index i. In other words, if you are at nums[i], you can jump to any nums[i + j] where:\n",
    "\n",
    "- 0 <= j <= nums[i] and\n",
    "- i + j < n\n",
    "\n",
    "Return the minimum number of jumps to reach nums[n - 1]. The test cases are generated such that you can reach nums[n - 1]."
   ]
  },
  {
   "cell_type": "code",
   "execution_count": null,
   "id": "solution_45",
   "metadata": {},
   "outputs": [],
   "source": "class Solution45:\n    def jump(self, nums: List[int]) -> int:\n        if not nums:\n            return 0\n        \n        n = len(nums)\n        f = [float('inf') for i in range(n)]\n        f[0] = 0\n\n        for i in range(1, n):\n            p = []\n            for j in range(0, i):\n                if j + nums[j] >= i:\n                    p.append(f[j] + 1)\n            if not p:\n                return 0\n            else:\n                f[i] = min(p)\n        \n        return f[n - 1]"
  },
  {
   "cell_type": "markdown",
   "id": "problem_55",
   "metadata": {},
   "source": [
    "## 55. Jump Game\n",
    "\n",
    "[Link](https://leetcode.com/problems/jump-game/description/)\n",
    "\n",
    "You are given an integer array nums. You are initially positioned at the array's first index, and each element in the array represents your maximum jump length at that position.\n",
    "\n",
    "Return true if you can reach the last index, or false otherwise."
   ]
  },
  {
   "cell_type": "code",
   "execution_count": null,
   "id": "solution_55",
   "metadata": {},
   "outputs": [],
   "source": "class Solution55:    \n    def canJump(self, nums: List[int]) -> bool:\n        if not nums:\n            return True\n        \n        n = len(nums)\n        f = [False for i in range(n)]\n\n        f[0] = True\n        for i in range(1, n):\n            for j in range(i):\n                if f[j] and j+ nums[j] >= i:\n                    f[i] = True\n                    break\n        \n        return f[n - 1]"
  },
  {
   "cell_type": "markdown",
   "id": "problem_62",
   "metadata": {},
   "source": [
    "## 62. Unique Paths\n",
    "\n",
    "[Link](https://leetcode.com/problems/unique-paths/description/)\n",
    "\n",
    "There is a robot on an m x n grid. The robot is initially located at the top-left corner (i.e., grid[0][0]). The robot tries to move to the bottom-right corner (i.e., grid[m - 1][n - 1]). The robot can only move either down or right at any point in time.\n",
    "\n",
    "Given the two integers m and n, return the number of possible unique paths that the robot can take to reach the bottom-right corner.\n",
    "\n",
    "The test cases are generated so that the answer will be less than or equal to 2 * 10^9."
   ]
  },
  {
   "cell_type": "code",
   "execution_count": null,
   "id": "solution_62",
   "metadata": {},
   "outputs": [],
   "source": "class Solution62:\n    def uniquePaths(self, m: int, n: int) -> int:\n\n        f = [[0 for j in range(n)] for i in range(m)]\n\n        f[0][0] = 1\n\n        for i in range(1, m):\n            f[i][0] = 1\n        for j in range(1, n):\n            f[0][j] = 1\n        for i in range(1, m):\n            for j in range(1, n):\n                f[i][j] = f[i - 1][j] + f[i][j - 1]\n        \n        return f[m - 1][n - 1]"
  },
  {
   "cell_type": "markdown",
   "id": "problem_63",
   "metadata": {},
   "source": [
    "## 63. Unique Paths II\n",
    "\n",
    "[Link](https://leetcode.com/problems/unique-paths-ii/description/)\n",
    "\n",
    "You are given an m x n integer array grid. There is a robot initially located at the top-left corner (i.e., grid[0][0]). The robot tries to move to the bottom-right corner (i.e., grid[m - 1][n - 1]). The robot can only move either down or right at any point in time.\n",
    "\n",
    "An obstacle and space are marked as 1 or 0 respectively in grid. A path that the robot takes cannot include any square that is an obstacle.\n",
    "\n",
    "Return the number of possible unique paths that the robot can take to reach the bottom-right corner.\n",
    "\n",
    "The testcases are generated so that the answer will be less than or equal to 2 * 10^9."
   ]
  },
  {
   "cell_type": "code",
   "execution_count": null,
   "id": "solution_63",
   "metadata": {},
   "outputs": [],
   "source": "class Solution63:\n    def uniquePathsWithObstacles(self, obstacleGrid: List[List[int]]) -> int:\n        if not obstacleGrid:\n            return 0\n        \n        m = len(obstacleGrid)\n        n = len(obstacleGrid[0])\n\n        f = [[0 for j in range(n)] for i in range(m)]\n\n        if obstacleGrid[0][0] == 1:\n            return 0\n        \n        f[0][0] = 1\n        for i in range(1, m):\n            if obstacleGrid[i][0] == 1:\n                f[i][0] = 0\n            else:\n                f[i][0] = f[i-1][0]\n        \n        for j in range(1, n):\n            if obstacleGrid[1][j] == 1:\n                f[0][j] = 0\n            else:\n                f[0][j] = f[0][j-1]\n        \n        for i in range(1, m):\n            for j in range(1, n):\n                if obstacleGrid[i][j] == 1:\n                    f[i][j] = 0\n                else:\n                    f[i][j] = f[i - 1][j] + f[i][j - 1]\n        \n        return f[m - 1][n - 1]"
  },
  {
   "cell_type": "markdown",
   "id": "problem_64",
   "metadata": {},
   "source": [
    "## 64. Minimum Path Sum\n",
    "\n",
    "[Link](https://leetcode.com/problems/minimum-path-sum/description/)\n",
    "\n",
    "Given a m x n grid filled with non-negative numbers, find a path from top left to bottom right, which minimizes the sum of all numbers along its path.\n",
    "\n",
    "Note: You can only move either down or right at any point in time."
   ]
  },
  {
   "cell_type": "markdown",
   "id": "solution_64_label",
   "metadata": {},
   "source": [
    "### Solution 1: Bottom-Up DP"
   ]
  },
  {
   "cell_type": "code",
   "execution_count": null,
   "id": "solution_64_bottom_up",
   "metadata": {},
   "outputs": [],
   "source": "class Solution64:\n    def minPathSum(self, grid: List[List[int]]) -> int:\n        if not grid:\n            return 0\n        \n        m = len(grid)\n        n = len(grid[0])\n\n        f = [[0 for j in range(n)] for i in range(m)]\n\n        f[0][0] = grid[0][0]\n\n        for i in range(1, m):\n            f[i][0] = f[i - 1][0] + grid[i][0]\n        for j in range(1, n):\n            f[0][j] = f[0][j - 1] + grid[0][j]\n        \n        for i in range(1, m):\n            for j in range(1, n):\n                f[i][j] = min(f[i -1][j], f[i][j - 1]) + grid[i][j]\n        \n        return f[m - 1][n - 1]"
  },
  {
   "cell_type": "markdown",
   "id": "solution_64_top_bottom_label",
   "metadata": {},
   "source": [
    "### Solution 2: Top-Down (Divide and Conquer with Memoization)"
   ]
  },
  {
   "cell_type": "code",
   "execution_count": null,
   "id": "solution_64_top_bottom",
   "metadata": {},
   "outputs": [],
   "source": "class Solution64_v2:\n    def divide_conquer(self, grid: List[List[int]], m: int, n: int, x: int, y: int, memo: dict[(int, int), int]) -> int:\n        if not grid:\n            return 0\n        if (x, y) in memo:\n            return memo[(x, y)]\n        result = []\n        if x + 1 < m:\n            right = self.divide_conquer(grid, m, n, x + 1, y, memo)\n            result.append(right)\n        if y + 1 < n:\n            bottom = self.divide_conquer(grid, m, n, x, y + 1, memo)\n            result.append(bottom)\n\n        if result:\n            memo[(x, y)] = min(result) + grid[x][y]\n        else:\n            memo[(x, y)] = grid[x][y]\n        return memo[(x, y)]\n\n\n    def minPathSum(self, grid: List[List[int]]) -> int:\n        m = len(grid)\n        n = len(grid[0])\n        return self.divide_conquer(grid, m, n, 0, 0, {})"
  },
  {
   "cell_type": "markdown",
   "id": "problem_70",
   "metadata": {},
   "source": [
    "## 70. Climbing Stairs\n",
    "\n",
    "[Link](https://leetcode.com/problems/climbing-stairs/description/)\n",
    "\n",
    "You are climbing a staircase. It takes n steps to reach the top.\n",
    "\n",
    "Each time you can either climb 1 or 2 steps. In how many distinct ways can you climb to the top?"
   ]
  },
  {
   "cell_type": "code",
   "execution_count": null,
   "id": "solution_70",
   "metadata": {},
   "outputs": [],
   "source": "class Solution70:\n    def climbStairs(self, n: int) -> int:\n        if n <= 2:\n            return n\n        f = [0 for i in range(n)]\n        f[0] = 1\n        f[1] = 2\n        for i in range(2, n):\n            f[i] = f[i - 1] + f[i - 2]\n        return f[n - 1]"
  },
  {
   "cell_type": "markdown",
   "id": "problem_72",
   "metadata": {},
   "source": [
    "## 72. Edit Distance\n",
    "\n",
    "[Link](https://leetcode.com/problems/edit-distance/description/)\n",
    "\n",
    "Given two strings word1 and word2, return the minimum number of operations required to convert word1 to word2.\n",
    "\n",
    "You have the following three operations permitted on a word:\n",
    "\n",
    "- Insert a character\n",
    "- Delete a character\n",
    "- Replace a character"
   ]
  },
  {
   "cell_type": "code",
   "execution_count": null,
   "id": "solution_72",
   "metadata": {},
   "outputs": [],
   "source": "class Solution72:\n    def minDistance(self, word1: str, word2: str) -> int:\n        m, n = len(word1), len(word2)\n        if not word1:\n            return n\n        if not word2:\n            return m\n        \n        f = [[float('inf')] * (n + 1) for _ in range(m + 1)]\n        f[0][0] = 0\n        for i in range(1, m + 1):\n            f[i][0] = i\n        for i in range(1, n + 1):\n            f[0][i] = i\n        \n        for i in range(1, m + 1):\n            for j in range(1, n + 1):\n                if word1[:i] == word2[:j]:\n                    f[i][j] = 0\n                    continue\n                if word1[i - 1] == word2[j - 1]:\n                    f[i][j] = f[i - 1][j - 1]\n                else:\n                    f[i][j] = min(f[i - 1][j - 1], f[i - 1][j], f[i][j - 1]) + 1\n        \n        return f[m][n]"
  },
  {
   "cell_type": "markdown",
   "id": "problem_97",
   "metadata": {},
   "source": [
    "## 97. Interleaving String\n",
    "\n",
    "[Link](https://leetcode.com/problems/interleaving-string/description/)\n",
    "\n",
    "Given strings s1, s2, and s3, find whether s3 is formed by an interleaving of s1 and s2.\n",
    "\n",
    "An interleaving of two strings s and t is a configuration where s and t are divided into n and m substrings respectively, such that:\n",
    "\n",
    "- s = s1 + s2 + ... + sn\n",
    "- t = t1 + t2 + ... + tm\n",
    "- |n - m| <= 1\n",
    "- The interleaving is s1 + t1 + s2 + t2 + s3 + t3 + ... or t1 + s1 + t2 + s2 + t3 + s3 + ...\n",
    "\n",
    "Note: a + b is the concatenation of strings a and b."
   ]
  },
  {
   "cell_type": "code",
   "execution_count": null,
   "id": "solution_97",
   "metadata": {},
   "outputs": [],
   "source": "class Solution97:\n    def isInterleave(self, s1: str, s2: str, s3: str) -> bool:\n        m, n, o = len(s1), len(s2), len(s3)\n\n        if m + n != o:\n            return False\n        \n        f = [[False] * (n + 1) for _ in range(m + 1)]\n        f[0][0] = True\n\n        # first column\n        for i in range(1, m + 1):\n            f[i][0] = f[i-1][0] and s1[i-1] == s3[i-1]\n\n        # first row\n        for j in range(1, n + 1):\n            f[0][j] = f[0][j-1] and s2[j-1] == s3[j-1]\n\n        # fill DP table\n        for i in range(1, m + 1):\n            for j in range(1, n + 1):\n                f[i][j] = (f[i-1][j] and s1[i-1] == s3[i+j-1]) or \\\n                          (f[i][j-1] and s2[j-1] == s3[i+j-1])\n\n        return f[m][n]"
  },
  {
   "cell_type": "markdown",
   "id": "problem_115",
   "metadata": {},
   "source": [
    "## 115. Distinct Subsequences\n",
    "\n",
    "[Link](https://leetcode.com/problems/distinct-subsequences/description/)\n",
    "\n",
    "Given two strings s and t, return the number of distinct subsequences of s which equals t.\n",
    "\n",
    "The test cases are generated so that the answer fits on a 32-bit signed integer."
   ]
  },
  {
   "cell_type": "code",
   "execution_count": null,
   "id": "solution_115",
   "metadata": {},
   "outputs": [],
   "source": "class Solution115:\n    def numDistinct(self, s: str, t: str) -> int:\n        m, n = len(s), len(t)\n        if m < n:\n            return 0\n        \n        f = [[0] * (n + 1) for _ in range(m + 1)]\n        f[0][0] = 1\n        for i in range(1, m + 1):\n            f[i][0] = 1\n        \n        for i in range(1, m + 1):\n            for j in range(1, n + 1):\n                if s[i - 1] == t[j - 1]:\n                    f[i][j] = f[i - 1][j] + f[i - 1][j - 1]\n                else:\n                    f[i][j] = f[i - 1][j]\n        return f[m][n]"
  },
  {
   "cell_type": "markdown",
   "id": "problem_120",
   "metadata": {},
   "source": [
    "## 120. Triangle\n",
    "\n",
    "[Link](https://leetcode.com/problems/triangle/description/)\n",
    "\n",
    "Given a triangle array, return the minimum path sum from top to bottom.\n",
    "\n",
    "For each step, you may move to an adjacent number of the row below. More formally, if you are on index i on the current row, you may move to either index i or index i + 1 on the next row."
   ]
  },
  {
   "cell_type": "code",
   "execution_count": null,
   "id": "solution_120",
   "metadata": {},
   "outputs": [],
   "source": "class Solution120:\n    def divide_conquer(self, triangle: list[list[int]], x: int, y: int, memo: dict[tuple[int, int], int]) -> int:\n        if x == len(triangle):\n            return 0\n        \n        if (x, y) in memo:\n            return memo[(x, y)]\n        \n        left = self.divide_conquer(triangle, x + 1, y, memo)\n        right = self.divide_conquer(triangle, x + 1, y + 1, memo)\n\n        memo[(x, y)] = min(left, right) + triangle[x][y]\n        return memo[(x, y)]\n\n    def minimumTotal(self, triangle: List[List[int]]) -> int:\n        return self.divide_conquer(triangle, 0, 0, {})"
  },
  {
   "cell_type": "markdown",
   "id": "problem_132",
   "metadata": {},
   "source": [
    "## 132. Palindrome Partitioning II\n",
    "\n",
    "[Link](https://leetcode.com/problems/palindrome-partitioning-ii/description/)\n",
    "\n",
    "Given a string s, partition s such that every substring of the partition is a palindrome.\n",
    "\n",
    "Return the minimum cuts needed for a palindrome partitioning of s."
   ]
  },
  {
   "cell_type": "code",
   "execution_count": null,
   "id": "solution_132",
   "metadata": {},
   "outputs": [],
   "source": "class Solution132:\n\n    def isPalindrome(self, s: str) -> bool:\n        clean = ''.join(c.lower() for c in s if s.isalnum())\n        return s == s[::-1]\n\n    def matrix(self, s: str) -> list[list[bool]]:\n        n = len(s)\n        m = [[False for j in range(n)] for i in range(n)]\n\n        for i in range(n):\n            for j in range(n):\n                m[i][j] = self.isPalindrome(s[i:j + 1])\n        return m\n    \n    def minCut(self, s: str) -> int:\n        if not s:\n            return 0\n        n = len(s)\n        f = [0 for i in range(n)]\n        m = self.matrix(s)\n\n        f[0] = 0\n        for i in range(1, n):\n            if m[0][i]:\n                f[i] = 0\n            else:\n                data = [(f[i - 1] + 1)]\n                for j in range(i):\n                    if m[j + 1 : i]:\n                        data.append(f[j] + 1)\n                f[i] = min(data)\n        \n        return f[n - 1]"
  },
  {
   "cell_type": "markdown",
   "id": "problem_139",
   "metadata": {},
   "source": [
    "## 139. Word Break\n",
    "\n",
    "[Link](https://leetcode.com/problems/word-break/description/)\n",
    "\n",
    "Given a string s and a dictionary of strings wordDict, return true if s can be segmented into a space-separated sequence of one or more dictionary words.\n",
    "\n",
    "Note that the same word in the dictionary may be reused multiple times in the segmentation."
   ]
  },
  {
   "cell_type": "code",
   "execution_count": null,
   "id": "solution_139",
   "metadata": {},
   "outputs": [],
   "source": "class Solution139:\n    def wordBreak(self, s: str, wordDict: List[str]) -> bool:\n        if not s:\n            return False\n        \n        n = len(s)\n        \n        memo = [[False] * n for _ in range(n)]\n        for i in range(n):\n            for j in range(i, n):   # j must start >= i\n                if s[i:j+1] in wordDict:\n                    memo[i][j] = True\n        \n        f = [False] * n\n        f[0] = s[0:1] in wordDict\n\n        for i in range(1, n):\n            if memo[0][i]:\n                f[i] = True\n            else:\n                for j in range(i):\n                    if f[j] and memo[j + 1][i]:\n                        f[i] = True\n                        break\n        return f[n - 1]"
  },
  {
   "cell_type": "markdown",
   "id": "problem_1143",
   "metadata": {},
   "source": [
    "## 1143. Longest Common Subsequence\n",
    "\n",
    "[Link](https://leetcode.com/problems/longest-common-subsequence/description/)\n",
    "\n",
    "Given two strings text1 and text2, return the length of their longest common subsequence. If there is no common subsequence, return 0.\n",
    "\n",
    "A subsequence of a string is a new string generated from the original string with some characters (can be none) deleted without changing the relative order of the remaining characters.\n",
    "\n",
    "For example, \"ace\" is a subsequence of \"abcde\".\n",
    "\n",
    "A common subsequence of two strings is a subsequence that is common to both strings."
   ]
  },
  {
   "cell_type": "code",
   "execution_count": null,
   "id": "solution_1143",
   "metadata": {},
   "outputs": [],
   "source": "class Solution1143:\n    def longestCommonSubsequence(self, text1: str, text2: str) -> int:\n        if not text1 or not text2:\n            return 0\n        \n        m, n = len(text1) , len(text2)\n        \n        f = [[0] * (n + 1) for i in range(m + 1)]\n        \n        for i in range(1, m + 1):\n            for j in range(1, n + 1):\n                f[i][j] = max(f[i - 1][j], f[i][j - 1])\n                if text1[i - 1] == text2[j - 1]:\n                    f[i][j] = max(f[i][j], f[i - 1][j - 1] + 1)\n        return f[m][n]"
  }
 ],
 "metadata": {
  "kernelspec": {
   "display_name": "Python 3",
   "language": "python",
   "name": "python3"
  },
  "language_info": {
   "codemirror_mode": {
    "name": "ipython",
    "version": 3
   },
   "file_extension": ".py",
   "mimetype": "text/x-python",
   "name": "python",
   "nbconvert_exporter": "python",
   "pygments_lexer": "ipython3",
   "version": "3.8.0"
  }
 },
 "nbformat": 4,
 "nbformat_minor": 5
}