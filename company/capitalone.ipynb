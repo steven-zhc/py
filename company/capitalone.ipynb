{
 "cells": [
  {
   "metadata": {
    "collapsed": true
   },
   "cell_type": "markdown",
   "source": "# Capital One",
   "id": "ad7da95af523c6ac"
  },
  {
   "metadata": {},
   "cell_type": "markdown",
   "source": "## 2043 Simple Bank System",
   "id": "4b2e0de6e2e50344"
  },
  {
   "metadata": {},
   "cell_type": "code",
   "outputs": [],
   "execution_count": null,
   "source": [
    "import threading\n",
    "from typing import List\n",
    "\n",
    "class Account:\n",
    "    def __init__(self, balance):\n",
    "        self.balance = balance\n",
    "        self._lock = threading.Lock()\n",
    "\n",
    "class Bank:\n",
    "    def __init__(self, balance: List[int]):\n",
    "        self.dict = {(i + 1): Account(n) for (i, n) in enumerate(balance)}\n",
    "\n",
    "    def transfer(self, account1: int, account2: int, money: int) -> bool:\n",
    "        if account1 not in self.dict or account2 not in self.dict:\n",
    "            return False\n",
    "        if account1 == account2:\n",
    "            acc = self.dict[account1]\n",
    "            with acc._lock:\n",
    "                return acc.balance >= money\n",
    "        acc1, acc2 = self.dict[account1], self.dict[account2]\n",
    "        first, second = (acc1, acc2) if account1 < account2 else (acc2, acc1)\n",
    "        with first._lock:\n",
    "            with second._lock:\n",
    "                if acc1.balance < money:\n",
    "                    return False\n",
    "                acc1.balance -= money\n",
    "                acc2.balance += money\n",
    "                return True\n",
    "\n",
    "    def deposit(self, account: int, money: int) -> bool:\n",
    "        if account not in self.dict:\n",
    "            return False\n",
    "        acc = self.dict[account]\n",
    "        with acc._lock:\n",
    "            acc.balance += money\n",
    "        return True\n",
    "\n",
    "    def withdraw(self, account: int, money: int) -> bool:\n",
    "        if account not in self.dict:\n",
    "            return False\n",
    "\n",
    "        acc = self.dict[account]\n",
    "        with acc._lock:\n",
    "            if acc.balance < money:\n",
    "                return False\n",
    "            acc.balance -= money\n",
    "            return True\n",
    "\n",
    "\n",
    "# Your Bank object will be instantiated and called as such:\n",
    "# obj = Bank(balance)\n",
    "# param_1 = obj.transfer(account1,account2,money)\n",
    "# param_2 = obj.deposit(account,money)\n",
    "# param_3 = obj.withdraw(account,money)"
   ],
   "id": "474086a3d36e0662"
  },
  {
   "metadata": {},
   "cell_type": "markdown",
   "source": "## 71. Simplify Path",
   "id": "4e3e3645981fa617"
  },
  {
   "metadata": {
    "ExecuteTime": {
     "end_time": "2025-10-08T17:54:29.108210Z",
     "start_time": "2025-10-08T17:54:29.097344Z"
    }
   },
   "cell_type": "code",
   "source": [
    "from collections import deque\n",
    "\n",
    "class Solution71:\n",
    "    def simplifyPath(self, path: str) -> str:\n",
    "        if not path or path == \"/\":\n",
    "            return \"/\"\n",
    "\n",
    "        q = deque([])\n",
    "        for p in path.split(\"/\"):\n",
    "            if p == \"..\":\n",
    "                if not q:\n",
    "                    continue\n",
    "                else:\n",
    "                    q.pop()\n",
    "            elif p == \".\":\n",
    "                continue\n",
    "            elif not p:\n",
    "                continue\n",
    "            else:\n",
    "                q.append(p)\n",
    "\n",
    "        return \"/\" + \"/\".join(list(q))"
   ],
   "id": "3f859a079ab9884f",
   "outputs": [],
   "execution_count": 1
  }
 ],
 "metadata": {
  "kernelspec": {
   "display_name": "Python 3",
   "language": "python",
   "name": "python3"
  },
  "language_info": {
   "codemirror_mode": {
    "name": "ipython",
    "version": 2
   },
   "file_extension": ".py",
   "mimetype": "text/x-python",
   "name": "python",
   "nbconvert_exporter": "python",
   "pygments_lexer": "ipython2",
   "version": "2.7.6"
  }
 },
 "nbformat": 4,
 "nbformat_minor": 5
}
