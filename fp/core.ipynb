{
 "cells": [
  {
   "cell_type": "markdown",
   "id": "ef011553",
   "metadata": {},
   "source": [
    "# Core\n",
    "\n",
    "## Magma\n",
    "\n",
    "- a set or type (A)\n",
    "- a `concat` operation\n",
    "- no laws to obey\n",
    "\n",
    "### Example"
   ]
  },
  {
   "cell_type": "code",
   "execution_count": 15,
   "id": "0cfbc9a0",
   "metadata": {},
   "outputs": [],
   "source": [
    "# global imports\n",
    "from typing import Callable, Optional\n",
    "from typing import Protocol, TypeVar\n",
    "\n",
    "A = TypeVar('A')\n",
    "T = TypeVar('T')\n",
    "U = TypeVar('U')\n",
    "\n",
    "def pipe(value: T, *funcs: Callable[[T], U]) -> U:\n",
    "    result = value\n",
    "    for func in funcs:\n",
    "        result = func(result)\n",
    "    return result"
   ]
  },
  {
   "cell_type": "code",
   "execution_count": 16,
   "id": "b46823db",
   "metadata": {},
   "outputs": [
    {
     "name": "stdout",
     "output_type": "stream",
     "text": [
      "2\n"
     ]
    }
   ],
   "source": [
    "class Magma(Protocol[A]):\n",
    "    def concat(self, x: A, y: A) -> A: ...\n",
    "\n",
    "def concatCurry(magma: Magma[A]):\n",
    "    def fn(y: A):\n",
    "        def inner(x: A) -> A:\n",
    "            return magma.concat(x, y)\n",
    "        return inner\n",
    "    return fn\n",
    "\n",
    "class MagmaSub:\n",
    "    def concat(self, x: int, y: int) -> int:\n",
    "        return x - y\n",
    "\n",
    "concat = concatCurry(MagmaSub())\n",
    "print(pipe(10, concat(3), concat(5)))  # 2\n"
   ]
  },
  {
   "cell_type": "markdown",
   "id": "008fdb6f",
   "metadata": {},
   "source": [
    "### Definition\n",
    "\n",
    "Given A a non empty set and * a binary operation closed on (or internal to) A, then the pair (A, *) is called a **magma**"
   ]
  },
  {
   "cell_type": "markdown",
   "id": "175ab96f",
   "metadata": {},
   "source": [
    "## Semigroup\n",
    "\n",
    "### Definition\n",
    "Given a **Magma** if the `concat` operation is **associative** then it's a **semigroup**.\n",
    "\n",
    "> Magma + associative\n",
    "\n",
    ":associative\n",
    "\n",
    "(x * y) * z = x * (y * z)\n",
    "\n",
    "> MagmaSub is not a semigroup because its `concat` operation is not `associative`"
   ]
  }
 ],
 "metadata": {
  "kernelspec": {
   "display_name": "py (3.11.13)",
   "language": "python",
   "name": "python3"
  },
  "language_info": {
   "codemirror_mode": {
    "name": "ipython",
    "version": 3
   },
   "file_extension": ".py",
   "mimetype": "text/x-python",
   "name": "python",
   "nbconvert_exporter": "python",
   "pygments_lexer": "ipython3",
   "version": "3.11.13"
  }
 },
 "nbformat": 4,
 "nbformat_minor": 5
}
