{
 "cells": [
  {
   "metadata": {
    "collapsed": true
   },
   "cell_type": "markdown",
   "source": "# Python Thread",
   "id": "26fd945d674a376a"
  },
  {
   "metadata": {
    "ExecuteTime": {
     "end_time": "2025-10-08T15:20:39.780007Z",
     "start_time": "2025-10-08T15:20:39.776372Z"
    }
   },
   "cell_type": "code",
   "source": [
    "import logging\n",
    "import random\n",
    "import threading\n",
    "import time"
   ],
   "id": "c788858f7fd4f79c",
   "outputs": [],
   "execution_count": 2
  },
  {
   "metadata": {},
   "cell_type": "markdown",
   "source": "## Starting a Thread",
   "id": "53b5aede20063955"
  },
  {
   "metadata": {
    "ExecuteTime": {
     "end_time": "2025-10-08T15:20:08.602734Z",
     "start_time": "2025-10-08T15:20:08.590476Z"
    }
   },
   "cell_type": "code",
   "source": [
    "def thread_function(name):\n",
    "    logging.info(\"Thread %s: starting\", name)\n",
    "    time.sleep(2)\n",
    "    logging.info(\"Thread %s: finishing\", name)\n",
    "\n",
    "if __name__ == \"__main__\":\n",
    "    fmt = \"%(asctime)s: %(message)s\"\n",
    "    logging.basicConfig(format=fmt, level=logging.INFO,\n",
    "                        datefmt=\"%H:%M:%S\")\n",
    "\n",
    "    logging.info(\"Main    : before creating thread\")\n",
    "    x = threading.Thread(target=thread_function, args=(1,))\n",
    "    logging.info(\"Main    : before running thread\")\n",
    "    x.start()\n",
    "    logging.info(\"Main    : wait for the thread to finish\")\n",
    "    # x.join()\n",
    "    logging.info(\"Main    : all done\")"
   ],
   "id": "2810a068968feb99",
   "outputs": [
    {
     "name": "stderr",
     "output_type": "stream",
     "text": [
      "10:20:08: Main    : before creating thread\n",
      "10:20:08: Main    : before running thread\n",
      "10:20:08: Thread 1: starting\n",
      "10:20:08: Main    : wait for the thread to finish\n",
      "10:20:08: Main    : all done\n",
      "10:20:10: Thread 1: finishing\n"
     ]
    }
   ],
   "execution_count": 1
  },
  {
   "metadata": {},
   "cell_type": "markdown",
   "source": "## Daemon Thread",
   "id": "88026cb3ae3f30e9"
  },
  {
   "metadata": {
    "ExecuteTime": {
     "end_time": "2025-10-08T15:23:03.745848Z",
     "start_time": "2025-10-08T15:23:01.730633Z"
    }
   },
   "cell_type": "code",
   "source": [
    "def thread_function(name):\n",
    "    logging.info(\"Thread %s: starting\", name)\n",
    "    time.sleep(2)\n",
    "    logging.info(\"Thread %s: finishing\", name)\n",
    "\n",
    "if __name__ == \"__main__\":\n",
    "    fmt = \"%(asctime)s: %(message)s\"\n",
    "    logging.basicConfig(format=fmt, level=logging.INFO,\n",
    "                        datefmt=\"%H:%M:%S\")\n",
    "\n",
    "    logging.info(\"Main    : before creating thread\")\n",
    "    x = threading.Thread(target=thread_function, args=(1,), daemon=True)\n",
    "    logging.info(\"Main    : before running thread\")\n",
    "    x.start()\n",
    "    logging.info(\"Main    : wait for the thread to finish\")\n",
    "    # x.join()\n",
    "    logging.info(\"Main    : all done\")"
   ],
   "id": "15cf018106573352",
   "outputs": [
    {
     "name": "stderr",
     "output_type": "stream",
     "text": [
      "10:23:01: Main    : before creating thread\n",
      "10:23:01: Main    : before running thread\n",
      "10:23:01: Thread 1: starting\n",
      "10:23:01: Main    : wait for the thread to finish\n",
      "10:23:03: Thread 1: finishing\n",
      "10:23:03: Main    : all done\n"
     ]
    }
   ],
   "execution_count": 5
  },
  {
   "metadata": {},
   "cell_type": "markdown",
   "source": "## Working with many threads",
   "id": "726d4e0e275e28c"
  },
  {
   "metadata": {
    "ExecuteTime": {
     "end_time": "2025-10-08T15:27:54.750817Z",
     "start_time": "2025-10-08T15:27:52.730733Z"
    }
   },
   "cell_type": "code",
   "source": [
    "def thread_function(name):\n",
    "    logging.info(\"Thread %s: starting\", name)\n",
    "    time.sleep(2)\n",
    "    logging.info(\"Thread %s: finishing\", name)\n",
    "\n",
    "if __name__ == \"__main__\":\n",
    "    format = \"%(asctime)s: %(message)s\"\n",
    "    logging.basicConfig(format=format, level=logging.INFO,\n",
    "                        datefmt=\"%H:%M:%S\")\n",
    "\n",
    "    threads = list()\n",
    "    for index in range(3):\n",
    "        logging.info(\"Main    : create and start thread %d.\", index)\n",
    "        x = threading.Thread(target=thread_function, args=(index,))\n",
    "        threads.append(x)\n",
    "        x.start()\n",
    "\n",
    "    for index, thread in enumerate(threads):\n",
    "        logging.info(\"Main    : before joining thread %d.\", index)\n",
    "        thread.join()\n",
    "        logging.info(\"Main    : thread %d done\", index)"
   ],
   "id": "635433c5ee7be0ef",
   "outputs": [
    {
     "name": "stderr",
     "output_type": "stream",
     "text": [
      "10:27:52: Main    : create and start thread 0.\n",
      "10:27:52: Thread 0: starting\n",
      "10:27:52: Main    : create and start thread 1.\n",
      "10:27:52: Thread 1: starting\n",
      "10:27:52: Main    : create and start thread 2.\n",
      "10:27:52: Thread 2: starting\n",
      "10:27:52: Main    : before joining thread 0.\n",
      "10:27:54: Thread 0: finishing\n",
      "10:27:54: Thread 1: finishing\n",
      "10:27:54: Main    : thread 0 done\n",
      "10:27:54: Main    : before joining thread 1.\n",
      "10:27:54: Main    : thread 1 done\n",
      "10:27:54: Main    : before joining thread 2.\n",
      "10:27:54: Thread 2: finishing\n",
      "10:27:54: Main    : thread 2 done\n"
     ]
    }
   ],
   "execution_count": 6
  },
  {
   "metadata": {},
   "cell_type": "markdown",
   "source": "## Using a ThreadPoolExecutor",
   "id": "e00199e8e1c2d598"
  },
  {
   "metadata": {
    "ExecuteTime": {
     "end_time": "2025-10-08T15:38:38.311478Z",
     "start_time": "2025-10-08T15:38:36.295303Z"
    }
   },
   "cell_type": "code",
   "source": [
    "import concurrent.futures\n",
    "def thread_function(name):\n",
    "    logging.info(f\"Thread {name}: starting\")\n",
    "    time.sleep(2)\n",
    "    logging.info(f\"Thread {name}: finishing\")\n",
    "\n",
    "if __name__ == \"__main__\":\n",
    "    fmt = \"%(asctime)s: %(message)s\"\n",
    "    logging.basicConfig(format=fmt, level=logging.INFO,\n",
    "                        datefmt=\"%H:%M:%S\")\n",
    "    logging.info(\"Main    : before creating thread\")\n",
    "    with concurrent.futures.ThreadPoolExecutor(max_workers=3) as executor:\n",
    "        executor.map(thread_function, range(3))\n",
    "    logging.info(\"Main    : all done\")\n",
    "\n"
   ],
   "id": "c7b9f3231929015a",
   "outputs": [
    {
     "name": "stderr",
     "output_type": "stream",
     "text": [
      "10:38:36: Main    : before creating thread\n",
      "10:38:36: Thread 0: starting\n",
      "10:38:36: Thread 1: starting\n",
      "10:38:36: Thread 2: starting\n",
      "10:38:38: Thread 0: finishing\n",
      "10:38:38: Thread 1: finishing\n",
      "10:38:38: Thread 2: finishing\n",
      "10:38:38: Main    : all done\n"
     ]
    }
   ],
   "execution_count": 7
  },
  {
   "metadata": {},
   "cell_type": "markdown",
   "source": "## What's Race Conditions",
   "id": "15411e493f03b705"
  },
  {
   "metadata": {
    "ExecuteTime": {
     "end_time": "2025-10-08T15:51:35.674227Z",
     "start_time": "2025-10-08T15:51:35.670040Z"
    }
   },
   "cell_type": "code",
   "source": [
    "class FakeDatabase:\n",
    "    def __init__(self):\n",
    "        self.value = 0\n",
    "\n",
    "    def update(self, name):\n",
    "        logging.info(f\"Thread {name}: starting update\")\n",
    "        local_copy = self.value\n",
    "        local_copy += 1\n",
    "        time.sleep(0.1)\n",
    "        self.value = local_copy\n",
    "        logging.info(f\"Thread {name}: finishing update\")\n"
   ],
   "id": "99f522e8a454ea78",
   "outputs": [],
   "execution_count": 9
  },
  {
   "metadata": {
    "ExecuteTime": {
     "end_time": "2025-10-08T15:51:38.675983Z",
     "start_time": "2025-10-08T15:51:38.564580Z"
    }
   },
   "cell_type": "code",
   "source": [
    "if __name__ == \"__main__\":\n",
    "    fmt = \"%(asctime)s: %(message)s\"\n",
    "    logging.basicConfig(format=fmt, level=logging.INFO,\n",
    "                        datefmt=\"%H:%M:%S\")\n",
    "    database = FakeDatabase()\n",
    "    logging.info(f\"Testing update. Starting value is {database.value}\")\n",
    "    with concurrent.futures.ThreadPoolExecutor(max_workers=2) as executor:\n",
    "        for i in range(2):\n",
    "            executor.submit(database.update, i)\n",
    "    logging.info(f\"Testing update. Ending value is {database.value}\")"
   ],
   "id": "c782185f847ad848",
   "outputs": [
    {
     "name": "stderr",
     "output_type": "stream",
     "text": [
      "10:51:38: Testing update. Starting value is 0\n",
      "10:51:38: Thread 0: starting update\n",
      "10:51:38: Thread 1: starting update\n",
      "10:51:38: Thread 0: finishing update\n",
      "10:51:38: Thread 1: finishing update\n",
      "10:51:38: Testing update. Ending value is 1\n"
     ]
    }
   ],
   "execution_count": 10
  },
  {
   "metadata": {},
   "cell_type": "markdown",
   "source": "## Lock",
   "id": "934e6b3baf09cf73"
  },
  {
   "metadata": {
    "ExecuteTime": {
     "end_time": "2025-10-08T16:14:30.244517Z",
     "start_time": "2025-10-08T16:14:30.023045Z"
    }
   },
   "cell_type": "code",
   "source": [
    "class FakeDatabaseWithLock:\n",
    "    def __init__(self):\n",
    "        self.value = 0\n",
    "        self._lock = threading.Lock()\n",
    "\n",
    "    def update(self, name):\n",
    "       logging.info(f\"Thread {name}: starting update\")\n",
    "       logging.info(f\"Thread {name}: about to lock\")\n",
    "\n",
    "       with self._lock:\n",
    "           logging.info(f\"Thread {name}: lock acquired\")\n",
    "           local_copy = self.value\n",
    "           local_copy += 1\n",
    "           time.sleep(0.1)\n",
    "           self.value = local_copy\n",
    "           logging.info(f\"Thread {name}: lock released\")\n",
    "\n",
    "       logging.info(f\"Thread {name}: finishing update\")\n",
    "\n",
    "if __name__ == \"__main__\":\n",
    "    fmt = \"%(asctime)s: %(message)s\"\n",
    "    logging.basicConfig(format=fmt, level=logging.INFO,\n",
    "                        datefmt=\"%H:%M:%S\")\n",
    "    database = FakeDatabaseWithLock()\n",
    "    logging.info(f\"Testing update. Starting value is {database.value}\")\n",
    "    with concurrent.futures.ThreadPoolExecutor(max_workers=2) as executor:\n",
    "        for i in range(2):\n",
    "            executor.submit(database.update, i)\n",
    "    logging.info(f\"Testing update. Ending value is {database.value}\")"
   ],
   "id": "10b1dd76442bdd36",
   "outputs": [
    {
     "name": "stderr",
     "output_type": "stream",
     "text": [
      "11:14:30: Testing update. Starting value is 0\n",
      "11:14:30: Thread 0: starting update\n",
      "11:14:30: Thread 1: starting update\n",
      "11:14:30: Thread 0: about to lock\n",
      "11:14:30: Thread 1: about to lock\n",
      "11:14:30: Thread 0: lock acquired\n",
      "11:14:30: Thread 0: lock released\n",
      "11:14:30: Thread 0: finishing update\n",
      "11:14:30: Thread 1: lock acquired\n",
      "11:14:30: Thread 1: lock released\n",
      "11:14:30: Thread 1: finishing update\n",
      "11:14:30: Testing update. Ending value is 2\n"
     ]
    }
   ],
   "execution_count": 11
  },
  {
   "metadata": {},
   "cell_type": "markdown",
   "source": "## Producer-Consumer Threading",
   "id": "6876fa30b24d4f6e"
  },
  {
   "metadata": {
    "ExecuteTime": {
     "end_time": "2025-10-08T16:41:07.878340Z",
     "start_time": "2025-10-08T16:39:39.738357Z"
    }
   },
   "cell_type": "code",
   "source": [
    "import random\n",
    "\n",
    "class Pipeline:\n",
    "    def __init__(self):\n",
    "        self.message = 0\n",
    "        self.producer_lock = threading.Lock()\n",
    "        self.consumer_lock = threading.Lock()\n",
    "        self.consumer_lock.acquire()\n",
    "\n",
    "    def get_message(self, name):\n",
    "        logging.info(f\"{name}: about to acquire lock\")\n",
    "        self.consumer_lock.acquire()\n",
    "        logging.info(f\"{name}: acquired lock\")\n",
    "        message = self.message\n",
    "        logging.info(f\"{name}: about to release lock\")\n",
    "        self.producer_lock.release()\n",
    "        logging.info(f\"{name}: released lock\")\n",
    "        return message\n",
    "\n",
    "    def set_message(self, name, message):\n",
    "        logging.info(f\"{name}: about to acquire lock\")\n",
    "        self.producer_lock.acquire()\n",
    "        logging.info(f\"{name}: acquired lock\")\n",
    "        self.message = message\n",
    "        logging.info(f\"{name}: about to release lock\")\n",
    "        self.consumer_lock.release()\n",
    "        logging.info(f\"{name}: released lock\")\n",
    "\n",
    "SENTINEL = object()\n",
    "\n",
    "def producer(pipeline):\n",
    "    for _ in range(10):\n",
    "        message = random.randint(1, 100)\n",
    "        logging.info(f\"Producer got message: {message}\")\n",
    "        pipeline.set_message(\"Producer\", message)\n",
    "    pipeline.set_message(SENTINEL, \"Producer\")\n",
    "\n",
    "def consumer(pipeline):\n",
    "    message = 0\n",
    "    while message is not SENTINEL:\n",
    "        message = pipeline.get_message(\"Consumer\")\n",
    "        if message is not SENTINEL:\n",
    "            logging.info(f\"Consumer storing message: {message}\")\n",
    "\n",
    "if __name__ == \"__main__\":\n",
    "    format = \"%(asctime)s: %(message)s\"\n",
    "    logging.basicConfig(format=format, level=logging.INFO,\n",
    "                        datefmt=\"%H:%M:%S\")\n",
    "    pipeline = Pipeline()\n",
    "    with concurrent.futures.ThreadPoolExecutor(max_workers=2) as executor:\n",
    "        executor.submit(producer, pipeline)\n",
    "        executor.submit(consumer, pipeline)\n"
   ],
   "id": "1bd190a4a86eabde",
   "outputs": [
    {
     "name": "stderr",
     "output_type": "stream",
     "text": [
      "11:39:39: Producer got message: 20\n",
      "11:39:39: Consumer: about to acquire lock\n",
      "11:39:39: Producer: about to acquire lock\n",
      "11:39:39: Producer: acquired lock\n",
      "11:39:39: Producer: about to release lock\n",
      "11:39:39: Producer: released lock\n",
      "11:39:39: Consumer: acquired lock\n",
      "11:39:39: Producer got message: 89\n",
      "11:39:39: Consumer: about to release lock\n",
      "11:39:39: Producer: about to acquire lock\n",
      "11:39:39: Consumer: released lock\n",
      "11:39:39: Producer: acquired lock\n",
      "11:39:39: Consumer storing message: 20\n",
      "11:39:39: Producer: about to release lock\n",
      "11:39:39: Consumer: about to acquire lock\n",
      "11:39:39: Producer: released lock\n",
      "11:39:39: Consumer: acquired lock\n",
      "11:39:39: Producer got message: 16\n",
      "11:39:39: Consumer: about to release lock\n",
      "11:39:39: Consumer: released lock\n",
      "11:39:39: Producer: about to acquire lock\n",
      "11:39:39: Consumer storing message: 89\n",
      "11:39:39: Producer: acquired lock\n",
      "11:39:39: Consumer: about to acquire lock\n",
      "11:39:39: Producer: about to release lock\n",
      "11:39:39: Producer: released lock\n",
      "11:39:39: Consumer: acquired lock\n",
      "11:39:39: Producer got message: 5\n",
      "11:39:39: Consumer: about to release lock\n",
      "11:39:39: Producer: about to acquire lock\n",
      "11:39:39: Consumer: released lock\n",
      "11:39:39: Producer: acquired lock\n",
      "11:39:39: Consumer storing message: 16\n",
      "11:39:39: Producer: about to release lock\n",
      "11:39:39: Consumer: about to acquire lock\n",
      "11:39:39: Producer: released lock\n",
      "11:39:39: Consumer: acquired lock\n",
      "11:39:39: Producer got message: 14\n",
      "11:39:39: Consumer: about to release lock\n",
      "11:39:39: Producer: about to acquire lock\n",
      "11:39:39: Consumer: released lock\n",
      "11:39:39: Producer: acquired lock\n",
      "11:39:39: Consumer storing message: 5\n",
      "11:39:39: Producer: about to release lock\n",
      "11:39:39: Consumer: about to acquire lock\n",
      "11:39:39: Producer: released lock\n",
      "11:39:39: Consumer: acquired lock\n",
      "11:39:39: Producer got message: 78\n",
      "11:39:39: Consumer: about to release lock\n",
      "11:39:39: Producer: about to acquire lock\n",
      "11:39:39: Consumer: released lock\n",
      "11:39:39: Producer: acquired lock\n",
      "11:39:39: Consumer storing message: 14\n",
      "11:39:39: Producer: about to release lock\n",
      "11:39:39: Consumer: about to acquire lock\n",
      "11:39:39: Producer: released lock\n",
      "11:39:39: Consumer: acquired lock\n",
      "11:39:39: Producer got message: 72\n",
      "11:39:39: Consumer: about to release lock\n",
      "11:39:39: Producer: about to acquire lock\n",
      "11:39:39: Consumer: released lock\n",
      "11:39:39: Producer: acquired lock\n",
      "11:39:39: Consumer storing message: 78\n",
      "11:39:39: Producer: about to release lock\n",
      "11:39:39: Consumer: about to acquire lock\n",
      "11:39:39: Producer: released lock\n",
      "11:39:39: Consumer: acquired lock\n",
      "11:39:39: Producer got message: 47\n",
      "11:39:39: Consumer: about to release lock\n",
      "11:39:39: Producer: about to acquire lock\n",
      "11:39:39: Consumer: released lock\n",
      "11:39:39: Producer: acquired lock\n",
      "11:39:39: Consumer storing message: 72\n",
      "11:39:39: Producer: about to release lock\n",
      "11:39:39: Consumer: about to acquire lock\n",
      "11:39:39: Producer: released lock\n",
      "11:39:39: Consumer: acquired lock\n",
      "11:39:39: Producer got message: 14\n",
      "11:39:39: Consumer: about to release lock\n",
      "11:39:39: Producer: about to acquire lock\n",
      "11:39:39: Consumer: released lock\n",
      "11:39:39: Producer: acquired lock\n",
      "11:39:39: Consumer storing message: 47\n",
      "11:39:39: Producer: about to release lock\n",
      "11:39:39: Producer: released lock\n",
      "11:39:39: Consumer: about to acquire lock\n",
      "11:39:39: Producer got message: 85\n",
      "11:39:39: Producer: about to acquire lock\n",
      "11:39:39: Consumer: acquired lock\n",
      "11:39:39: Consumer: about to release lock\n",
      "11:39:39: Consumer: released lock\n",
      "11:39:39: Producer: acquired lock\n",
      "11:39:39: Consumer storing message: 14\n",
      "11:39:39: Producer: about to release lock\n",
      "11:39:39: Consumer: about to acquire lock\n",
      "11:39:39: Producer: released lock\n",
      "11:39:39: Consumer: acquired lock\n",
      "11:39:39: <object object at 0x108f41510>: about to acquire lock\n",
      "11:39:39: Consumer: about to release lock\n",
      "11:39:39: Consumer: released lock\n",
      "11:39:39: <object object at 0x108f41510>: acquired lock\n",
      "11:39:39: Consumer storing message: 85\n",
      "11:39:39: <object object at 0x108f41510>: about to release lock\n",
      "11:39:39: Consumer: about to acquire lock\n",
      "11:39:39: <object object at 0x108f41510>: released lock\n",
      "11:39:39: Consumer: acquired lock\n",
      "11:39:39: Consumer: about to release lock\n",
      "11:39:39: Consumer: released lock\n",
      "11:39:39: Consumer storing message: Producer\n",
      "11:39:39: Consumer: about to acquire lock\n"
     ]
    },
    {
     "ename": "KeyboardInterrupt",
     "evalue": "",
     "output_type": "error",
     "traceback": [
      "\u001B[31m---------------------------------------------------------------------------\u001B[39m",
      "\u001B[31mKeyboardInterrupt\u001B[39m                         Traceback (most recent call last)",
      "\u001B[36mCell\u001B[39m\u001B[36m \u001B[39m\u001B[32mIn[12]\u001B[39m\u001B[32m, line 50\u001B[39m\n\u001B[32m     47\u001B[39m logging.basicConfig(\u001B[38;5;28mformat\u001B[39m=\u001B[38;5;28mformat\u001B[39m, level=logging.INFO,\n\u001B[32m     48\u001B[39m                     datefmt=\u001B[33m\"\u001B[39m\u001B[33m%\u001B[39m\u001B[33mH:\u001B[39m\u001B[33m%\u001B[39m\u001B[33mM:\u001B[39m\u001B[33m%\u001B[39m\u001B[33mS\u001B[39m\u001B[33m\"\u001B[39m)\n\u001B[32m     49\u001B[39m pipeline = Pipeline()\n\u001B[32m---> \u001B[39m\u001B[32m50\u001B[39m \u001B[43m\u001B[49m\u001B[38;5;28;43;01mwith\u001B[39;49;00m\u001B[43m \u001B[49m\u001B[43mconcurrent\u001B[49m\u001B[43m.\u001B[49m\u001B[43mfutures\u001B[49m\u001B[43m.\u001B[49m\u001B[43mThreadPoolExecutor\u001B[49m\u001B[43m(\u001B[49m\u001B[43mmax_workers\u001B[49m\u001B[43m=\u001B[49m\u001B[32;43m2\u001B[39;49m\u001B[43m)\u001B[49m\u001B[43m \u001B[49m\u001B[38;5;28;43;01mas\u001B[39;49;00m\u001B[43m \u001B[49m\u001B[43mexecutor\u001B[49m\u001B[43m:\u001B[49m\n\u001B[32m     51\u001B[39m \u001B[43m    \u001B[49m\u001B[43mexecutor\u001B[49m\u001B[43m.\u001B[49m\u001B[43msubmit\u001B[49m\u001B[43m(\u001B[49m\u001B[43mproducer\u001B[49m\u001B[43m,\u001B[49m\u001B[43m \u001B[49m\u001B[43mpipeline\u001B[49m\u001B[43m)\u001B[49m\n\u001B[32m     52\u001B[39m \u001B[43m    \u001B[49m\u001B[43mexecutor\u001B[49m\u001B[43m.\u001B[49m\u001B[43msubmit\u001B[49m\u001B[43m(\u001B[49m\u001B[43mconsumer\u001B[49m\u001B[43m,\u001B[49m\u001B[43m \u001B[49m\u001B[43mpipeline\u001B[49m\u001B[43m)\u001B[49m\n",
      "\u001B[36mFile \u001B[39m\u001B[32m~/.local/share/uv/python/cpython-3.11.13-macos-x86_64-none/lib/python3.11/concurrent/futures/_base.py:647\u001B[39m, in \u001B[36mExecutor.__exit__\u001B[39m\u001B[34m(self, exc_type, exc_val, exc_tb)\u001B[39m\n\u001B[32m    646\u001B[39m \u001B[38;5;28;01mdef\u001B[39;00m\u001B[38;5;250m \u001B[39m\u001B[34m__exit__\u001B[39m(\u001B[38;5;28mself\u001B[39m, exc_type, exc_val, exc_tb):\n\u001B[32m--> \u001B[39m\u001B[32m647\u001B[39m     \u001B[38;5;28;43mself\u001B[39;49m\u001B[43m.\u001B[49m\u001B[43mshutdown\u001B[49m\u001B[43m(\u001B[49m\u001B[43mwait\u001B[49m\u001B[43m=\u001B[49m\u001B[38;5;28;43;01mTrue\u001B[39;49;00m\u001B[43m)\u001B[49m\n\u001B[32m    648\u001B[39m     \u001B[38;5;28;01mreturn\u001B[39;00m \u001B[38;5;28;01mFalse\u001B[39;00m\n",
      "\u001B[36mFile \u001B[39m\u001B[32m~/.local/share/uv/python/cpython-3.11.13-macos-x86_64-none/lib/python3.11/concurrent/futures/thread.py:235\u001B[39m, in \u001B[36mThreadPoolExecutor.shutdown\u001B[39m\u001B[34m(self, wait, cancel_futures)\u001B[39m\n\u001B[32m    233\u001B[39m \u001B[38;5;28;01mif\u001B[39;00m wait:\n\u001B[32m    234\u001B[39m     \u001B[38;5;28;01mfor\u001B[39;00m t \u001B[38;5;129;01min\u001B[39;00m \u001B[38;5;28mself\u001B[39m._threads:\n\u001B[32m--> \u001B[39m\u001B[32m235\u001B[39m         \u001B[43mt\u001B[49m\u001B[43m.\u001B[49m\u001B[43mjoin\u001B[49m\u001B[43m(\u001B[49m\u001B[43m)\u001B[49m\n",
      "\u001B[36mFile \u001B[39m\u001B[32m~/.local/share/uv/python/cpython-3.11.13-macos-x86_64-none/lib/python3.11/threading.py:1119\u001B[39m, in \u001B[36mThread.join\u001B[39m\u001B[34m(self, timeout)\u001B[39m\n\u001B[32m   1116\u001B[39m     \u001B[38;5;28;01mraise\u001B[39;00m \u001B[38;5;167;01mRuntimeError\u001B[39;00m(\u001B[33m\"\u001B[39m\u001B[33mcannot join current thread\u001B[39m\u001B[33m\"\u001B[39m)\n\u001B[32m   1118\u001B[39m \u001B[38;5;28;01mif\u001B[39;00m timeout \u001B[38;5;129;01mis\u001B[39;00m \u001B[38;5;28;01mNone\u001B[39;00m:\n\u001B[32m-> \u001B[39m\u001B[32m1119\u001B[39m     \u001B[38;5;28;43mself\u001B[39;49m\u001B[43m.\u001B[49m\u001B[43m_wait_for_tstate_lock\u001B[49m\u001B[43m(\u001B[49m\u001B[43m)\u001B[49m\n\u001B[32m   1120\u001B[39m \u001B[38;5;28;01melse\u001B[39;00m:\n\u001B[32m   1121\u001B[39m     \u001B[38;5;66;03m# the behavior of a negative timeout isn't documented, but\u001B[39;00m\n\u001B[32m   1122\u001B[39m     \u001B[38;5;66;03m# historically .join(timeout=x) for x<0 has acted as if timeout=0\u001B[39;00m\n\u001B[32m   1123\u001B[39m     \u001B[38;5;28mself\u001B[39m._wait_for_tstate_lock(timeout=\u001B[38;5;28mmax\u001B[39m(timeout, \u001B[32m0\u001B[39m))\n",
      "\u001B[36mFile \u001B[39m\u001B[32m~/.local/share/uv/python/cpython-3.11.13-macos-x86_64-none/lib/python3.11/threading.py:1139\u001B[39m, in \u001B[36mThread._wait_for_tstate_lock\u001B[39m\u001B[34m(self, block, timeout)\u001B[39m\n\u001B[32m   1136\u001B[39m     \u001B[38;5;28;01mreturn\u001B[39;00m\n\u001B[32m   1138\u001B[39m \u001B[38;5;28;01mtry\u001B[39;00m:\n\u001B[32m-> \u001B[39m\u001B[32m1139\u001B[39m     \u001B[38;5;28;01mif\u001B[39;00m \u001B[43mlock\u001B[49m\u001B[43m.\u001B[49m\u001B[43macquire\u001B[49m\u001B[43m(\u001B[49m\u001B[43mblock\u001B[49m\u001B[43m,\u001B[49m\u001B[43m \u001B[49m\u001B[43mtimeout\u001B[49m\u001B[43m)\u001B[49m:\n\u001B[32m   1140\u001B[39m         lock.release()\n\u001B[32m   1141\u001B[39m         \u001B[38;5;28mself\u001B[39m._stop()\n",
      "\u001B[31mKeyboardInterrupt\u001B[39m: "
     ]
    }
   ],
   "execution_count": 12
  },
  {
   "metadata": {},
   "cell_type": "markdown",
   "source": "## Queue is thread safe",
   "id": "53b004f0e7cd5876"
  },
  {
   "metadata": {},
   "cell_type": "code",
   "outputs": [],
   "execution_count": null,
   "source": [
    "import concurrent.futures\n",
    "import logging\n",
    "import queue\n",
    "import random\n",
    "import threading\n",
    "import time\n",
    "\n",
    "class Pipeline(queue.Queue):\n",
    "    def __init__(self):\n",
    "        super().__init__(maxsize=10)\n",
    "\n",
    "    def get_message(self, name):\n",
    "        logging.debug(\"%s:about to get from queue\", name)\n",
    "        value = self.get()\n",
    "        logging.debug(\"%s:got %d from queue\", name, value)\n",
    "        return value\n",
    "\n",
    "    def set_message(self, value, name):\n",
    "        logging.debug(\"%s:about to add %d to queue\", name, value)\n",
    "        self.put(value)\n",
    "        logging.debug(\"%s:added %d to queue\", name, value)\n",
    "\n",
    "def producer(queue, event):\n",
    "    \"\"\"Pretend we're getting a number from the network.\"\"\"\n",
    "    while not event.is_set():\n",
    "        message = random.randint(1, 101)\n",
    "        logging.info(\"Producer got message: %s\", message)\n",
    "        queue.put(message)\n",
    "\n",
    "    logging.info(\"Producer received event. Exiting\")\n",
    "\n",
    "def consumer(queue, event):\n",
    "    \"\"\"Pretend we're saving a number in the database.\"\"\"\n",
    "    while not event.is_set() or not queue.empty():\n",
    "        message = queue.get()\n",
    "        logging.info(\n",
    "            \"Consumer storing message: %s (size=%d)\", message, queue.qsize()\n",
    "        )\n",
    "\n",
    "    logging.info(\"Consumer received event. Exiting\")\n",
    "\n",
    "if __name__ == \"__main__\":\n",
    "    format = \"%(asctime)s: %(message)s\"\n",
    "    logging.basicConfig(format=format, level=logging.INFO,\n",
    "                        datefmt=\"%H:%M:%S\")\n",
    "\n",
    "    pipeline = queue.Queue(maxsize=10)\n",
    "    event = threading.Event()\n",
    "    with concurrent.futures.ThreadPoolExecutor(max_workers=2) as executor:\n",
    "        executor.submit(producer, pipeline, event)\n",
    "        executor.submit(consumer, pipeline, event)\n",
    "\n",
    "        time.sleep(0.1)\n",
    "        logging.info(\"Main: about to set event\")\n",
    "        event.set()"
   ],
   "id": "954831a99b95e83c"
  }
 ],
 "metadata": {
  "kernelspec": {
   "display_name": "Python 3",
   "language": "python",
   "name": "python3"
  },
  "language_info": {
   "codemirror_mode": {
    "name": "ipython",
    "version": 2
   },
   "file_extension": ".py",
   "mimetype": "text/x-python",
   "name": "python",
   "nbconvert_exporter": "python",
   "pygments_lexer": "ipython2",
   "version": "2.7.6"
  }
 },
 "nbformat": 4,
 "nbformat_minor": 5
}
