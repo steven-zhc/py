{
 "cells": [
  {
   "cell_type": "markdown",
   "id": "4d3371fc",
   "metadata": {},
   "source": [
    "# Graph Search\n",
    "\n",
    "- Graph:\n",
    "    - Clone graph\n",
    "    - Copy List with Random Pointer\n",
    "    - Topological sorting\n",
    "\n",
    "- Search:\n",
    "    - Depth First Search\n",
    "    - Breadth First Search"
   ]
  },
  {
   "cell_type": "code",
   "execution_count": 15,
   "id": "7d0acd0d",
   "metadata": {},
   "outputs": [],
   "source": [
    "from typing import List, Optional\n",
    "from collections import deque\n",
    "\n",
    "class Node:\n",
    "    def __init__(self, val = 0, neighbors = None):\n",
    "        self.val = val\n",
    "        self.neighbors = neighbors if neighbors is not None else []\n",
    "    \n",
    "    def __init__(self, x: int, next: 'Node' = None, random: 'Node' = None):\n",
    "        self.val = int(x)\n",
    "        self.next = next\n",
    "        self.random = random"
   ]
  },
  {
   "cell_type": "markdown",
   "id": "f560b1fd",
   "metadata": {},
   "source": "## 133. Clone Graph\n\n[Link](https://leetcode.com/problems/clone-graph/description/)\n\nGiven a reference of a node in a connected undirected graph.\n\nReturn a deep copy (clone) of the graph.\n\nEach node in the graph contains a value (int) and a list (List[Node]) of its neighbors.\n```\nclass Node {\n    public int val;\n    public List<Node> neighbors;\n}\n```\n\nTest case format:\n\nFor simplicity, each node's value is the same as the node's index (1-indexed). For example, the first node with val == 1, the second node with val == 2, and so on. The graph is represented in the test case using an adjacency list.\n\nAn adjacency list is a collection of unordered lists used to represent a finite graph. Each list describes the set of neighbors of a node in the graph.\n\nThe given node will always be the first node with val = 1. You must return the copy of the given node as a reference to the cloned graph.\n\n> Example 1:\n``` \nInput: adjList = [[2,4],[1,3],[2,4],[1,3]]\nOutput: [[2,4],[1,3],[2,4],[1,3]]\nExplanation: There are 4 nodes in the graph.\n1st node (val = 1)'s neighbors are 2nd node (val = 2) and 4th node (val = 4).\n2nd node (val = 2)'s neighbors are 1st node (val = 1) and 3rd node (val = 3).\n3rd node (val = 3)'s neighbors are 2nd node (val = 2) and 4th node (val = 4).\n4th node (val = 4)'s neighbors are 1st node (val = 1) and 3rd node (val = 3).\n```"
  },
  {
   "cell_type": "code",
   "execution_count": 16,
   "id": "3b17ec8b",
   "metadata": {},
   "outputs": [],
   "source": [
    "class Solution133_A:\n",
    "    def __init__(self):\n",
    "        self.visited = {}\n",
    "\n",
    "    def cloneGraph(self, node: Optional['Node']) -> Optional['Node']:\n",
    "        if not node:\n",
    "            return node\n",
    "        \n",
    "        if node in self.visited:\n",
    "            return self.visited[node]\n",
    "        \n",
    "        clone = Node(node.val, [])\n",
    "        self.visited[node] = clone\n",
    "\n",
    "        if node.neighbors:\n",
    "            clone.neighbors = [self.cloneGraph(x) for x in node.neighbors]\n",
    "        \n",
    "        return clone"
   ]
  },
  {
   "cell_type": "code",
   "execution_count": 17,
   "id": "9ca39331",
   "metadata": {},
   "outputs": [],
   "source": [
    "class Solution133_B:\n",
    "    def cloneGraph(self, node: Optional['Node']) -> Optional['Node']:\n",
    "        if not node:\n",
    "            return node\n",
    "        \n",
    "        visited = {}\n",
    "\n",
    "        queue = deque([node])\n",
    "        visited[node] = Node(node.val, [])\n",
    "\n",
    "        while queue:\n",
    "            n = queue.popleft()\n",
    "\n",
    "            for x in n.neighbors:\n",
    "                if x not in visited:\n",
    "                    visited[x] = Node(x.val, [])\n",
    "                    queue.append(x)\n",
    "                \n",
    "                visited[n].neighbors.append(visited[x])\n",
    "        \n",
    "        return visited[node]"
   ]
  },
  {
   "cell_type": "markdown",
   "id": "62473508",
   "metadata": {},
   "source": "## 138. Copy List with Random Pointer\n\n[Link](https://leetcode.com/problems/copy-list-with-random-pointer/description/)\n\nA linked list of length n is given such that each node contains an additional random pointer, which could point to any node in the list, or null.\n\nConstruct a deep copy of the list. The deep copy should consist of exactly n brand new nodes, where each new node has its value set to the value of its corresponding original node. Both the next and random pointer of the new nodes should point to new nodes in the copied list such that the pointers in the original list and copied list represent the same list state. None of the pointers in the new list should point to nodes in the original list.\n\nFor example, if there are two nodes X and Y in the original list, where X.random --> Y, then for the corresponding two nodes x and y in the copied list, x.random --> y.\n\nReturn the head of the copied linked list.\n\nThe linked list is represented in the input/output as a list of n nodes. Each node is represented as a pair of [val, random_index] where:\n\nval: an integer representing Node.val\nrandom_index: the index of the node (range from 0 to n-1) that the random pointer points to, or null if it does not point to any node.\nYour code will only be given the head of the original linked list.\n\n- Input: head = [[7,null],[13,0],[11,4],[10,2],[1,0]]\n- Output: [[7,null],[13,0],[11,4],[10,2],[1,0]]"
  },
  {
   "cell_type": "code",
   "execution_count": 18,
   "id": "94ac4009",
   "metadata": {},
   "outputs": [],
   "source": [
    "class Solution138:\n",
    "    def copyRandomList(self, head: 'Optional[Node]') -> 'Optional[Node]':\n",
    "        if not head:\n",
    "            return head\n",
    "        \n",
    "        visited = {}\n",
    "        visited[head] = Node(head.val)\n",
    "\n",
    "        q = deque([head])\n",
    "\n",
    "        while q:\n",
    "            n = q.popleft()\n",
    "\n",
    "            if n.next:\n",
    "                if n.next not in visited:\n",
    "                    visited[n.next] = Node(n.next.val)\n",
    "                    q.append(n.next)\n",
    "                visited[n].next = visited[n.next]\n",
    "\n",
    "            if n.random:\n",
    "                if n.random not in visited:\n",
    "                    visited[n.random] = Node(n.random.val)\n",
    "                    q.append(n.random)\n",
    "                visited[n].random = visited[n.random]\n",
    "        \n",
    "        return visited[head]\n"
   ]
  },
  {
   "cell_type": "markdown",
   "id": "3d2d8fd0",
   "metadata": {},
   "source": [
    "# Conclusion\n",
    "\n",
    "- DFS (O(2^n), O(n!)) (思想:构建搜索树+判断可行性)\n",
    "    - 1. Find all possible solutions\n",
    "    - 2. Permutations / Subsets\n",
    "\n",
    "- BFS (O(m), O(n))\n",
    "    - 1. Graph traversal (每个点只遍历一次)\n",
    "    - 2. Find shortest path in a simple graph"
   ]
  },
  {
   "cell_type": "markdown",
   "id": "04135977",
   "metadata": {
    "vscode": {
     "languageId": "markdown"
    }
   },
   "source": "## 46. Permutations\n\n[Link](https://leetcode.com/problems/permutations/description/)\n\nGiven an array `nums` of distinct integers, return all the possible permutations. You can return the answer in any order.\n\n**Example 1:**\n- Input: nums = [1,2,3]\n- Output: [[1,2,3],[1,3,2],[2,1,3],[2,3,1],[3,1,2],[3,2,1]]"
  },
  {
   "cell_type": "code",
   "execution_count": 19,
   "id": "1e6c2364",
   "metadata": {},
   "outputs": [],
   "source": [
    "class Solution46:\n",
    "\n",
    "    def helper(self, nums, res, curr):\n",
    "        if len(curr) == len(nums):\n",
    "            res.append(curr[:])\n",
    "            return\n",
    "        for x in nums:\n",
    "            if x not in curr:\n",
    "                curr.append(x)\n",
    "                self.helper(nums, res, curr)\n",
    "                curr.pop()\n",
    "\n",
    "\n",
    "    def permute(self, nums: List[int]) -> List[List[int]]:\n",
    "        res = []\n",
    "        self.helper(nums, res, [])\n",
    "        return res"
   ]
  },
  {
   "cell_type": "markdown",
   "id": "499bac68",
   "metadata": {},
   "source": "## 131. Palindrome Partitioning\n\n[Link](https://leetcode.com/problems/palindrome-partitioning/description/)\n\nGiven a string s, partition s such that every substring of the partition is a palindrome. Return all possible palindrome partitioning of s.\n\n\n> Example 1:\n\n- Input: s = \"aab\"\n- Output: [[\"a\",\"a\",\"b\"],[\"aa\",\"b\"]]"
  },
  {
   "cell_type": "code",
   "execution_count": 20,
   "id": "1129f436",
   "metadata": {},
   "outputs": [],
   "source": [
    "class Solution131:\n",
    "    def isPalindrome(self, s: str) -> bool:\n",
    "        return s == s[::-1]\n",
    "\n",
    "    def helper(self, s, res, curr):\n",
    "        if not s:\n",
    "            res.append(curr)\n",
    "            \n",
    "        for i in range(1, len(s) + 1):\n",
    "            if self.isPalindrome(s[:i]):\n",
    "                self.helper(s[i:], res, curr + [s[:i]])\n",
    "\n",
    "    def partition(self, s: str) -> List[List[str]]:\n",
    "        result = []\n",
    "        self.helper(s, result, [])\n",
    "        return result"
   ]
  },
  {
   "cell_type": "markdown",
   "id": "7dfdb48f",
   "metadata": {},
   "source": "## 39. Combination Sum\n\n[Link](https://leetcode.com/problems/combination-sum/description/)\n\nGiven an array of distinct integers candidates and a target integer target, return a list of all unique combinations of candidates where the chosen numbers sum to target. You may return the combinations in any order.\n\nThe same number may be chosen from candidates an unlimited number of times. Two combinations are unique if the frequency of at least one of the chosen numbers is different.\n\nThe test cases are generated such that the number of unique combinations that sum up to target is less than 150 combinations for the given input.\n\n> Example 1:\n\n- Input: candidates = [2,3,6,7], target = 7\n- Output: [[2,2,3],[7]]\n- Explanation:\n2 and 3 are candidates, and 2 + 2 + 3 = 7. Note that 2 can be used multiple times.\n7 is a candidate, and 7 = 7.\nThese are the only two combinations."
  },
  {
   "cell_type": "code",
   "execution_count": 21,
   "id": "4e0ff965",
   "metadata": {},
   "outputs": [],
   "source": [
    "class Solution39:\n",
    "    def helper(self, candidates, target, res, curr, k): \n",
    "        if target < 0:\n",
    "            return\n",
    "        \n",
    "        if target == 0:\n",
    "            res.append(curr[:])\n",
    "            return\n",
    "        \n",
    "        for i in range(k, len(candidates)):\n",
    "            curr.append(candidates[i])\n",
    "            self.helper(candidates, target - candidates[i], res, curr, i)\n",
    "            curr.pop()\n",
    "\n",
    "    def combinationSum(self, candidates: List[int], target: int) -> List[List[int]]:\n",
    "        result = []\n",
    "        self.helper(candidates, target, result, [], 0)\n",
    "\n",
    "        return result"
   ]
  },
  {
   "cell_type": "markdown",
   "id": "a5bbf7cd",
   "metadata": {},
   "source": "## 40. Combination Sum II\n\n[Link](https://leetcode.com/problems/combination-sum-ii/description/)\n\nGiven a collection of candidate numbers (candidates) and a target number (target), find all unique combinations in candidates where the candidate numbers sum to target.\n\nEach number in candidates may only be used once in the combination.\n\nNote: The solution set must not contain duplicate combinations.\n\n> Example 1:\n\n- Input: candidates = [10,1,2,7,6,1,5], target = 8\n- Output: \n```python\n[\n[1,1,6],\n[1,2,5],\n[1,7],\n[2,6]\n]\n```"
  },
  {
   "cell_type": "code",
   "execution_count": 22,
   "id": "d1387cf2",
   "metadata": {},
   "outputs": [],
   "source": [
    "class Solution40:\n",
    "    def helper(self, candidates, target, k, curr, result):\n",
    "        if target < 0:\n",
    "            return\n",
    "        if target == 0:\n",
    "            result.append(curr[:])\n",
    "            return\n",
    "\n",
    "        for i in range(k, len(candidates)):\n",
    "            if i > k and candidates[i] == candidates[i - 1]:\n",
    "                continue\n",
    "            \n",
    "            curr.append(candidates[i])\n",
    "            self.helper(candidates, target - candidates[i], i + 1, curr, result)\n",
    "            curr.pop()\n",
    "        \n",
    "    def combinationSum2(self, candidates: List[int], target: int) -> List[List[int]]:\n",
    "        result = []\n",
    "        candidates.sort()\n",
    "        self.helper(candidates, target, 0, [], result)\n",
    "        return result"
   ]
  },
  {
   "cell_type": "markdown",
   "id": "9f6df8a6",
   "metadata": {},
   "source": [
    "## 127. Word Ladder\n",
    "\n",
    "[Link](https://leetcode.com/problems/word-ladder/description/)\n",
    "\n",
    "A transformation sequence from word beginWord to word endWord using a dictionary wordList is a sequence of words beginWord -> s1 -> s2 -> ... -> sk such that:\n",
    "\n",
    "Every adjacent pair of words differs by a single letter.\n",
    "Every si for 1 <= i <= k is in wordList. Note that beginWord does not need to be in wordList.\n",
    "sk == endWord\n",
    "Given two words, beginWord and endWord, and a dictionary wordList, return the number of words in the shortest transformation sequence from beginWord to endWord, or 0 if no such sequence exists.\n",
    "\n",
    " \n",
    "\n",
    "> Example 1:\n",
    "\n",
    "- Input: beginWord = \"hit\", endWord = \"cog\", wordList = [\"hot\",\"dot\",\"dog\",\"lot\",\"log\",\"cog\"]\n",
    "- Output: 5\n",
    "Explanation: One shortest transformation sequence is \"hit\" -> \"hot\" -> \"dot\" -> \"dog\" -> cog\", which is 5 words long.\n"
   ]
  },
  {
   "cell_type": "code",
   "execution_count": null,
   "id": "da736a64",
   "metadata": {},
   "outputs": [],
   "source": []
  }
 ],
 "metadata": {
  "kernelspec": {
   "display_name": "py",
   "language": "python",
   "name": "python3"
  },
  "language_info": {
   "codemirror_mode": {
    "name": "ipython",
    "version": 3
   },
   "file_extension": ".py",
   "mimetype": "text/x-python",
   "name": "python",
   "nbconvert_exporter": "python",
   "pygments_lexer": "ipython3",
   "version": "3.11.13"
  }
 },
 "nbformat": 4,
 "nbformat_minor": 5
}