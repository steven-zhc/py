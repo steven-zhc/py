{
 "cells": [
  {
   "cell_type": "markdown",
   "id": "4d3371fc",
   "metadata": {},
   "source": [
    "# Graph Search\n",
    "\n",
    "- Graph:\n",
    "    - Clone graph\n",
    "    - Copy List with Random Pointer\n",
    "    - Topological sorting\n",
    "\n",
    "- Search:\n",
    "    - Depth First Search\n",
    "    - Breadth First Search"
   ]
  },
  {
   "cell_type": "code",
   "execution_count": 6,
   "id": "7d0acd0d",
   "metadata": {},
   "outputs": [],
   "source": [
    "from typing import List, Optional\n",
    "from collections import deque\n",
    "\n",
    "class Node:\n",
    "    def __init__(self, val = 0, neighbors = None):\n",
    "        self.val = val\n",
    "        self.neighbors = neighbors if neighbors is not None else []\n",
    "    \n",
    "    def __init__(self, x: int, next: 'Node' = None, random: 'Node' = None):\n",
    "        self.val = int(x)\n",
    "        self.next = next\n",
    "        self.random = random"
   ]
  },
  {
   "cell_type": "markdown",
   "id": "f560b1fd",
   "metadata": {},
   "source": [
    "## 133. Clone Graph\n",
    "Given a reference of a node in a connected undirected graph.\n",
    "\n",
    "Return a deep copy (clone) of the graph.\n",
    "\n",
    "Each node in the graph contains a value (int) and a list (List[Node]) of its neighbors.\n",
    "```\n",
    "class Node {\n",
    "    public int val;\n",
    "    public List<Node> neighbors;\n",
    "}\n",
    "```\n",
    "\n",
    "Test case format:\n",
    "\n",
    "For simplicity, each node's value is the same as the node's index (1-indexed). For example, the first node with val == 1, the second node with val == 2, and so on. The graph is represented in the test case using an adjacency list.\n",
    "\n",
    "An adjacency list is a collection of unordered lists used to represent a finite graph. Each list describes the set of neighbors of a node in the graph.\n",
    "\n",
    "The given node will always be the first node with val = 1. You must return the copy of the given node as a reference to the cloned graph.\n",
    "\n",
    "> Example 1:\n",
    "``` \n",
    "Input: adjList = [[2,4],[1,3],[2,4],[1,3]]\n",
    "Output: [[2,4],[1,3],[2,4],[1,3]]\n",
    "Explanation: There are 4 nodes in the graph.\n",
    "1st node (val = 1)'s neighbors are 2nd node (val = 2) and 4th node (val = 4).\n",
    "2nd node (val = 2)'s neighbors are 1st node (val = 1) and 3rd node (val = 3).\n",
    "3rd node (val = 3)'s neighbors are 2nd node (val = 2) and 4th node (val = 4).\n",
    "4th node (val = 4)'s neighbors are 1st node (val = 1) and 3rd node (val = 3).\n",
    "```"
   ]
  },
  {
   "cell_type": "code",
   "execution_count": 4,
   "id": "3b17ec8b",
   "metadata": {},
   "outputs": [],
   "source": [
    "class Solution133_A:\n",
    "    def __init__(self):\n",
    "        self.visited = {}\n",
    "\n",
    "    def cloneGraph(self, node: Optional['Node']) -> Optional['Node']:\n",
    "        if not node:\n",
    "            return node\n",
    "        \n",
    "        if node in self.visited:\n",
    "            return self.visited[node]\n",
    "        \n",
    "        clone = Node(node.val, [])\n",
    "        self.visited[node] = clone\n",
    "\n",
    "        if node.neighbors:\n",
    "            clone.neighbors = [self.cloneGraph(x) for x in node.neighbors]\n",
    "        \n",
    "        return clone"
   ]
  },
  {
   "cell_type": "code",
   "execution_count": 5,
   "id": "9ca39331",
   "metadata": {},
   "outputs": [],
   "source": [
    "class Solution133_B:\n",
    "    def cloneGraph(self, node: Optional['Node']) -> Optional['Node']:\n",
    "        if not node:\n",
    "            return node\n",
    "        \n",
    "        visited = {}\n",
    "\n",
    "        queue = deque([node])\n",
    "        visited[node] = Node(node.val, [])\n",
    "\n",
    "        while queue:\n",
    "            n = queue.popleft()\n",
    "\n",
    "            for x in n.neighbors:\n",
    "                if x not in visited:\n",
    "                    visited[x] = Node(x.val, [])\n",
    "                    queue.append(x)\n",
    "                \n",
    "                visited[n].neighbors.append(visited[x])\n",
    "        \n",
    "        return visited[node]"
   ]
  },
  {
   "cell_type": "markdown",
   "id": "62473508",
   "metadata": {},
   "source": [
    "## 138. Copy List with Random Pointer\n",
    "\n",
    "A linked list of length n is given such that each node contains an additional random pointer, which could point to any node in the list, or null.\n",
    "\n",
    "Construct a deep copy of the list. The deep copy should consist of exactly n brand new nodes, where each new node has its value set to the value of its corresponding original node. Both the next and random pointer of the new nodes should point to new nodes in the copied list such that the pointers in the original list and copied list represent the same list state. None of the pointers in the new list should point to nodes in the original list.\n",
    "\n",
    "For example, if there are two nodes X and Y in the original list, where X.random --> Y, then for the corresponding two nodes x and y in the copied list, x.random --> y.\n",
    "\n",
    "Return the head of the copied linked list.\n",
    "\n",
    "The linked list is represented in the input/output as a list of n nodes. Each node is represented as a pair of [val, random_index] where:\n",
    "\n",
    "val: an integer representing Node.val\n",
    "random_index: the index of the node (range from 0 to n-1) that the random pointer points to, or null if it does not point to any node.\n",
    "Your code will only be given the head of the original linked list.\n",
    "\n",
    "- Input: head = [[7,null],[13,0],[11,4],[10,2],[1,0]]\n",
    "- Output: [[7,null],[13,0],[11,4],[10,2],[1,0]]"
   ]
  },
  {
   "cell_type": "code",
   "execution_count": null,
   "id": "94ac4009",
   "metadata": {},
   "outputs": [],
   "source": [
    "class Solution138:\n",
    "    def copyRandomList(self, head: 'Optional[Node]') -> 'Optional[Node]':\n",
    "        if not head:\n",
    "            return head\n",
    "        \n",
    "        visited = {}\n",
    "        visited[head] = Node(head.val)\n",
    "\n",
    "        q = deque([head])\n",
    "\n",
    "        while q:\n",
    "            n = q.popleft()\n",
    "\n",
    "            if n.next:\n",
    "                if n.next not in visited:\n",
    "                    visited[n.next] = Node(n.next.val)\n",
    "                    q.append(n.next)\n",
    "                visited[n].next = visited[n.next]\n",
    "\n",
    "            if n.random:\n",
    "                if n.random not in visited:\n",
    "                    visited[n.random] = Node(n.random.val)\n",
    "                    q.append(n.random)\n",
    "                visited[n].random = visited[n.random]\n",
    "        \n",
    "        return visited[head]\n"
   ]
  },
  {
   "cell_type": "markdown",
   "id": "04135977",
   "metadata": {
    "vscode": {
     "languageId": "markdown"
    }
   },
   "source": [
    "## 46. Permutations\n",
    "\n",
    "Given an array `nums` of distinct integers, return all the possible permutations. You can return the answer in any order.\n",
    "\n",
    "**Example 1:**\n",
    "- Input: nums = [1,2,3]\n",
    "- Output: [[1,2,3],[1,3,2],[2,1,3],[2,3,1],[3,1,2],[3,2,1]]"
   ]
  },
  {
   "cell_type": "code",
   "execution_count": null,
   "id": "1e6c2364",
   "metadata": {},
   "outputs": [],
   "source": [
    "class Solution46:\n",
    "\n",
    "    def helper(self, nums, res, curr):\n",
    "        if len(curr) == len(nums):\n",
    "            res.append(curr[:])\n",
    "            return\n",
    "        for x in nums:\n",
    "            if x not in curr:\n",
    "                curr.append(x)\n",
    "                self.helper(nums, res, curr)\n",
    "                curr.pop()\n",
    "\n",
    "\n",
    "    def permute(self, nums: List[int]) -> List[List[int]]:\n",
    "        res = []\n",
    "        self.helper(nums, res, [])\n",
    "        return res"
   ]
  }
 ],
 "metadata": {
  "kernelspec": {
   "display_name": "py",
   "language": "python",
   "name": "python3"
  },
  "language_info": {
   "codemirror_mode": {
    "name": "ipython",
    "version": 3
   },
   "file_extension": ".py",
   "mimetype": "text/x-python",
   "name": "python",
   "nbconvert_exporter": "python",
   "pygments_lexer": "ipython3",
   "version": "3.11.13"
  }
 },
 "nbformat": 4,
 "nbformat_minor": 5
}
