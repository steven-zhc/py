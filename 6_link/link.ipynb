{
 "cells": [
  {
   "cell_type": "markdown",
   "id": "b708144b",
   "metadata": {},
   "source": [
    "# Linked List"
   ]
  },
  {
   "cell_type": "code",
   "execution_count": null,
   "id": "4ce62bec",
   "metadata": {},
   "outputs": [],
   "source": [
    "from typing import List, Optional\n",
    "\n",
    "class ListNode:\n",
    "    def __init__(self, val=0, next=None):\n",
    "        self.val = val\n",
    "        self.next = next"
   ]
  },
  {
   "cell_type": "code",
   "execution_count": 3,
   "id": "f028e3e7",
   "metadata": {},
   "outputs": [],
   "source": [
    "def make(values: list[int]) -> Optional[ListNode]:\n",
    "    if not values:\n",
    "        return None\n",
    "    head = ListNode(values[0])\n",
    "    current = head\n",
    "    for val in values[1:]:\n",
    "        current.next = ListNode(val)\n",
    "        current = current.next\n",
    "    return head\n",
    "\n",
    "def compare(l1: Optional[ListNode], l2: Optional[ListNode]) -> bool:\n",
    "    while l1 and l2:\n",
    "        if l1.val != l2.val:\n",
    "            return False\n",
    "        l1 = l1.next\n",
    "        l2 = l2.next\n",
    "    return l1 is None and l2 is None\n"
   ]
  },
  {
   "cell_type": "markdown",
   "id": "32c8733d",
   "metadata": {},
   "source": [
    "## 206. Reverse Linked List\n",
    "\n",
    "Description\n",
    "Given the head of a singly linked list, reverse the list, and return the reversed list.\n",
    "\n",
    "- Input: head = [1,2,3,4,5]\n",
    "- Output: [5,4,3,2,1]\n"
   ]
  },
  {
   "cell_type": "code",
   "execution_count": 4,
   "id": "8e39642a",
   "metadata": {},
   "outputs": [],
   "source": [
    "class Solution206:\n",
    "    def reverseList(self, head: Optional[ListNode]) -> Optional[ListNode]:\n",
    "        if not head:\n",
    "            return None\n",
    "        p, c = None, head\n",
    "        while c:\n",
    "            t = c.next\n",
    "            c.next = p\n",
    "            p = c\n",
    "            c = t\n",
    "        \n",
    "        return p"
   ]
  },
  {
   "cell_type": "code",
   "execution_count": 5,
   "id": "99d712d2",
   "metadata": {},
   "outputs": [
    {
     "name": "stdout",
     "output_type": "stream",
     "text": [
      "Test passed!\n"
     ]
    }
   ],
   "source": [
    "def test_Solution206():\n",
    "    input_list = [1, 2, 3, 4, 5]\n",
    "    expected_output = [5, 4, 3, 2, 1]\n",
    "    head = make(input_list)\n",
    "    result = Solution206().reverseList(head)\n",
    "    assert compare(result, make(expected_output)), \"Test failed!\"\n",
    "    print(\"Test passed!\")\n",
    "\n",
    "test_Solution206()"
   ]
  },
  {
   "cell_type": "markdown",
   "id": "226a70d5",
   "metadata": {},
   "source": [
    "## 92. Reverse Linked List II\n",
    "\n",
    "Given the head of a singly linked list and two integers left and right where left <= right, reverse the nodes of the list from position left to position right, and return the reversed list.\n",
    "\n",
    "Example\n",
    "\n",
    "- Input: head = [1,2,3,4,5], left = 2, right = 4\n",
    "- Output: [1,4,3,2,5]"
   ]
  },
  {
   "cell_type": "code",
   "execution_count": 6,
   "id": "98babe32",
   "metadata": {},
   "outputs": [],
   "source": [
    "class Solution92:\n",
    "    def findK(self, head: ListNode, index: int) -> Optional[ListNode]:\n",
    "        for _ in range(index):\n",
    "            if not head:\n",
    "                return None\n",
    "            head = head.next\n",
    "        return head\n",
    "\n",
    "    def reverse(self, head: ListNode):\n",
    "        prev = None\n",
    "        while head:\n",
    "            t = head.next\n",
    "            head.next = prev\n",
    "\n",
    "            prev = head\n",
    "            head = t\n",
    "        \n",
    "        return prev\n",
    "\n",
    "        \n",
    "    def reverseBetween(self, head: Optional[ListNode], left: int, right: int) -> Optional[ListNode]:\n",
    "        if not head:\n",
    "            return None\n",
    "        root = ListNode(-1, head)\n",
    "\n",
    "        l_prev = self.findK(root, left - 1)\n",
    "        l = l_prev.next\n",
    "        \n",
    "        r = self.findK(root, right)\n",
    "        r_next = r.next\n",
    "        r.next = None\n",
    "\n",
    "        l_prev.next = r\n",
    "        self.reverse(l)\n",
    "\n",
    "        l_prev.next = r\n",
    "        l.next = r_next\n",
    "        \n",
    "        return root.next"
   ]
  },
  {
   "cell_type": "code",
   "execution_count": 7,
   "id": "bf67dff9",
   "metadata": {},
   "outputs": [
    {
     "name": "stdout",
     "output_type": "stream",
     "text": [
      "Test passed!\n"
     ]
    }
   ],
   "source": [
    "def test_Solution92():\n",
    "    input_list = [1, 2, 3, 4, 5]\n",
    "    left, right = 2, 4\n",
    "    expected_output = [1, 4, 3, 2, 5]\n",
    "    head = make(input_list)\n",
    "    result = Solution92().reverseBetween(head, left, right)\n",
    "    assert compare(result, make(expected_output)), \"Test failed!\"\n",
    "    print(\"Test passed!\")\n",
    "\n",
    "test_Solution92()"
   ]
  },
  {
   "cell_type": "markdown",
   "id": "18f136f2",
   "metadata": {},
   "source": [
    "## 21. Merge Two Sorted Lists\n",
    "\n",
    "You are given the heads of two sorted linked lists list1 and list2.\n",
    "\n",
    "Merge the two lists into one sorted list. The list should be made by splicing together the nodes of the first two lists.\n",
    "\n",
    "Return the head of the merged linked list.\n",
    "\n",
    "> Input: list1 = [1,2,4], list2 = [1,3,4]\n",
    "> Output: [1,1,2,3,4,4]"
   ]
  },
  {
   "cell_type": "code",
   "execution_count": 8,
   "id": "7b2b65d4",
   "metadata": {},
   "outputs": [],
   "source": [
    "# Definition for singly-linked list.\n",
    "# class ListNode:\n",
    "#     def __init__(self, val=0, next=None):\n",
    "#         self.val = val\n",
    "#         self.next = next\n",
    "class Solution21:\n",
    "    def mergeTwoLists(self, list1: Optional[ListNode], list2: Optional[ListNode]) -> Optional[ListNode]:\n",
    "        p1, p2 = list1, list2\n",
    "        curr = ListNode(-101)\n",
    "        result = curr\n",
    "        while p1 or p2:\n",
    "            if not p1:\n",
    "                curr.next = p2\n",
    "                break\n",
    "            if not p2:\n",
    "                curr.next = p1\n",
    "                break\n",
    "            if p1.val <= p2.val:\n",
    "                curr.next = p1\n",
    "                p1 = p1.next\n",
    "            else:\n",
    "                curr.next = p2\n",
    "                p2 = p2.next\n",
    "            curr = curr.next\n",
    "        \n",
    "        return result.next"
   ]
  },
  {
   "cell_type": "code",
   "execution_count": 9,
   "id": "546fd489",
   "metadata": {},
   "outputs": [
    {
     "name": "stdout",
     "output_type": "stream",
     "text": [
      "Test passed!\n"
     ]
    }
   ],
   "source": [
    "def test_Solution21():\n",
    "    input_list1 = [1, 2, 4]\n",
    "    input_list2 = [1, 3, 4]\n",
    "    expected_output = [1, 1, 2, 3, 4, 4]\n",
    "    list1 = make(input_list1)\n",
    "    list2 = make(input_list2)\n",
    "    result = Solution21().mergeTwoLists(list1, list2)\n",
    "    assert compare(result, make(expected_output)), \"Test failed!\"\n",
    "    print(\"Test passed!\")\n",
    "\n",
    "test_Solution21()"
   ]
  },
  {
   "cell_type": "markdown",
   "id": "b8146da6",
   "metadata": {},
   "source": [
    "## 86. Partition List\n",
    "Given the head of a linked list and a value x, partition it such that all nodes less than x come before nodes greater than or equal to x.\n",
    "\n",
    "You should preserve the original relative order of the nodes in each of the two partitions.\n",
    "\n",
    "- Input: head = [1,4,3,2,5,2], x = 3\n",
    "- Output: [1,2,2,4,3,5]"
   ]
  },
  {
   "cell_type": "code",
   "execution_count": 10,
   "id": "43447d73",
   "metadata": {},
   "outputs": [],
   "source": [
    "class Solution86:\n",
    "    def partition(self, head: Optional[ListNode], x: int) -> Optional[ListNode]:\n",
    "        leftHead = ListNode()\n",
    "        left = leftHead\n",
    "\n",
    "        rightHead = ListNode()\n",
    "        right = rightHead\n",
    "\n",
    "        while head:\n",
    "            if head.val < x:\n",
    "                left.next = head\n",
    "                left = left.next\n",
    "            else:\n",
    "                right.next = head\n",
    "                right = right.next\n",
    "            head = head.next\n",
    "        right.next = None\n",
    "        \n",
    "        left.next = rightHead.next\n",
    "        return leftHead.next"
   ]
  },
  {
   "cell_type": "code",
   "execution_count": 11,
   "id": "377bbdf5",
   "metadata": {},
   "outputs": [
    {
     "name": "stdout",
     "output_type": "stream",
     "text": [
      "Test passed!\n"
     ]
    }
   ],
   "source": [
    "def test_Solution86():\n",
    "    input_list = [1, 4, 3, 2, 5, 2]\n",
    "    x = 3\n",
    "    expected_output = [1, 2, 2, 4, 3, 5]\n",
    "    head = make(input_list)\n",
    "    result = Solution86().partition(head, x)\n",
    "    assert compare(result, make(expected_output)), \"Test failed!\"\n",
    "    print(\"Test passed!\")\n",
    "\n",
    "test_Solution86()"
   ]
  },
  {
   "cell_type": "markdown",
   "id": "e77109b1",
   "metadata": {},
   "source": [
    "## 148. Sort List\n",
    "\n",
    "Given the head of a linked list, return the list after sorting it in ascending order.\n",
    "\n",
    "- Input: head = [4,2,1,3]\n",
    "- Output: [1,2,3,4]"
   ]
  },
  {
   "cell_type": "code",
   "execution_count": null,
   "id": "704efacf",
   "metadata": {},
   "outputs": [],
   "source": [
    "# not working for large inputs\n",
    "class Solution148_I:\n",
    "    \n",
    "    def sortList(self, head: Optional[ListNode]) -> Optional[ListNode]:\n",
    "        result = ListNode()\n",
    "\n",
    "        while head:\n",
    "            n = head\n",
    "            t = head.next\n",
    "\n",
    "            prev = result\n",
    "            curr = result.next\n",
    "            while curr:\n",
    "                if curr.val < n.val:\n",
    "                    prev = curr\n",
    "                    curr = curr.next\n",
    "                else:\n",
    "                    prev.next = n\n",
    "                    n.next = curr\n",
    "                    break\n",
    "            if not curr:\n",
    "                prev.next = n\n",
    "                n.next = None\n",
    "\n",
    "            head = t\n",
    "\n",
    "        return result.next"
   ]
  },
  {
   "cell_type": "code",
   "execution_count": null,
   "id": "c6957af5",
   "metadata": {},
   "outputs": [],
   "source": [
    "class Solution148_II:\n",
    "\n",
    "    def findMid(self, head: Optional[ListNode]) -> Optional[ListNode]:\n",
    "        dummy = ListNode(0, head)\n",
    "        slow, fast = dummy, dummy\n",
    "\n",
    "        while fast and fast.next:\n",
    "            slow = slow.next\n",
    "            fast = fast.next.next\n",
    "        return slow\n",
    "\n",
    "    def merge(self, left: Optional[ListNode], right: Optional[ListNode]) -> Optional[ListNode]:\n",
    "        dummy = ListNode()\n",
    "        curr = dummy\n",
    "        \n",
    "        while left and right:\n",
    "            if left.val <= right.val:\n",
    "                curr.next = left\n",
    "                left = left.next\n",
    "            else:\n",
    "                curr.next = right\n",
    "                right = right.next\n",
    "            curr = curr.next\n",
    "\n",
    "        curr.next = left if left else right\n",
    "        return dummy.next\n",
    "        \n",
    "    \n",
    "    def sortList(self, head: Optional[ListNode]) -> Optional[ListNode]:\n",
    "        if not head or not head.next:\n",
    "            return head\n",
    "        \n",
    "        mid = self.findMid(head)\n",
    "\n",
    "        left = head\n",
    "        right = mid.next\n",
    "        mid.next = None\n",
    "\n",
    "        sorted_left = self.sortList(left)\n",
    "        sorted_right = self.sortList(right)\n",
    "\n",
    "        return self.merge(sorted_left, sorted_right)\n",
    "\n"
   ]
  },
  {
   "cell_type": "markdown",
   "id": "40e19fc5",
   "metadata": {},
   "source": [
    "## 876. Middle of the Linked List\n",
    "\n",
    "Given the head of a singly linked list, return the middle node of the linked list.\n",
    "\n",
    "If there are two middle nodes, return the second middle node.\n",
    "\n",
    "- Input: head = [1,2,3,4,5]\n",
    "- Output: [3,4,5]\n",
    "- Explanation: The middle node of the list is node 3.\n"
   ]
  },
  {
   "cell_type": "code",
   "execution_count": 12,
   "id": "4645036e",
   "metadata": {},
   "outputs": [],
   "source": [
    "class Solution876:\n",
    "    def middleNode(self, head: Optional[ListNode]) -> Optional[ListNode]:\n",
    "        dummy = ListNode(0, head)\n",
    "        slow, fast = dummy, dummy\n",
    "\n",
    "        while slow and fast:\n",
    "            slow = slow.next\n",
    "            fast = fast.next\n",
    "            if fast:\n",
    "                fast = fast.next\n",
    "        \n",
    "        return slow"
   ]
  },
  {
   "cell_type": "code",
   "execution_count": 13,
   "id": "da7c49e6",
   "metadata": {},
   "outputs": [
    {
     "name": "stdout",
     "output_type": "stream",
     "text": [
      "Test passed!\n"
     ]
    }
   ],
   "source": [
    "def test_Solution876():\n",
    "    input_list = [1, 2, 3, 4, 5]\n",
    "    expected_output = [3, 4, 5]\n",
    "    head = make(input_list)\n",
    "    result = Solution876().middleNode(head)\n",
    "    assert compare(result, make(expected_output)), \"Test failed!\"\n",
    "    print(\"Test passed!\")\n",
    "\n",
    "test_Solution876()"
   ]
  },
  {
   "cell_type": "markdown",
   "id": "c80ce977",
   "metadata": {},
   "source": [
    "## 143. Reorder List\n",
    "You are given the head of a singly linked-list. The list can be represented as:\n",
    "\n",
    "> L0 → L1 → … → Ln - 1 → Ln\n",
    "\n",
    "Reorder the list to be on the following form:\n",
    "\n",
    "> L0 → Ln → L1 → Ln - 1 → L2 → Ln - 2 → …\n",
    "\n",
    "You may not modify the values in the list's nodes. Only nodes themselves may be changed."
   ]
  },
  {
   "cell_type": "code",
   "execution_count": 18,
   "id": "5c43abbd",
   "metadata": {},
   "outputs": [],
   "source": [
    "class Solution143:\n",
    "    def findMid(self, head: Optional[ListNode]):\n",
    "        dummy = ListNode(0, head)\n",
    "        slow, fast = dummy, dummy\n",
    "        while fast and fast.next:\n",
    "            slow = slow.next\n",
    "            fast = fast.next.next\n",
    "        \n",
    "        return slow\n",
    "\n",
    "    def reverse(self, head: Optional[ListNode]):\n",
    "        prev = None\n",
    "        while head:\n",
    "            t = head.next\n",
    "            head.next = prev\n",
    "            prev = head\n",
    "            head = t\n",
    "        \n",
    "        return prev\n",
    "    \n",
    "    def merge(self, l1: Optional[ListNode], l2: Optional[ListNode]):\n",
    "        curr = ListNode()\n",
    "\n",
    "        while l1 and l2:\n",
    "            curr.next = l1\n",
    "            curr = curr.next\n",
    "            l1 = l1.next\n",
    "\n",
    "            curr.next = l2\n",
    "            curr = curr.next\n",
    "            l2 = l2.next\n",
    "        \n",
    "        if not l1:\n",
    "            curr.next = l2\n",
    "        if not l2:\n",
    "            curr.next = l1\n",
    "\n",
    "    def reorderList(self, head: Optional[ListNode]) -> None:\n",
    "        \"\"\"\n",
    "        Do not return anything, modify head in-place instead.\n",
    "        \"\"\"\n",
    "        if not head and not head.next:\n",
    "            return\n",
    "\n",
    "        mid = self.findMid(head)\n",
    "        right = self.reverse(mid.next)\n",
    "        mid.next = None\n",
    "\n",
    "        self.merge(head, right)"
   ]
  },
  {
   "cell_type": "code",
   "execution_count": 19,
   "id": "4a22f674",
   "metadata": {},
   "outputs": [
    {
     "name": "stdout",
     "output_type": "stream",
     "text": [
      "Test passed!\n"
     ]
    }
   ],
   "source": [
    "def test_Solution143():\n",
    "    input_list = [1, 2, 3, 4, 5]\n",
    "    expected_output = [1, 5, 2, 4, 3]\n",
    "    head = make(input_list)\n",
    "    Solution143().reorderList(head)\n",
    "    assert compare(head, make(expected_output)), \"Test failed!\"\n",
    "    print(\"Test passed!\")\n",
    "\n",
    "test_Solution143()"
   ]
  },
  {
   "cell_type": "markdown",
   "id": "6e9065d0",
   "metadata": {},
   "source": [
    "## 23. Merge K Sorted Lists\n",
    "\n",
    "You are given an array of k linked-lists lists, each linked-list is sorted in ascending order.\n",
    "\n",
    "Merge all the linked-lists into one sorted linked-list and return it.\n",
    "\n",
    "- Input: lists = [[1,4,5],[1,3,4],[2,6]]\n",
    "- Output: [1,1,2,3,4,4,5,6]"
   ]
  },
  {
   "cell_type": "code",
   "execution_count": 26,
   "id": "70bf403e",
   "metadata": {},
   "outputs": [],
   "source": [
    "class Solution23:\n",
    "    def merge(self, l1: Optional[ListNode], l2: Optional[ListNode]):\n",
    "        dummy = ListNode()\n",
    "        curr = dummy\n",
    "\n",
    "        while l1 and l2:\n",
    "            if l1.val <= l2.val:\n",
    "                curr.next = l1\n",
    "                l1 = l1.next\n",
    "            else:\n",
    "                curr.next = l2\n",
    "                l2 = l2.next\n",
    "            curr = curr.next\n",
    "        curr.next = l1 if not l2 else l2\n",
    "        return dummy.next\n",
    "\n",
    "    def mergeKLists(self, lists: List[Optional[ListNode]]) -> Optional[ListNode]:\n",
    "        if not lists:\n",
    "            return None\n",
    "        if len(lists) == 1:\n",
    "            return lists[0]\n",
    "        mid = len(lists) // 2\n",
    "\n",
    "        left = self.mergeKLists(lists[:mid])\n",
    "        right = self.mergeKLists(lists[mid:])\n",
    "\n",
    "        result = self.merge(left, right)\n",
    "\n",
    "        return result\n"
   ]
  },
  {
   "cell_type": "code",
   "execution_count": null,
   "id": "c758c4cd",
   "metadata": {},
   "outputs": [],
   "source": [
    "import heapq\n",
    "\n",
    "class Solution23_II:\n",
    "\n",
    "    def mergeKLists(self, lists: List[Optional[ListNode]]) -> Optional[ListNode]:\n",
    "        if not lists:\n",
    "            return None\n",
    "\n",
    "        \n",
    "        heap = []\n",
    "        for i, node in enumerate(lists):\n",
    "            if node:\n",
    "                heapq.heappush(heap, (node.val, i, node))\n",
    "\n",
    "        dummy = ListNode()\n",
    "        curr = dummy\n",
    "        \n",
    "        while heap:\n",
    "            val, i, node = heappop(heap)\n",
    "\n",
    "            curr.next = node\n",
    "            curr = curr.next\n",
    "\n",
    "            if node.next:\n",
    "                heapq.heappush(heap, (node.next.val, i, node.next))\n",
    "        \n",
    "        return dummy.next"
   ]
  },
  {
   "cell_type": "code",
   "execution_count": 27,
   "id": "3cb01b7c",
   "metadata": {},
   "outputs": [
    {
     "name": "stdout",
     "output_type": "stream",
     "text": [
      "Test passed!\n"
     ]
    }
   ],
   "source": [
    "def test_Solution23():\n",
    "    input_lists = [[1, 4, 5], [1, 3, 4], [2, 6]]\n",
    "    expected_output = [1, 1, 2, 3, 4, 4, 5, 6]\n",
    "    lists = [make(lst) for lst in input_lists]\n",
    "    result = Solution23().mergeKLists(lists)\n",
    "    assert compare(result, make(expected_output)), \"Test failed!\"\n",
    "    print(\"Test passed!\")\n",
    "\n",
    "test_Solution23()"
   ]
  },
  {
   "cell_type": "markdown",
   "id": "e68429ed",
   "metadata": {},
   "source": [
    "## 138. Copy List with Random Pointer\n",
    "\n",
    "A linked list of length n is given such that each node contains an additional random pointer, which could point to any node in the list, or null.\n",
    "\n",
    "Construct a deep copy of the list. The deep copy should consist of exactly n brand new nodes, where each new node has its value set to the value of its corresponding original node. Both the next and random pointer of the new nodes should point to new nodes in the copied list such that the pointers in the original list and copied list represent the same list state. None of the pointers in the new list should point to nodes in the original list.\n",
    "\n",
    "For example, if there are two nodes X and Y in the original list, where X.random --> Y, then for the corresponding two nodes x and y in the copied list, x.random --> y.\n",
    "\n",
    "Return the head of the copied linked list.\n",
    "\n",
    "The linked list is represented in the input/output as a list of n nodes. Each node is represented as a pair of [val, random_index] where:\n",
    "\n",
    "val: an integer representing Node.val\n",
    "random_index: the index of the node (range from 0 to n-1) that the random pointer points to, or null if it does not point to any node.\n",
    "Your code will only be given the head of the original linked list.\n",
    "\n",
    "- Input: head = [[7,null],[13,0],[11,4],[10,2],[1,0]]\n",
    "- Output: [[7,null],[13,0],[11,4],[10,2],[1,0]]"
   ]
  },
  {
   "cell_type": "code",
   "execution_count": 31,
   "id": "437869be",
   "metadata": {},
   "outputs": [],
   "source": [
    "class Node:\n",
    "    def __init__(self, x: int, next: 'Node' = None, random: 'Node' = None):\n",
    "        self.val = int(x)\n",
    "        self.next = next\n",
    "        self.random = random"
   ]
  },
  {
   "cell_type": "code",
   "execution_count": null,
   "id": "ff87069a",
   "metadata": {},
   "outputs": [],
   "source": [
    "class Solution138_A:\n",
    "    def copyRandomList(self, head: 'Optional[Node]') -> 'Optional[Node]':\n",
    "        if not head:\n",
    "            return head\n",
    "        \n",
    "        curr = head\n",
    "\n",
    "        dict = {}\n",
    "        while curr:\n",
    "            dict[curr] = Node(curr.val)\n",
    "            curr = curr.next\n",
    "        \n",
    "        curr = head\n",
    "        while curr:\n",
    "            if curr.next:\n",
    "                dict[curr].next = dict[curr.next]\n",
    "            if curr.random:\n",
    "                dict[curr].random = dict[curr.random]\n",
    "            curr = curr.next\n",
    "        \n",
    "        return dict[head]"
   ]
  },
  {
   "cell_type": "code",
   "execution_count": null,
   "id": "1b685e73",
   "metadata": {},
   "outputs": [],
   "source": [
    "class Solution138_B:\n",
    "    def copyRandomList(self, head: 'Optional[Node]') -> 'Optional[Node]':\n",
    "        if not head:\n",
    "            return head\n",
    "        \n",
    "        curr = head\n",
    "\n",
    "        mapping = {}\n",
    "        while curr:\n",
    "            if curr not in mapping:\n",
    "                mapping[curr] = Node(curr.val)\n",
    "            \n",
    "            if curr.next:\n",
    "                if curr.next not in mapping:\n",
    "                    mapping[curr.next] = Node(curr.next.val)\n",
    "                mapping[curr].next = mapping[curr.next]\n",
    "                \n",
    "            if curr.random:\n",
    "                if curr.random not in mapping:\n",
    "                    mapping[curr.random] = Node(curr.random.val)\n",
    "                mapping[curr].random = mapping[curr.random]\n",
    "                \n",
    "            curr = curr.next\n",
    "        \n",
    "        return mapping[head]"
   ]
  },
  {
   "cell_type": "code",
   "execution_count": null,
   "id": "d22f6614",
   "metadata": {},
   "outputs": [
    {
     "name": "stdout",
     "output_type": "stream",
     "text": [
      "Test passed!\n"
     ]
    }
   ],
   "source": [
    "def test_Solution138_A():\n",
    "    # Helper to create a linked list with random pointers from input format\n",
    "    def create_linked_list(data):\n",
    "        nodes = [Node(val) for val, _ in data]\n",
    "        for i, (_, rand_idx) in enumerate(data):\n",
    "            if i < len(nodes) - 1:\n",
    "                nodes[i].next = nodes[i + 1]\n",
    "            if rand_idx is not None:\n",
    "                nodes[i].random = nodes[rand_idx]\n",
    "        return nodes[0] if nodes else None\n",
    "\n",
    "    # Helper to convert linked list with random pointers to output format\n",
    "    def to_list(head):\n",
    "        nodes = []\n",
    "        node_to_index = {}\n",
    "        curr = head\n",
    "        idx = 0\n",
    "        while curr:\n",
    "            nodes.append(curr)\n",
    "            node_to_index[curr] = idx\n",
    "            curr = curr.next\n",
    "            idx += 1\n",
    "        result = []\n",
    "        for i, node in enumerate(nodes):\n",
    "            rand_idx = node_to_index[node.random] if node.random else None\n",
    "            result.append([node.val, rand_idx])\n",
    "        return result\n",
    "\n",
    "    input_data = [[7, None], [13, 0], [11, 4], [10, 2], [1, 0]]\n",
    "    head = create_linked_list(input_data)\n",
    "    copied_head = Solution138_I().copyRandomList(head)\n",
    "    output = to_list(copied_head)\n",
    "    assert output == input_data, f\"Test failed! Output: {output}\"\n",
    "    print(\"Test passed!\")\n",
    "\n",
    "test_Solution138_A()"
   ]
  },
  {
   "cell_type": "markdown",
   "id": "66df1fb3",
   "metadata": {},
   "source": [
    "## 109. Convert Sorted List to Binary Search\n",
    "\n",
    "Given the head of a singly linked list where elements are sorted in ascending order, convert it to a height-balanced binary search tree.\n",
    "\n"
   ]
  },
  {
   "cell_type": "code",
   "execution_count": 35,
   "id": "cda03211",
   "metadata": {},
   "outputs": [],
   "source": [
    "class TreeNode:\n",
    "    def __init__(self, val=0, left=None, right=None):\n",
    "        self.val = val\n",
    "        self.left = left\n",
    "        self.right = right"
   ]
  },
  {
   "cell_type": "code",
   "execution_count": 36,
   "id": "e1e3c2d6",
   "metadata": {},
   "outputs": [],
   "source": [
    "class Solution109:\n",
    "    def findPrevMid(self, head: Optional[ListNode]):\n",
    "        dummy = ListNode(0, head)\n",
    "        slow, fast = dummy, dummy\n",
    "        while fast.next and fast.next.next:\n",
    "            slow = slow.next\n",
    "            fast = fast.next.next\n",
    "\n",
    "        return slow\n",
    "\n",
    "    def sortedListToBST(self, head: Optional[ListNode]) -> Optional[TreeNode]:\n",
    "        if not head:\n",
    "            return None\n",
    "        if not head.next:\n",
    "            return TreeNode(head.val)\n",
    "        \n",
    "        prev = self.findPrevMid(head)\n",
    "        mid = prev.next\n",
    "        prev.next = None\n",
    "        right = mid.next\n",
    "\n",
    "        return TreeNode(mid.val, self.sortedListToBST(head), self.sortedListToBST(right))"
   ]
  },
  {
   "cell_type": "code",
   "execution_count": 37,
   "id": "83f5cbb8",
   "metadata": {},
   "outputs": [
    {
     "name": "stdout",
     "output_type": "stream",
     "text": [
      "Test passed!\n"
     ]
    }
   ],
   "source": [
    "def test_Solution109():\n",
    "    input_list = [-10, -3, 0, 5, 9]\n",
    "    head = make(input_list)\n",
    "    tree = Solution109().sortedListToBST(head)\n",
    "    \n",
    "    # Helper to get inorder traversal of BST\n",
    "    def inorder(root):\n",
    "        return inorder(root.left) + [root.val] + inorder(root.right) if root else []\n",
    "    \n",
    "    output = inorder(tree)\n",
    "    assert output == sorted(input_list), f\"Test failed! Output: {output}\"\n",
    "    print(\"Test passed!\")\n",
    "\n",
    "test_Solution109()"
   ]
  }
 ],
 "metadata": {
  "kernelspec": {
   "display_name": "py (3.11.13)",
   "language": "python",
   "name": "python3"
  },
  "language_info": {
   "codemirror_mode": {
    "name": "ipython",
    "version": 3
   },
   "file_extension": ".py",
   "mimetype": "text/x-python",
   "name": "python",
   "nbconvert_exporter": "python",
   "pygments_lexer": "ipython3",
   "version": "3.11.13"
  }
 },
 "nbformat": 4,
 "nbformat_minor": 5
}
