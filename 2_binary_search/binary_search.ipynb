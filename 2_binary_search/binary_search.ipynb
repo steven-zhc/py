{
 "cells": [
  {
   "cell_type": "markdown",
   "id": "1a2b3c4d",
   "metadata": {},
   "source": [
    "# Binary Search"
   ]
  },
  {
   "metadata": {
    "ExecuteTime": {
     "end_time": "2025-10-07T17:08:53.147671Z",
     "start_time": "2025-10-07T17:08:53.123939Z"
    }
   },
   "cell_type": "code",
   "source": "from typing import List, Optional",
   "id": "735f2ab036204e77",
   "outputs": [],
   "execution_count": 1
  },
  {
   "cell_type": "markdown",
   "id": "2b3c4d5e",
   "metadata": {},
   "source": [
    "## 33. Search in Rotated Sorted Array\n",
    "\n",
    "[Link](https://leetcode.com/problems/search-in-rotated-sorted-array/description/)\n",
    "\n",
    "There is an integer array nums sorted in ascending order (with distinct values).\n",
    "\n",
    "Prior to being passed to your function, nums is possibly rotated at an unknown pivot index k (1 <= k < nums.length) such that the resulting array is [nums[k], nums[k+1], ..., nums[n-1], nums[0], nums[1], ..., nums[k-1]] (0-indexed). For example, [0,1,2,4,5,6,7] might be rotated at pivot index 3 and become [4,5,6,7,0,1,2].\n",
    "\n",
    "Given the array nums after the possible rotation and an integer target, return the index of target if it is in nums, or -1 if it is not in nums.\n",
    "\n",
    "You must write an algorithm with O(log n) runtime complexity."
   ]
  },
  {
   "cell_type": "code",
   "id": "3c4d5e6f",
   "metadata": {
    "ExecuteTime": {
     "end_time": "2025-10-07T17:09:32.346421Z",
     "start_time": "2025-10-07T17:09:32.298392Z"
    }
   },
   "source": [
    "class Solution33:\n",
    "    def search(self, nums: List[int], target: int) -> int:\n",
    "        if not nums:\n",
    "            return -1\n",
    "        \n",
    "        start, end = 0, len(nums) - 1\n",
    "        while start + 1 < end:\n",
    "            mid = (start + end) // 2\n",
    "            if nums[mid] == target:\n",
    "                return mid\n",
    "            elif nums[start] < nums[mid]:\n",
    "                if nums[start] <= target <= nums[mid]:\n",
    "                    end = mid\n",
    "                else:\n",
    "                    start = mid\n",
    "            else:\n",
    "                if nums[mid] <= target <= nums[end]:\n",
    "                    start = mid\n",
    "                else:\n",
    "                    end = mid\n",
    "        \n",
    "        if nums[start] == target:\n",
    "            return start\n",
    "        if nums[end] == target:\n",
    "            return end\n",
    "        \n",
    "        return -1"
   ],
   "outputs": [],
   "execution_count": 2
  },
  {
   "cell_type": "markdown",
   "id": "0d1e2f3a",
   "metadata": {},
   "source": [
    "## 81. Search in Rotated Sorted Array II\n",
    "\n",
    "[Link](https://leetcode.com/problems/search-in-rotated-sorted-array-ii/description/)\n",
    "\n",
    "There is an integer array nums sorted in non-decreasing order (not necessarily with distinct values).\n",
    "\n",
    "Before being passed to your function, nums is rotated at an unknown pivot index k (0 <= k < nums.length) such that the resulting array is [nums[k], nums[k+1], ..., nums[n-1], nums[0], nums[1], ..., nums[k-1]] (0-indexed). For example, [0,1,2,4,4,4,5,6,6,7] might be rotated at pivot index 5 and become [4,5,6,6,7,0,1,2,4,4].\n",
    "\n",
    "Given the array nums after the rotation and an integer target, return true if target is in nums, or false if it is not in nums.\n",
    "\n",
    "You must decrease the overall operation steps as much as possible."
   ]
  },
  {
   "cell_type": "code",
   "execution_count": null,
   "id": "1e2f3a4b",
   "metadata": {},
   "outputs": [],
   "source": [
    "class Solution81:\n",
    "    def search(self, nums: List[int], target: int) -> bool:\n",
    "        if not nums:\n",
    "            return False\n",
    "        \n",
    "        start, end = 0, len(nums) - 1\n",
    "\n",
    "        while start + 1 < end:\n",
    "            mid = (start + end) // 2\n",
    "\n",
    "            if nums[mid] == target:\n",
    "                return True\n",
    "            elif nums[start] == nums[mid]:\n",
    "                start += 1\n",
    "                continue\n",
    "            elif nums[start] <= nums[mid]:\n",
    "                if nums[start] <= target <= nums[mid]:\n",
    "                    end = mid\n",
    "                else:\n",
    "                    start = mid\n",
    "            else:\n",
    "                if nums[mid] <= target <= nums[end]:\n",
    "                    start = mid\n",
    "                else:\n",
    "                    end = mid\n",
    "                \n",
    "        if nums[start] == target or nums[end] == target:\n",
    "            return True\n",
    "        else:\n",
    "            return False"
   ]
  },
  {
   "metadata": {},
   "cell_type": "markdown",
   "source": [
    "## 35. Search Insert Position\n",
    "\n",
    "[Link](https://leetcode.com/problems/search-insert-position/description/)\n",
    "\n",
    "Given a sorted array of distinct integers and a target value, return the index if the target is found. If not, return the index where it would be if it were inserted in order.\n",
    "\n",
    "You must write an algorithm with O(log n) runtime complexity."
   ],
   "id": "40af4f6da1c2cbb1"
  },
  {
   "metadata": {},
   "cell_type": "code",
   "outputs": [],
   "execution_count": null,
   "source": [
    "class Solution35:\n",
    "    def searchInsert(self, nums: list[int], target: int) -> int:\n",
    "        if not nums:\n",
    "            return 0\n",
    "\n",
    "        start, end = 0, len(nums) - 1\n",
    "\n",
    "        while start + 1 < end:\n",
    "            mid = (start + end) // 2\n",
    "\n",
    "            if nums[mid] == target:\n",
    "                return mid\n",
    "            elif nums[mid] < target:\n",
    "                start = mid\n",
    "            else:\n",
    "                end = mid\n",
    "\n",
    "        if nums[start] >= target:\n",
    "            return start\n",
    "        elif nums[end] >= target:\n",
    "            return end\n",
    "        else:\n",
    "            return end + 1"
   ],
   "id": "db1ab677088e7487"
  },
  {
   "metadata": {},
   "cell_type": "markdown",
   "source": [
    "## 69. Sqrt(x)\n",
    "\n",
    "[Link](https://leetcode.com/problems/sqrtx/description/)\n",
    "\n",
    "Given a non-negative integer x, return the square root of x rounded down to the nearest integer. The returned integer should be non-negative as well.\n",
    "\n",
    "You must not use any built-in exponent function or operator."
   ],
   "id": "b5a8aa1b15a0b2f9"
  },
  {
   "metadata": {},
   "cell_type": "code",
   "outputs": [],
   "execution_count": null,
   "source": [
    "class Solution69:\n",
    "    def mySqrt(self, x: int) -> int:\n",
    "        if x <= 1:\n",
    "            return x\n",
    "\n",
    "        start, end = 1, x - 1\n",
    "        while start + 1 < end:\n",
    "            mid = (start + end) // 2\n",
    "            sq = mid * mid\n",
    "            if sq == x:\n",
    "                return mid\n",
    "            elif sq < x:\n",
    "                start = mid\n",
    "            else:\n",
    "                end = mid\n",
    "\n",
    "        if end * end <= x:\n",
    "            return end\n",
    "        else:\n",
    "            return start"
   ],
   "id": "ae48cbeeff43fa7f"
  },
  {
   "metadata": {},
   "cell_type": "markdown",
   "source": [
    "## 74. Search a 2D Matrix\n",
    "\n",
    "[Link](https://leetcode.com/problems/search-a-2d-matrix/description/)\n",
    "\n",
    "You are given an m x n integer matrix matrix with the following two properties:\n",
    "\n",
    "- Each row is sorted in non-decreasing order.\n",
    "- The first integer of each row is greater than the last integer of the previous row.\n",
    "\n",
    "Given an integer target, return true if target is in matrix or false otherwise.\n",
    "\n",
    "You must write a solution in O(log(m * n)) time complexity."
   ],
   "id": "6106a29277d18da"
  },
  {
   "metadata": {
    "ExecuteTime": {
     "end_time": "2025-10-07T17:10:06.665002Z",
     "start_time": "2025-10-07T17:10:06.651551Z"
    }
   },
   "cell_type": "code",
   "outputs": [],
   "execution_count": 3,
   "source": [
    "class Solution74:\n",
    "    def searchMatrix(self, matrix: List[List[int]], target: int) -> bool:\n",
    "        if not matrix or not matrix[0]:\n",
    "            return False\n",
    "\n",
    "        left, right = 0, len(matrix) * len(matrix[0]) - 1\n",
    "\n",
    "        n = len(matrix[0])\n",
    "\n",
    "        while left + 1 < right:\n",
    "            mid = (left + right) // 2\n",
    "\n",
    "            x, y = mid // n, mid % n\n",
    "\n",
    "            if matrix[x][y] == target:\n",
    "                return True\n",
    "            elif matrix[x][y] < target:\n",
    "                left = mid\n",
    "            else:\n",
    "                right = mid\n",
    "\n",
    "        if matrix[left // n][left % n] == target:\n",
    "            return True\n",
    "        elif matrix[right // n][right % n] == target:\n",
    "            return True\n",
    "        else:\n",
    "            return False"
   ],
   "id": "d146a1fe28c488eb"
  },
  {
   "cell_type": "markdown",
   "id": "2f3a4b5c",
   "metadata": {},
   "source": [
    "## 153. Find Minimum in Rotated Sorted Array\n",
    "\n",
    "[Link](https://leetcode.com/problems/find-minimum-in-rotated-sorted-array/description/)\n",
    "\n",
    "Suppose an array of length n sorted in ascending order is rotated between 1 and n times. For example, the array nums = [0,1,2,4,5,6,7] might become:\n",
    "\n",
    "- [4,5,6,7,0,1,2] if it was rotated 4 times.\n",
    "- [0,1,2,4,5,6,7] if it was rotated 7 times.\n",
    "\n",
    "Notice that rotating an array [a[0], a[1], a[2], ..., a[n-1]] 1 time results in the array [a[n-1], a[0], a[1], a[2], ..., a[n-2]].\n",
    "\n",
    "Given the sorted rotated array nums of unique elements, return the minimum element of this array.\n",
    "\n",
    "You must write an algorithm that runs in O(log n) time."
   ]
  },
  {
   "cell_type": "code",
   "execution_count": null,
   "id": "3a4b5c6d",
   "metadata": {},
   "outputs": [],
   "source": [
    "class Solution:\n",
    "    def findMin(self, nums: list[int]) -> int:\n",
    "        if not nums:\n",
    "            return 0\n",
    "        \n",
    "        start, end = 0, len(nums) - 1\n",
    "\n",
    "        while start + 1 < end:\n",
    "            mid = (start + end) // 2\n",
    "\n",
    "            if nums[mid] < nums[end]:\n",
    "                end = mid\n",
    "            else:\n",
    "                start = mid\n",
    "\n",
    "        return min(nums[start], nums[end])"
   ]
  },
  {
   "cell_type": "markdown",
   "id": "4b5c6d7e",
   "metadata": {},
   "source": [
    "## 154. Find Minimum in Rotated Sorted Array II\n",
    "\n",
    "[Link](https://leetcode.com/problems/find-minimum-in-rotated-sorted-array-ii/description/)\n",
    "\n",
    "Suppose an array of length n sorted in ascending order is rotated between 1 and n times. For example, the array nums = [0,1,4,4,5,6,7] might become:\n",
    "\n",
    "- [4,5,6,7,0,1,4] if it was rotated 4 times.\n",
    "- [0,1,4,4,5,6,7] if it was rotated 7 times.\n",
    "\n",
    "Notice that rotating an array [a[0], a[1], a[2], ..., a[n-1]] 1 time results in the array [a[n-1], a[0], a[1], a[2], ..., a[n-2]].\n",
    "\n",
    "Given the sorted rotated array nums that may contain duplicates, return the minimum element of this array.\n",
    "\n",
    "You must decrease the overall operation steps as much as possible."
   ]
  },
  {
   "cell_type": "code",
   "execution_count": null,
   "id": "5c6d7e8f",
   "metadata": {},
   "outputs": [],
   "source": [
    "class Solution:\n",
    "    def findMin(self, nums: List[int]) -> int:\n",
    "        if not nums:\n",
    "            raise Exception(\"nums are empty\")\n",
    "        \n",
    "        start, end = 0, len(nums) - 1\n",
    "        while start + 1 < end:\n",
    "            mid = (start + end) // 2\n",
    "\n",
    "            if nums[start] == nums[start + 1]:\n",
    "                start += 1\n",
    "            elif nums[start] < nums[mid]:\n",
    "                start = mid\n",
    "            else:\n",
    "                end = mid\n",
    "        \n",
    "        return min(nums[0], nums[-1], nums[start], nums[end])"
   ]
  },
  {
   "cell_type": "markdown",
   "id": "6d7e8f9a",
   "metadata": {},
   "source": [
    "## 162. Find Peak Element\n",
    "\n",
    "[Link](https://leetcode.com/problems/find-peak-element/description/)\n",
    "\n",
    "A peak element is an element that is strictly greater than its neighbors.\n",
    "\n",
    "Given a 0-indexed integer array nums, find a peak element, and return its index. If the array contains multiple peaks, return the index to any of the peaks.\n",
    "\n",
    "You may imagine that nums[-1] = nums[n] = -∞. In other words, an element is always considered to be strictly greater than a neighbor that is outside the array.\n",
    "\n",
    "You must write an algorithm that runs in O(log n) time."
   ]
  },
  {
   "cell_type": "code",
   "execution_count": null,
   "id": "7e8f9a0b",
   "metadata": {},
   "outputs": [],
   "source": [
    "class Solution:\n",
    "    def findPeakElement(self, nums: list[int]) -> int:\n",
    "        if not nums:\n",
    "            return -1\n",
    "        \n",
    "        start, end = 0, len(nums) - 1\n",
    "\n",
    "        while start + 1 < end:\n",
    "            mid = (start + end) // 2\n",
    "            if nums[mid] < nums[mid + 1]:\n",
    "                start = mid\n",
    "            elif nums[mid] < nums[mid - 1]:\n",
    "                end = mid\n",
    "            else:\n",
    "                return mid\n",
    "        \n",
    "        if nums[start] > nums[end]:\n",
    "            return start\n",
    "        else:\n",
    "            return end"
   ]
  },
  {
   "cell_type": "markdown",
   "id": "8f9a0b1c",
   "metadata": {},
   "source": [
    "## 278. First Bad Version\n",
    "\n",
    "[Link](https://leetcode.com/problems/first-bad-version/description/)\n",
    "\n",
    "You are a product manager and currently leading a team to develop a new product. Unfortunately, the latest version of your product fails the quality check. Since each version is developed based on the previous version, all the versions after a bad version are also bad.\n",
    "\n",
    "Suppose you have n versions [1, 2, ..., n] and you want to find out the first bad one, which causes all the following ones to be bad.\n",
    "\n",
    "You are given an API bool isBadVersion(version) which returns whether version is bad. Implement a function to find the first bad version. You should minimize the number of calls to the API."
   ]
  },
  {
   "cell_type": "code",
   "execution_count": null,
   "id": "9a0b1c2d",
   "metadata": {},
   "outputs": [],
   "source": [
    "# The isBadVersion API is already defined for you.\n",
    "# def isBadVersion(version: int) -> bool:\n",
    "\n",
    "class Solution:\n",
    "    def firstBadVersion(self, n: int) -> int:\n",
    "        if n <= 1:\n",
    "            return 1\n",
    "        start, end = 1, n \n",
    "        while start + 1 < end:\n",
    "            mid = (start + end) // 2\n",
    "\n",
    "            if isBadVersion(mid):\n",
    "                end = mid\n",
    "            else:\n",
    "                start = mid\n",
    "        \n",
    "        if isBadVersion(start):\n",
    "            return start\n",
    "        else:\n",
    "            return end"
   ]
  },
  {
   "cell_type": "markdown",
   "id": "0b1c2d3e",
   "metadata": {},
   "source": [
    "## 704. Binary Search Template\n",
    "\n",
    "[Link](https://leetcode.com/problems/binary-search/description/)\n",
    "\n",
    "Given an array of integers nums which is sorted in ascending order, and an integer target, write a function to search target in nums. If target exists, then return its index. Otherwise, return -1.\n",
    "\n",
    "You must write an algorithm with O(log n) runtime complexity."
   ]
  },
  {
   "cell_type": "code",
   "execution_count": null,
   "id": "1c2d3e4f",
   "metadata": {},
   "outputs": [],
   "source": [
    "def binarySearch(nums, target):\n",
    "  if not nums:\n",
    "    return -1\n",
    "  \n",
    "  start, end = 0, len(nums) - 1\n",
    "  while start + 1 < end:\n",
    "    mid = (start + end) // 2\n",
    "\n",
    "    if nums[mid] < target:\n",
    "      start = mid \n",
    "    elif nums[mid] == target:\n",
    "      end = mid\n",
    "    else:\n",
    "      end = mid\n",
    "  \n",
    "  if nums[start] == target:\n",
    "    return start\n",
    "  if nums[end] == target:\n",
    "    return end\n",
    "  \n",
    "  return -1"
   ]
  }
 ],
 "metadata": {
  "kernelspec": {
   "display_name": "Python 3",
   "language": "python",
   "name": "python3"
  },
  "language_info": {
   "codemirror_mode": {
    "name": "ipython",
    "version": 3
   },
   "file_extension": ".py",
   "mimetype": "text/x-python",
   "name": "python",
   "nbconvert_exporter": "python",
   "pygments_lexer": "ipython3",
   "version": "3.8.0"
  }
 },
 "nbformat": 4,
 "nbformat_minor": 5
}
